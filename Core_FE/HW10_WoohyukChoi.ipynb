{
 "cells": [
  {
   "cell_type": "code",
   "execution_count": 2,
   "metadata": {},
   "outputs": [
    {
     "name": "stdout",
     "output_type": "stream",
     "text": [
      "Probability to reach the end of the bridge: 0.1699\n",
      "Expected number of steps to reach either end of the bridge: 1408.3984\n"
     ]
    }
   ],
   "source": [
    "import numpy as np\n",
    "\n",
    "def simulate_walk(start_position=17, bridge_length=100):\n",
    "    position = start_position\n",
    "    steps = 0\n",
    "\n",
    "    while 0 < position < bridge_length:\n",
    "        # Make a step: -1 for backward, 1 for forward\n",
    "        step = np.random.choice([-1, 1])\n",
    "        position += step\n",
    "        steps += 1\n",
    "\n",
    "    return position, steps\n",
    "\n",
    "# Run Monte Carlo simulation\n",
    "np.random.seed(0)\n",
    "N_SIMULATIONS = 10000\n",
    "end_positions = np.zeros(N_SIMULATIONS, dtype=int)\n",
    "steps_taken = np.zeros(N_SIMULATIONS, dtype=int)\n",
    "\n",
    "for i in range(N_SIMULATIONS):\n",
    "    end_positions[i], steps_taken[i] = simulate_walk()\n",
    "\n",
    "# Compute probabilities and expected steps\n",
    "probability_reach_end = (end_positions == 100).mean()\n",
    "expected_steps = steps_taken.mean()\n",
    "\n",
    "print(f\"Probability to reach the end of the bridge: {probability_reach_end}\")\n",
    "print(f\"Expected number of steps to reach either end of the bridge: {expected_steps}\")\n"
   ]
  },
  {
   "cell_type": "code",
   "execution_count": 3,
   "metadata": {},
   "outputs": [
    {
     "name": "stdout",
     "output_type": "stream",
     "text": [
      "The game is worth approximately $4.21\n"
     ]
    }
   ],
   "source": [
    "import numpy as np\n",
    "\n",
    "def dice_game():\n",
    "    # Initialize expected values for the last turn\n",
    "    expected_values = np.zeros(7)\n",
    "    new_expected_values = np.zeros(7)\n",
    "\n",
    "    # Iterate backward through the game\n",
    "    for turn in range(2, -1, -1):\n",
    "        # Compute the new expected value for each dice roll\n",
    "        for roll in range(1, 7):\n",
    "            # Option 1: Take the money\n",
    "            take_money = roll\n",
    "\n",
    "            # Option 2: Roll again\n",
    "            roll_again = np.mean(expected_values) if turn < 2 else roll\n",
    "\n",
    "            # Choose the option with the highest expected value\n",
    "            new_expected_values[roll] = max(take_money, roll_again)\n",
    "\n",
    "        # Update the expected values\n",
    "        expected_values = new_expected_values.copy()\n",
    "\n",
    "    # The value of the game is the expected value of the first roll\n",
    "    game_value = np.mean(expected_values[1:])\n",
    "\n",
    "    return game_value\n",
    "\n",
    "game_value = dice_game()\n",
    "print(\"The game is worth approximately $%.2f\" % game_value)\n"
   ]
  },
  {
   "cell_type": "code",
   "execution_count": 4,
   "metadata": {},
   "outputs": [
    {
     "name": "stdout",
     "output_type": "stream",
     "text": [
      "2.8000000000000003\n"
     ]
    }
   ],
   "source": [
    "# Calculate the expected payout of the game\n",
    "def expected_payout():\n",
    "    payouts = [1, 2, 3, 4, 5, -1]  # -1 for the sixth outcome because we lose all the money\n",
    "    probabilities = [1/6, 1/6, 1/6, 1/6, 1/6, 1/6]  # all outcomes are equally likely\n",
    "\n",
    "    expected_value = sum(p*q for p, q in zip(payouts, probabilities))\n",
    "\n",
    "    return expected_value/(1 - probabilities[5])  # Account for the potential to play infinitely\n",
    "\n",
    "# Willing to pay up to the expected payout of the game\n",
    "print(expected_payout())\n"
   ]
  },
  {
   "cell_type": "code",
   "execution_count": null,
   "metadata": {},
   "outputs": [],
   "source": []
  }
 ],
 "metadata": {
  "kernelspec": {
   "display_name": "base",
   "language": "python",
   "name": "python3"
  },
  "language_info": {
   "codemirror_mode": {
    "name": "ipython",
    "version": 3
   },
   "file_extension": ".py",
   "mimetype": "text/x-python",
   "name": "python",
   "nbconvert_exporter": "python",
   "pygments_lexer": "ipython3",
   "version": "3.8.8"
  },
  "orig_nbformat": 4
 },
 "nbformat": 4,
 "nbformat_minor": 2
}
