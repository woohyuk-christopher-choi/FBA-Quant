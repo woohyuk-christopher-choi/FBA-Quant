{
 "cells": [
  {
   "cell_type": "markdown",
   "metadata": {},
   "source": [
    "# FBA Quant FE Session HW2\n",
    "\n",
    "## Woohyuk Choi"
   ]
  },
  {
   "cell_type": "code",
   "execution_count": 1,
   "metadata": {},
   "outputs": [],
   "source": [
    "# Import\n",
    "\n",
    "import time\n",
    "import numpy as np\n",
    "import scipy\n",
    "from scipy.stats import norm\n",
    "import matplotlib.pyplot as plt\n",
    "import pandas as pd\n",
    "import math as math\n",
    "from tabulate import tabulate"
   ]
  },
  {
   "cell_type": "markdown",
   "metadata": {},
   "source": [
    "## Problem 1"
   ]
  },
  {
   "cell_type": "markdown",
   "metadata": {},
   "source": [
    "***\n",
    "*There are three bonds in the market as follows:*\n",
    "\n",
    "1. A bond with 4% coupon rate (paid annually), 10 years to maturity, and $1,000 face value\n",
    "\n",
    "2. A bond with 4% plus current (short) rate (paid annually), 10 years to maturity, and $1,000 face value\n",
    "\n",
    "3. A bond with 8% minus current (short) rate (paid annually), 10 years to maturity, and $1,000 face value\n",
    "\n",
    "*The prices of the bonds are $950, $1,100, and $900, respectively.*\n",
    "\n",
    "(a) Derive the price of a zero-coupon bond with 10 years to maturity and $1,000 face value.\n",
    "\n",
    "(b) Derive the price of a floating-rate bond (coupon paid annually) with 10 years to maturity and $1,000 face value.\n",
    "\n",
    "***"
   ]
  },
  {
   "cell_type": "markdown",
   "metadata": {},
   "source": [
    "### Solution For 1-(a)\n",
    "\n"
   ]
  },
  {
   "cell_type": "markdown",
   "metadata": {},
   "source": [
    "####  - Yield to Maturity for Each Bond\n",
    "\n",
    "Yield to Maturity , 즉 만기수익률은 채권의 미래 현금흐름을 채권의 현재 가격과 일치시키는 할인율을 의미한다.\n",
    "* 단기이자율은 2023-01의 3.54%를 이용하였음.\n",
    "\n",
    "$$ YTM = \\frac {C + (\\frac {FV - PV} n )} {(\\frac {FV + PV } {2})} $$\n",
    "$$ PV = \\frac {FV} {(1+YTM)^n} $$"
   ]
  },
  {
   "cell_type": "code",
   "execution_count": 11,
   "metadata": {},
   "outputs": [
    {
     "name": "stdout",
     "output_type": "stream",
     "text": [
      "+----+--------+-----------+\n",
      "|    | Bond   |       YTM |\n",
      "|----+--------+-----------|\n",
      "|  0 | Bond 1 | 0.0461538 |\n",
      "|  1 | Bond 2 | 0.0622857 |\n",
      "|  2 | Bond 3 | 0.0574737 |\n",
      "+----+--------+-----------+\n"
     ]
    }
   ],
   "source": [
    "# Function to derive Yield to Maturity\n",
    "def YTM(C, FV, PV, n):\n",
    "    return (C + ((FV - PV)/n)) / ((FV + PV)/2)\n",
    "\n",
    "YTM1 = YTM(40,1000,950,10)\n",
    "YTM2 = YTM(75.4,1000,1100,10)\n",
    "YTM3 = YTM(44.6,1000,900,10)\n",
    "\n",
    "dict_test = {\n",
    "    'Bond': ['Bond 1','Bond 2', 'Bond 3'],\n",
    "    'YTM': [YTM1, YTM2, YTM3],\n",
    "    \n",
    "}\n",
    "df_test = pd.DataFrame(dict_test)\n",
    "print(tabulate(df_test, headers='keys', tablefmt='psql', showindex=True))\n"
   ]
  },
  {
   "cell_type": "code",
   "execution_count": 13,
   "metadata": {},
   "outputs": [
    {
     "name": "stdout",
     "output_type": "stream",
     "text": [
      "+----+--------+---------+\n",
      "|    | Bond   |   Price |\n",
      "|----+--------+---------|\n",
      "|  0 | Bond 1 | 636.861 |\n",
      "|  1 | Bond 2 | 546.495 |\n",
      "|  2 | Bond 3 | 571.879 |\n",
      "+----+--------+---------+\n"
     ]
    }
   ],
   "source": [
    "def priceofbond(FV, rate, n):\n",
    "    return FV/((1+rate)**n)\n",
    "\n",
    "price1 = priceofbond(1000,YTM1,10)\n",
    "price2 = priceofbond(1000,YTM2,10)\n",
    "price3 = priceofbond(1000,YTM3,10)\n",
    "\n",
    "dict_test = {\n",
    "    'Bond': ['Bond 1','Bond 2', 'Bond 3'],\n",
    "    'Price': [price1, price2, price3],\n",
    "    \n",
    "}\n",
    "df_test = pd.DataFrame(dict_test)\n",
    "print(tabulate(df_test, headers='keys', tablefmt='psql', showindex=True))\n"
   ]
  },
  {
   "cell_type": "markdown",
   "metadata": {},
   "source": [
    "#### Solution For 1-(b)"
   ]
  },
  {
   "cell_type": "code",
   "execution_count": null,
   "metadata": {},
   "outputs": [],
   "source": []
  },
  {
   "cell_type": "markdown",
   "metadata": {},
   "source": [
    "## Problem 2"
   ]
  },
  {
   "cell_type": "markdown",
   "metadata": {},
   "source": [
    "***\n",
    "Under continuous compounding the **Macaulay duration** becomes \n",
    "$$ D = \\frac{\\sum_{k=0}^{n}t_k e^{-\\lambda t_k}c_k} {P} $$\n",
    "Where $\\lambda$ is the yield and\n",
    "$$ P = \\sum_{k=0}^{n} e^{-\\lambda t_k}c_k $$\n",
    "Find $\\frac{\\mathrm{d} P}{\\mathrm{d} \\lambda}$ in terms of $D$ and $P$.\n",
    "***"
   ]
  },
  {
   "cell_type": "markdown",
   "metadata": {},
   "source": [
    "#### Solution For 2"
   ]
  },
  {
   "cell_type": "markdown",
   "metadata": {},
   "source": [
    "$$\\frac{\\mathrm{d} P}{\\mathrm{d} \\lambda} = \\sum_{k=0}^{n} -t_k e^{-\\lambda t_k} c_k$$\n",
    "$$ = - \\sum_{k=0}^{n} t_k e^{-\\lambda t_k} c_k$$ \n",
    "$$ = -DP $$\n",
    "\n",
    "$$ \\therefore \\frac{\\mathrm{d} P}{\\mathrm{d} \\lambda} = -DP $$"
   ]
  },
  {
   "cell_type": "markdown",
   "metadata": {},
   "source": [
    "## Problem 3\n",
    "\n",
    "***\n",
    "Mr A. Gaylord manages a pension fund and believes that the his stock selection ability is excellent.<br>\n",
    "However, he is worried because the market could go down.<br><br>\n",
    "He considers entering an equity swap where each quarter $i$, up to quarter $M$,<br>\n",
    "he pays counterparty $B$ the previous quarters total rate of return $r$ on the S&P 500 index times $i$\n",
    "some notional principal and receives payments at a fixed rate $r$ on the same principal.<br><br>\n",
    "The total rate of return includes dividends. <br><br>\n",
    "Specifically, $1 + 𝑟_i = (𝑆_i + 𝑑_i)/𝑆_{i-1}$,where $𝑆_i$ and $𝑑_𝑖$ are the values of the index at $i$ and the dividends received from $i-1$ to $i$, respectively.<br><br>\n",
    "Derive the value of such a swap by the following steps:<br><br>\n",
    "(a) Let $V_{i-1}(S_i + d_i)$ denote the value at time $i−1$ of receiving $S_i + d_i$ at time $i$. Argue that $𝑉_{i-1}(𝑆_i + 𝑑_i)=𝑆_{i-1}$ <br><br>\n",
    "(b) Find $V_0 (r_i)$ <br><br>\n",
    "(c) Find $\\sum_{i=1}^M V_0 (r_i)$<br><br>\n",
    "(d) Find **the value of the swap**\n",
    "***"
   ]
  },
  {
   "cell_type": "markdown",
   "metadata": {},
   "source": [
    "#### Solution For 3-(a)"
   ]
  },
  {
   "cell_type": "markdown",
   "metadata": {},
   "source": [
    "Market price at time $i-1$ for the cash flow $(S_i + d_i)$ is $S_{i-1}$.<br>\n",
    "Therefore, $V_{i-1}(S_i + d_i) = S_{i-1}$ holds. <br>\n"
   ]
  },
  {
   "cell_type": "markdown",
   "metadata": {},
   "source": [
    "#### Solution For 3-(b)"
   ]
  },
  {
   "cell_type": "markdown",
   "metadata": {},
   "source": [
    "Keep Discounting $V_i(r_i)$ back to $t=0$ <br><br>\n",
    "We have\n",
    "$$ V_{i-1}(r_i) = V_{i-1} ([S_i + d_i - S_{i-1}]/S_{t-1})$$\n",
    "$$ = 1 - V_{i-1}[1] $$\n",
    "$$ = 1 - d(i-1 , i) $$"
   ]
  },
  {
   "cell_type": "markdown",
   "metadata": {},
   "source": [
    "Since $d(0,i-1) d(i-1, i) = d(0,i)$ ,<br><br>\n",
    "Hence $$V_0 (r_i) = d(0, i-1) [1 - d(i-1 , i)] = d(0, i-1) - d(0,i)$$"
   ]
  },
  {
   "cell_type": "markdown",
   "metadata": {},
   "source": [
    "#### Solution For 3-(c)\n"
   ]
  },
  {
   "cell_type": "markdown",
   "metadata": {},
   "source": [
    "$$\\sum _{i=1} ^M V_0 (r_i) = [d(0,0) -  d(0,1)] + [d(0,1) - d(0,2)] + ... +[d(0, M-1) -d(0,M)]$$\n",
    "$$ = 1 - d(0,M) $$"
   ]
  },
  {
   "cell_type": "markdown",
   "metadata": {},
   "source": [
    "#### Solution For 3-(d)\n",
    "\n",
    "$$ Value = {\\sum _{i=1}^M d(0,i)r - [1 - d(0,M)]}N$$\n",
    "By using the result of 3-(c),\n",
    "$$ = \\sum _{i=1}^M {(d(0,i)r - V_0 (r_i))}N $$"
   ]
  },
  {
   "cell_type": "markdown",
   "metadata": {},
   "source": [
    "## Problem 4\n",
    "***\n",
    "Farmer D. Jones has a crop of grapefruit juice that will be ready for harvest and sale as 150,000 pounds of grapefruit juice in 3 months. <br><br>\n",
    "Jones is worried about possible price changes, so he is considering hedging. <br><br>\n",
    "There is no futures contract for grapefruit juice, but there is a futures contract for orange juice. <br><br>\n",
    "His son, Gavin, recently studied minimum-variance hedging and suggests it as a possible approach. <br><br>\n",
    "Currently the spot prices are $1.20 per pound for orange juice and $1.50 per pound for grapefruit juice. <br><br>\n",
    "The standard deviation of the prices of orange juice and grapefruit juice is about 20% per year, and the correlation coefficient between them is about 0.7. <br><br>\n",
    "What is the minimum variance hedge for farmer Jones, and how effective is this hedge as compared to no hedge?\n",
    "***\n"
   ]
  },
  {
   "cell_type": "markdown",
   "metadata": {},
   "source": [
    "$$ h = - \\beta W = - A \\rho \\frac {\\sigma _G} {\\sigma _O} \\frac {S_G} {S_O} $$\n",
    "\n",
    "* A = Quantity of Harvest\n",
    "* $\\sigma$ = volatility\n",
    "* $S$ = spot price"
   ]
  },
  {
   "cell_type": "code",
   "execution_count": 25,
   "metadata": {},
   "outputs": [
    {
     "name": "stdout",
     "output_type": "stream",
     "text": [
      "h =  -150000\n",
      "Reduction Of Volatility =  0.6\n"
     ]
    }
   ],
   "source": [
    "vol_orange = 0.2\n",
    "vol_grape = 0.2\n",
    "spot_orange = 1.2\n",
    "spot_grape = 1.5\n",
    "corr = 0.8\n",
    "\n",
    "A = 150000\n",
    "\n",
    "def hedge(harvest, corr, vol1, vol2, spot1, spot2):\n",
    "    hed = - harvest * corr * (vol2/vol1) * (spot2/spot1)\n",
    "    return hed\n",
    "\n",
    "h = hedge(A,corr, vol_orange, vol_grape, spot_orange, spot_grape)\n",
    "\n",
    "ReducOfVol = math.sqrt(1-corr**2)\n",
    "\n",
    "print(\"h = \",int(h))\n",
    "print(\"Reduction Of Volatility = \", round(ReducOfVol,4))\n",
    "\n"
   ]
  },
  {
   "cell_type": "markdown",
   "metadata": {},
   "source": [
    "## Problem 5\n",
    "\n",
    "***\n",
    "A rabbit sits at the bottom of a staircase with n stairs. <br><br>\n",
    "The rabbit can hop up only one or two or three stairs at a time. <br><br>\n",
    "How many different combinations are there for the rabbit to ascend to the top of the stairs? <br><br>\n",
    "Try to solve this problem with Python using **recursive function**.\n",
    "***"
   ]
  },
  {
   "cell_type": "markdown",
   "metadata": {},
   "source": [
    "### By using Recursive Function\n",
    "\n",
    "Time Complexity = $O(3^n)$"
   ]
  },
  {
   "cell_type": "code",
   "execution_count": 6,
   "metadata": {},
   "outputs": [
    {
     "name": "stdout",
     "output_type": "stream",
     "text": [
      "927\n",
      "\n",
      "computation time :\n",
      "0.0007810592651367188 s\n"
     ]
    }
   ],
   "source": [
    "start = time.time()\n",
    "\n",
    "def rabbit(n):\n",
    "    if ( n == 0 ):\n",
    "        return 1\n",
    "    elif (n < 0):\n",
    "        return 0\n",
    " \n",
    "    else:\n",
    "        return rabbit(n - 3) + rabbit(n - 2) + rabbit(n - 1)\n",
    "\n",
    "n = 12\n",
    "print (rabbit(n))\n",
    "end = time.time()\n",
    "print(\"\\ncomputation time :\")\n",
    "print(end - start , \"s\")"
   ]
  },
  {
   "cell_type": "markdown",
   "metadata": {},
   "source": [
    "### By using Dynamic Programming Algorithm\n",
    "\n",
    "Time Complexity = $O(n)$"
   ]
  },
  {
   "cell_type": "code",
   "execution_count": 7,
   "metadata": {},
   "outputs": [
    {
     "name": "stdout",
     "output_type": "stream",
     "text": [
      "927\n",
      "\n",
      "computation time :\n",
      "0.00014209747314453125 s\n"
     ]
    }
   ],
   "source": [
    "start = time.time()\n",
    "def dynamicrabbit(n):\n",
    "    r = [0] * (n + 2)\n",
    "    r[0] = 1\n",
    "    r[1] = 1\n",
    "    r[2] = 2\n",
    " \n",
    "    for i in range(3, n + 1):\n",
    "        r[i] = r[i - 1] + r[i - 2] + r[i - 3]\n",
    " \n",
    "    return r[n]\n",
    "\n",
    "n = 12\n",
    "print (dynamicrabbit(n))\n",
    "end = time.time()\n",
    "print(\"\\ncomputation time :\")\n",
    "print(end - start , \"s\")"
   ]
  },
  {
   "cell_type": "code",
   "execution_count": null,
   "metadata": {},
   "outputs": [],
   "source": []
  }
 ],
 "metadata": {
  "kernelspec": {
   "display_name": "Python 3.8.8 ('base')",
   "language": "python",
   "name": "python3"
  },
  "language_info": {
   "codemirror_mode": {
    "name": "ipython",
    "version": 3
   },
   "file_extension": ".py",
   "mimetype": "text/x-python",
   "name": "python",
   "nbconvert_exporter": "python",
   "pygments_lexer": "ipython3",
   "version": "3.8.8"
  },
  "orig_nbformat": 4,
  "vscode": {
   "interpreter": {
    "hash": "f2d3c77f0c618a37d50bae9f886179c8cfbbcea61877df2ad87ffd12356ec3c8"
   }
  }
 },
 "nbformat": 4,
 "nbformat_minor": 2
}
