{
 "cells": [
  {
   "attachments": {},
   "cell_type": "markdown",
   "metadata": {},
   "source": [
    "# FBA Quant FE Session HW6\n",
    "\n",
    "## Woohyuk Choi"
   ]
  },
  {
   "cell_type": "code",
   "execution_count": 1,
   "metadata": {},
   "outputs": [],
   "source": [
    "# Import\n",
    "\n",
    "import time\n",
    "import numpy as np\n",
    "import scipy\n",
    "from scipy.stats import norm\n",
    "import matplotlib.pyplot as plt\n",
    "import pandas as pd\n",
    "import math as math\n",
    "import random"
   ]
  },
  {
   "attachments": {},
   "cell_type": "markdown",
   "metadata": {},
   "source": [
    "## Problem 1\n",
    "\n",
    "***\n",
    "<span style=\"font-size:100%\"> \n",
    "\n",
    "Consider a 10-year zero-coupon bond with face value \\$ 100. The interest rate is fixed at 5\\%. The credit spread for the bond is estimated to be 1\\%(except in part(a)). Calculate:\n",
    "\n",
    "\n",
    "</span> \n",
    "\n",
    "***\n"
   ]
  },
  {
   "attachments": {},
   "cell_type": "markdown",
   "metadata": {},
   "source": [
    "### Solution For 1 - (a)\n",
    "\n",
    "The bond value if there is no possibility of default"
   ]
  },
  {
   "attachments": {},
   "cell_type": "markdown",
   "metadata": {},
   "source": [
    "$$ \\frac {100} {(1+0.05)^{10}} \\approx \\$ 61.39 $$"
   ]
  },
  {
   "attachments": {},
   "cell_type": "markdown",
   "metadata": {},
   "source": [
    "### Solution For 1 - (b)\n",
    "\n",
    "The probability of default"
   ]
  },
  {
   "attachments": {},
   "cell_type": "markdown",
   "metadata": {},
   "source": [
    "Credit spread = 0.01 $\\rightarrow$ Default probability = 0.01\n",
    "\n",
    "$$ 1 - 0.99^{10} \\approx 0.0956 $$"
   ]
  },
  {
   "attachments": {},
   "cell_type": "markdown",
   "metadata": {},
   "source": [
    "### Solution For 1 - (c)\n",
    "\n",
    "The value if there is no recovery"
   ]
  },
  {
   "attachments": {},
   "cell_type": "markdown",
   "metadata": {},
   "source": [
    "Default probability (By 1 - (b)) = 0.0956\n",
    "\n",
    "$$\\therefore \\frac {100 \\times (1-0.0956)} {(1.05)^{10}} \\approx \\$ 55.52$$"
   ]
  },
  {
   "attachments": {},
   "cell_type": "markdown",
   "metadata": {},
   "source": [
    "### Solution For 1 - (d)\n",
    "\n",
    "The value if there is 50\\% recovery at maturity"
   ]
  },
  {
   "attachments": {},
   "cell_type": "markdown",
   "metadata": {},
   "source": [
    "$$\\frac {100 \\times (1 - 0.0956) + 50 \\times 0.0956} {(1.05)^{10}} = \\$ 58.18$$"
   ]
  },
  {
   "attachments": {},
   "cell_type": "markdown",
   "metadata": {},
   "source": [
    "### Solution For 1 - (e)\n",
    "\n",
    "The value of \\$ 100 that is paid at default"
   ]
  },
  {
   "attachments": {},
   "cell_type": "markdown",
   "metadata": {},
   "source": [
    "\\$ 63"
   ]
  },
  {
   "attachments": {},
   "cell_type": "markdown",
   "metadata": {},
   "source": [
    "## Problem 2"
   ]
  },
  {
   "attachments": {},
   "cell_type": "markdown",
   "metadata": {},
   "source": [
    "***\n",
    "Consider the interest-only (IO) and principal-only (PO) securities in a deterministic world without prepayments and defaults. These securities have time k cash-flows of $𝑃_𝑘≔𝐵−𝑐𝑀_{𝑘−1}$ and $𝐼_𝑘≔𝑐𝑀_{𝑘−1}$, respectively, for k=1,⋯,n and where $𝑀_𝑘$ (and all other notation) is defined in Coursera.\n",
    "***"
   ]
  },
  {
   "attachments": {},
   "cell_type": "markdown",
   "metadata": {},
   "source": [
    "### Solution of 2 - (a) \n",
    "\n",
    "Compute the present value, $V_0$ , of the PO security."
   ]
  },
  {
   "attachments": {},
   "cell_type": "markdown",
   "metadata": {},
   "source": [
    "By using the notation in Coursera,\n",
    "\n",
    "$$ M_k = M_{k-1} - P_k = M_{k-1}(1+c) - B = \\cdots = M_0(1+c)^k - B \\frac {(1+c)^n - 1} c $$\n",
    "$$ M_n = M_0 (1+c)^n - B \\frac {(1+c)^n - 1} c = 0$$\n",
    "\n",
    "To get $V_0$ of the PO security,\n",
    "\n",
    "$$V_0 = \\sum_{k=1}^n P_k (1+r)^{-k} $$\n",
    "\n",
    "Then, we want to have the notation of $P_k$ here.\n",
    "\n",
    "$$P_k = - M_k + M_{k-1}$$\n",
    "\n",
    "By telescoping, we get \n",
    "$$M_k = M_0 \\frac {(1+c)^n - (1+c)^k} {(1+c)^n -1} $$\n",
    "\n",
    "By putting this one into above formula, we get:\n",
    "$$P_k = cM_0 \\frac {(1+c)^{k-1}} {(1+c)^n - 1}$$\n",
    "\n",
    "Hence,\n",
    "$$V_0 = \\sum_{k=1}^n \\frac {cM_0} {(1+r)^k} \\frac {(1+c)^{k-1}} {(1+c)^n -1} = \\frac {cM_0} {(1+c)^n -1} \\frac {(1+r)^n - (1+c)^n}{(1+r)^n(r-c)}$$"
   ]
  },
  {
   "attachments": {},
   "cell_type": "markdown",
   "metadata": {},
   "source": [
    "### Solution For 2 - (b)\n",
    "\n",
    "What happens to $V_0$ as $n \\rightarrow \\infty$?"
   ]
  },
  {
   "attachments": {},
   "cell_type": "markdown",
   "metadata": {},
   "source": [
    "$$\\lim_{n\\rightarrow \\infty} V_0 = 0$$"
   ]
  },
  {
   "attachments": {},
   "cell_type": "markdown",
   "metadata": {},
   "source": [
    "### Solution For 2 - (c)\n",
    "\n",
    "Compute the present value, $W_0$, of the IO security."
   ]
  },
  {
   "attachments": {},
   "cell_type": "markdown",
   "metadata": {},
   "source": [
    "By definition, \n",
    "$$I_k = cM_{k-1} = cM_0 \\frac {(1+c)^n - (1+c)^{k-1}} {(1+c)^n -1}$$"
   ]
  },
  {
   "attachments": {},
   "cell_type": "markdown",
   "metadata": {},
   "source": [
    "By using the same method with 2 - (a) for $I_k$ , we get..\n",
    "\n",
    "$$W_0 = \\frac {cM_0 (1+c)^n} {(1+c)^n -1} \\frac {(1+r)^n -1}{r(1+r)^n} - \\frac {cM_0}{(1+r)^n - 1} \\frac {(1+r)^n -(1+c)^n}{(1+r)^n(r-c)}$$"
   ]
  },
  {
   "attachments": {},
   "cell_type": "markdown",
   "metadata": {},
   "source": [
    "### Solution For 2 - (d)\n",
    "\n",
    "Which of the two securities do you think has the longer duration? Justify your answer.\n"
   ]
  },
  {
   "attachments": {},
   "cell_type": "markdown",
   "metadata": {},
   "source": [
    "## Problem 3"
   ]
  },
  {
   "attachments": {},
   "cell_type": "markdown",
   "metadata": {},
   "source": [
    "***\n",
    "We can define the default intensity, $\\lambda(t)$ to be $$\\lambda(t)≔ \\frac{𝑓_\\tau(𝑡)}{𝑃(\\tau>𝑡)}$$\n",
    "where $\\tau$ is the time of default and $𝑓_\\tau(∙)$ is the PDF of $\\tau$. It therefore follows that $\\lambda(t)dt$ is equal to the probability of defaulting in the interval $(t,t+dt)$ given that default has not occurred in $[0,t]$. Show that $$P(\\tau>s)=𝑒^{−∫_0^s\\lambda(𝑡)𝑑𝑡}$$\n",
    "***"
   ]
  },
  {
   "attachments": {},
   "cell_type": "markdown",
   "metadata": {},
   "source": [
    "To derive the expression $P(\\tau>s)=e^{-\\int_0^s\\lambda(t)dt}$, we start by considering the probability of defaulting after time $s$, given that default has not occurred in $[0,s]$. This can be written as:\n",
    "\n",
    "\\begin{align*}\n",
    "P(\\tau>s)&=\\frac{P(\\tau>s \\cap \\tau>t)}{P(\\tau>t)} \\\\\n",
    "&=\\frac{P(\\tau>s)}{P(\\tau>t)} \\\\\n",
    "&=\\frac{\\int_s^\\infty f_\\tau(x)dx}{\\int_t^\\infty f_\\tau(x)dx} \\\\\n",
    "&=\\frac{\\int_s^\\infty \\lambda(x)P(\\tau>x)dx}{\\int_t^\\infty \\lambda(x)P(\\tau>x)dx} \\quad \\text{(using the definition of $\\lambda(t)$)}\\\\\n",
    "&=\\frac{\\int_s^\\infty \\lambda(x)e^{-\\int_0^x \\lambda(y)dy}dx}{\\int_t^\\infty \\lambda(x)e^{-\\int_0^x \\lambda(y)dy}dx} \\quad \\text{(using the survival function)}\\\\\n",
    "&=\\frac{\\int_s^\\infty d\\left(e^{-\\int_0^x \\lambda(y)dy}\\right)}{\\int_t^\\infty d\\left(e^{-\\int_0^x \\lambda(y)dy}\\right)} \\quad \\text{(using the chain rule)}\\\\\n",
    "&=\\frac{e^{-\\int_0^s \\lambda(x)dx}}{e^{-\\int_0^t \\lambda(x)dx}} \\\\\n",
    "&=e^{-\\int_t^s \\lambda(x)dx}\n",
    "\\end{align*}\n",
    "\n",
    "Thus, we have shown that $P(\\tau>s)=e^{-\\int_0^s\\lambda(t)dt}$, which is the desired result."
   ]
  },
  {
   "attachments": {},
   "cell_type": "markdown",
   "metadata": {},
   "source": [
    "## Problem 4"
   ]
  },
  {
   "attachments": {},
   "cell_type": "markdown",
   "metadata": {},
   "source": [
    "***\n",
    "Let $𝑋_1$ and $𝑋_2$ be IID random variables with uniform distribution between 0 and 1, $Y=min(𝑋_1,𝑋_2)$ and $Z=max (𝑋_1,𝑋_2)$. What is the probability of $Y≥y$ given that $Z≤z$ for any $y,z∈[0,1]$? What is the correlation of Y and Z?\n",
    "***"
   ]
  },
  {
   "attachments": {},
   "cell_type": "markdown",
   "metadata": {},
   "source": [
    "The joint PDF of $X_1$ and $X_2$ is given by $f_{X_1,X_2}(x_1,x_2)=1$ for $0 \\leq x_1, x_2 \\leq 1$.\n",
    "\n",
    "To find the probability of $Y \\geq y$ given that $Z \\leq z$, we can use the fact that $Y=\\min(X_1,X_2)$ and $Z=\\max(X_1,X_2)$, which implies that $Y \\geq y$ if and only if both $X_1 \\geq y$ and $X_2 \\geq y$, and $Z \\leq z$ if and only if both $X_1 \\leq z$ and $X_2 \\leq z$. Therefore, the probability we seek can be computed as:\n",
    "\n",
    "\\begin{align*}\n",
    "\\mathbb{P}(Y \\geq y | Z \\leq z) &= \\frac{\\mathbb{P}(Y \\geq y, Z \\leq z)}{\\mathbb{P}(Z \\leq z)} \\\\\n",
    "&= \\frac{\\int_y^z \\int_y^z dx_1 dx_2}{\\int_0^z \\int_0^z dx_1 dx_2} \\\\\n",
    "&= \\frac{(z-y)^2}{z^2}.\n",
    "\\end{align*}\n",
    "\n",
    "Thus, the conditional probability of $Y \\geq y$ given that $Z \\leq z$ is $(z-y)^2/z^2$.\n",
    "\n",
    "To find the correlation between $Y$ and $Z$, we first compute their covariance:\n",
    "\n",
    "\\begin{align*}\n",
    "\\text{Cov}(Y,Z) &= \\mathbb{E}[YZ]-\\mathbb{E}[Y]\\mathbb{E}[Z] \\\\\n",
    "&= \\mathbb{E}[\\min(X_1,X_2)\\max(X_1,X_2)]-\\frac{1}{4} \\\\\n",
    "&= \\int_0^1 \\int_0^1 \\min(x_1,x_2)\\max(x_1,x_2) dx_1 dx_2 - \\frac{1}{4} \\\\\n",
    "&= \\int_0^1 \\int_0^{x_2} x_1 x_2 dx_1 dx_2 + \\int_0^1 \\int_0^{x_1} x_1 x_2 dx_2 dx_1 - \\frac{1}{4} \\\\\n",
    "&= \\frac{1}{3}-\\frac{1}{4} \\\\\n",
    "&= \\frac{1}{12}.\n",
    "\\end{align*}\n",
    "\n",
    "The variances of $Y$ and $Z$ are $\\text{Var}(Y)=\\text{Var}(Z)=1/12$, since they are both uniform on the interval $[0,1]$. Therefore, the correlation coefficient between $Y$ and $Z$ is:\n",
    "\n",
    "\\begin{align*}\n",
    "\\text{Corr}(Y,Z) &= \\frac{\\text{Cov}(Y,Z)}{\\sqrt{\\text{Var}(Y)\\text{Var}(Z)}} \\\\\n",
    "&= \\frac{1/12}{1/12} \\\\\n",
    "&= 1.\n",
    "\\end{align*}\n",
    "\n",
    "Hence, $Y$ and $Z$ are perfectly positively correlated."
   ]
  }
 ],
 "metadata": {
  "kernelspec": {
   "display_name": "base",
   "language": "python",
   "name": "python3"
  },
  "language_info": {
   "codemirror_mode": {
    "name": "ipython",
    "version": 3
   },
   "file_extension": ".py",
   "mimetype": "text/x-python",
   "name": "python",
   "nbconvert_exporter": "python",
   "pygments_lexer": "ipython3",
   "version": "3.8.8"
  },
  "orig_nbformat": 4
 },
 "nbformat": 4,
 "nbformat_minor": 2
}
