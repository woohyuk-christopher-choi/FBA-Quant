{
 "cells": [
  {
   "cell_type": "markdown",
   "metadata": {},
   "source": [
    "# FBA Quant FE Session HW3\n",
    "\n",
    "## Woohyuk Choi"
   ]
  },
  {
   "cell_type": "code",
   "execution_count": 36,
   "metadata": {},
   "outputs": [],
   "source": [
    "# Import\n",
    "\n",
    "import time\n",
    "import numpy as np\n",
    "import scipy\n",
    "from scipy.stats import norm\n",
    "import matplotlib.pyplot as plt\n",
    "import pandas as pd\n",
    "import math as math\n",
    "import random"
   ]
  },
  {
   "cell_type": "markdown",
   "metadata": {},
   "source": [
    "## Problem 1\n",
    "\n",
    "\n",
    "***\n",
    "<span style=\"font-size:100%\"> \n",
    "\n",
    "Build a $ 15 $ -period binomial model whose parameters should be calibrated to a 'Black-Scholes geometric Brownian motion (GBM) model' with: \n",
    "\n",
    "$T = 0.25$ years, $S_0 = 100$, $r = 2$%, $\\sigma = 30$% and a dividend yield of $c = 1$%. \n",
    "\n",
    "Hint: Your binomial model should use a value of $u = 1.0395$. Now answer the following questions:\n",
    "\n",
    "</span> \n",
    "\n",
    "***"
   ]
  },
  {
   "cell_type": "markdown",
   "metadata": {},
   "source": [
    "### Solution of 1-(a),(b)\n"
   ]
  },
  {
   "cell_type": "markdown",
   "metadata": {},
   "source": [
    "Compute the price of an American call/put option with strike $K = 110$ and maturity $T = 0.25$ years."
   ]
  },
  {
   "cell_type": "code",
   "execution_count": 10,
   "metadata": {},
   "outputs": [],
   "source": [
    "S0 = 100\n",
    "K = 110\n",
    "T = 0.25\n",
    "r = 0.02\n",
    "N = 15\n",
    "u = 1.0395\n",
    "d = 1/u\n",
    "optiontype = 'P'\n",
    "\n"
   ]
  },
  {
   "cell_type": "code",
   "execution_count": 11,
   "metadata": {},
   "outputs": [
    {
     "data": {
      "text/html": [
       "<div>\n",
       "<style scoped>\n",
       "    .dataframe tbody tr th:only-of-type {\n",
       "        vertical-align: middle;\n",
       "    }\n",
       "\n",
       "    .dataframe tbody tr th {\n",
       "        vertical-align: top;\n",
       "    }\n",
       "\n",
       "    .dataframe thead th {\n",
       "        text-align: right;\n",
       "    }\n",
       "</style>\n",
       "<table border=\"1\" class=\"dataframe\">\n",
       "  <thead>\n",
       "    <tr style=\"text-align: right;\">\n",
       "      <th></th>\n",
       "      <th>call</th>\n",
       "      <th>put</th>\n",
       "    </tr>\n",
       "  </thead>\n",
       "  <tbody>\n",
       "    <tr>\n",
       "      <th>0</th>\n",
       "      <td>2.679125</td>\n",
       "      <td>12.227462</td>\n",
       "    </tr>\n",
       "  </tbody>\n",
       "</table>\n",
       "</div>"
      ],
      "text/plain": [
       "       call        put\n",
       "0  2.679125  12.227462"
      ]
     },
     "execution_count": 11,
     "metadata": {},
     "output_type": "execute_result"
    }
   ],
   "source": [
    "def american_tree(K, T, S0, r, N, u, d, optiontype='P'):\n",
    "    dt = T/N\n",
    "    q = (np.exp(r*dt) - d)/(u-d)\n",
    "    disc = np.exp(-r*dt)\n",
    "\n",
    "    S = np.zeros(N+1) \n",
    "    for j in range(0, N+1):\n",
    "        S[j] = S0 * u**j * d**(N-j) \n",
    "\n",
    "    C = np.zeros(N+1)\n",
    "    for j in range(0, N+1):\n",
    "        if optiontype == 'P':\n",
    "            C[j] = max(0, K-S[j])\n",
    "        else : \n",
    "            C[j] = max(0,S[j]-K)\n",
    "\n",
    "    for i in np.arange(N-1, -1, -1):\n",
    "        for j in range(0, i+1):\n",
    "            S = S0 * u**j * d**(i-j)\n",
    "            C[j] = disc * (q*C[j+1] + (1-q)*C[j])\n",
    "            if optiontype == 'P':\n",
    "                C[j] = max(C[j], K-S)\n",
    "            else:\n",
    "                C[j] = max(C[j], S-K) \n",
    "    \n",
    "    return C[0]\n",
    "\n",
    "\n",
    "put = american_tree(K,T,S0,r,N,u,d,optiontype='P')\n",
    "call = american_tree(K,T,S0,r,N,u,d,optiontype='C')\n",
    "\n",
    "df=pd.DataFrame([[call, put]], columns=['call','put'])\n",
    "df"
   ]
  },
  {
   "cell_type": "markdown",
   "metadata": {},
   "source": [
    "### Solution of 1-(c)\n",
    "\n",
    "Is it ever optimal to early exercise the put option of part (b)?"
   ]
  },
  {
   "cell_type": "markdown",
   "metadata": {},
   "source": [
    "No, early exercise never be optimal.\n",
    "\n",
    "Let $E$: one American call $c$, $X e^{−r(T −t)}$ cash , $F$ : one share $S$ be a two different portfolio.\n",
    "\n",
    "If the exercise time $\\tau < T$ , the value of $E$ is \n",
    "\n",
    "$$E= (S-X) + Xe^{-r(T-t)} < S  = F$$ \n",
    "\n",
    "If the exercise time $\\tau = T$ , the value of $E$ is\n",
    "\n",
    "$$E = \\max(S-X , 0) + X  > S = F$$\n",
    "\n",
    "Shortly, because of time value."
   ]
  },
  {
   "cell_type": "markdown",
   "metadata": {},
   "source": [
    "### Solution fo 1-(e)\n",
    "\n",
    "Do the call and put option prices of parts (a) and (b) satisfy put-call parity? Why or why not?\n",
    "\n",
    "No, if it applies , there will be an arbitrage."
   ]
  },
  {
   "cell_type": "markdown",
   "metadata": {},
   "source": [
    "## Problem 2\n",
    "\n",
    "***\n",
    "Consider the following two period binomial tree. \n",
    "\n",
    "Suppose you purchase an European call option with maturity $T = 2$, Strike = $100$. Suppose $R_f = 1.0001$, that is, $1 invested at $T = 0$ is worth $1.0001^r$ at time $ t $. At each time step, the stock can increase by $a$ factor of $1.05$ or decrease by a factor of $ \\frac {1}{1.05}$. \n",
    "\n",
    "Assume there is no arbitrage.\n",
    "***"
   ]
  },
  {
   "cell_type": "markdown",
   "metadata": {},
   "source": [
    "### Solution of 2 - (a)"
   ]
  },
  {
   "cell_type": "markdown",
   "metadata": {},
   "source": [
    "Compute the price of the option.\n"
   ]
  },
  {
   "cell_type": "code",
   "execution_count": 24,
   "metadata": {},
   "outputs": [
    {
     "name": "stdout",
     "output_type": "stream",
     "text": [
      "option price :  2.4487892664393067\n"
     ]
    }
   ],
   "source": [
    "u = 1.05\n",
    "d = 1/u\n",
    "rf = 1.0001\n",
    "\n",
    "p=(rf-d)/(u-d)\n",
    "\n",
    "s0 = 100\n",
    "su = 100*u\n",
    "sd = 100*d\n",
    "suu = 100*u*u\n",
    "sud = 100*u*d\n",
    "sdd = 100*d*d\n",
    "\n",
    "cuu = (suu-100)*p*p\n",
    "\n",
    "if sud > 100:\n",
    "    cud = (sud-100)*p*(1-p)\n",
    "else :\n",
    "    cud = 0\n",
    "\n",
    "if sdd > 100:\n",
    "    cdd = sdd*(1-p)*(1-p)\n",
    "else : \n",
    "    cdd = 0\n",
    "\n",
    "c_aftertwoyears = cuu + cud + cdd\n",
    "\n",
    "c_present = c_aftertwoyears * ((1/rf)**2)\n",
    "\n",
    "\n",
    "\n",
    "print('option price : ' , c_present)\n"
   ]
  },
  {
   "cell_type": "markdown",
   "metadata": {},
   "source": [
    "### Solution of 2-(b)\n"
   ]
  },
  {
   "cell_type": "markdown",
   "metadata": {},
   "source": [
    "Since European Call option = American Call option , option price is same."
   ]
  },
  {
   "cell_type": "markdown",
   "metadata": {},
   "source": [
    "## Problem 3"
   ]
  },
  {
   "cell_type": "markdown",
   "metadata": {},
   "source": [
    "***\n",
    "\n",
    "Suppose that $u = e^w$ , where $w$ is normal with expected value $\\bar{w}$ and variance $\\sigma ^2$ . Then, \n",
    "$$\\bar{u} = \\frac 1 {\\sqrt{2\\pi \\sigma^2}} \\int_{-\\infty}^{\\infty} e^w e^{-\\frac {(w-\\bar{w})^2} {2\\sigma^2}} dw $$\n",
    "\n",
    "Show that \n",
    "$$ w - \\frac {(w-\\bar{w})^2} {2\\sigma^2} = -\\frac 1 {2\\sigma^2} [w - (\\bar{w} + \\sigma^2)]^2 + \\bar{w} + \\frac {\\sigma^2} 2$$\n",
    "\n",
    "Use the fact that \n",
    "$$ \\frac 1 {\\sqrt{2\\pi\\sigma^2}} \\int_{-\\infty}^{\\infty} e^{-\\frac {(x-\\bar{x})^2} {2\\sigma^2}}dx = 1$$\n",
    "\n",
    "to evaluate $\\bar{u}$.\n",
    "\n",
    "***"
   ]
  },
  {
   "cell_type": "markdown",
   "metadata": {},
   "source": [
    "# Problem 4"
   ]
  },
  {
   "cell_type": "markdown",
   "metadata": {},
   "source": [
    "### Solution of 4-(a)"
   ]
  },
  {
   "cell_type": "code",
   "execution_count": 27,
   "metadata": {},
   "outputs": [
    {
     "name": "stdout",
     "output_type": "stream",
     "text": [
      "Expected rate :  1.1\n"
     ]
    }
   ],
   "source": [
    "grow=[1.6,1.5,1.4,1.3,1.2,1.15,1.1,1.05,1.02,1.01]\n",
    "\n",
    "u = 1.2\n",
    "d = 0.9\n",
    "rf = 1.1\n",
    "\n",
    "price = 2\n",
    "s0 = 5\n",
    "\n",
    "p=(rf-d)/(u-d)\n",
    "\n",
    "\n",
    "print(\"Expected rate : \" , p*u+(1-p)*d)\n",
    "\n",
    "\n"
   ]
  },
  {
   "cell_type": "markdown",
   "metadata": {},
   "source": [
    "As calculated above, expected rate is larger than $1$. Then, it is not good to cut."
   ]
  },
  {
   "cell_type": "markdown",
   "metadata": {},
   "source": [
    "### Solution of 4-(b)"
   ]
  },
  {
   "cell_type": "code",
   "execution_count": 33,
   "metadata": {},
   "outputs": [
    {
     "name": "stdout",
     "output_type": "stream",
     "text": [
      "10.96\n",
      "3.22\n",
      "-2.59\n",
      "-6.94\n",
      "-10.2\n",
      "-12.65\n",
      "-14.49\n",
      "-15.87\n",
      "-16.9\n",
      "-17.68\n",
      "-18.26\n"
     ]
    }
   ],
   "source": [
    "N = 10\n",
    "S0  = 5\n",
    "T = 10\n",
    "dt = T/N\n",
    "r = 0.1\n",
    "u = 1.2\n",
    "d = 0.9\n",
    "p = ( np.exp(r*dt) - d) / (u -d)\n",
    "\n",
    "for k in reversed(range(N+1)):\n",
    "    ST = S0 * u**k * d ** (N-k)\n",
    "    print(round(ST-20,2))\n",
    "\n"
   ]
  },
  {
   "cell_type": "markdown",
   "metadata": {},
   "source": [
    "# Problem 5\n"
   ]
  },
  {
   "cell_type": "markdown",
   "metadata": {},
   "source": [
    "$$p_k=p\\cdot p_{k+1}+(1-p)\\cdot p_{k-1}$$\n",
    "\n",
    "$$(p_(k+1)-p_k)=((1-p)/p)(p_k-p_(k-1))$$\n",
    "\n",
    "\n",
    "$$p_i=\\sum_{k=0}^{i-1} (\\frac q p)^k P_1$$\n",
    "\n",
    "$$P_n=1$$\n",
    "\n"
   ]
  },
  {
   "cell_type": "markdown",
   "metadata": {},
   "source": [
    "# Problem 6"
   ]
  },
  {
   "cell_type": "markdown",
   "metadata": {},
   "source": [
    "Since solution of Monty Hall problem is so famous, so I introduce the simulation of this problem by quotting internet code websites. "
   ]
  },
  {
   "cell_type": "code",
   "execution_count": 38,
   "metadata": {},
   "outputs": [
    {
     "data": {
      "text/plain": [
       "[1, 2, 3]"
      ]
     },
     "execution_count": 38,
     "metadata": {},
     "output_type": "execute_result"
    }
   ],
   "source": [
    "doors = [1, 2, 3]\n"
   ]
  },
  {
   "cell_type": "code",
   "execution_count": 40,
   "metadata": {},
   "outputs": [
    {
     "data": {
      "text/plain": [
       "1"
      ]
     },
     "execution_count": 40,
     "metadata": {},
     "output_type": "execute_result"
    }
   ],
   "source": [
    "import random\n",
    "\n",
    "def monty_door_random(doors, alice_door, prize_door):\n",
    "    monty_door = random.choice(doors)\n",
    "    return monty_door\n",
    "\n",
    "monty_door_random(doors, None, None)"
   ]
  },
  {
   "cell_type": "code",
   "execution_count": 42,
   "metadata": {},
   "outputs": [
    {
     "name": "stdout",
     "output_type": "stream",
     "text": [
      "Probability of getting prize when Monty chooses the door randomly?\n",
      " 0.495500\n"
     ]
    }
   ],
   "source": [
    "N = 10000\n",
    "result = [None]*N\n",
    "for i in range(N):\n",
    "    alice_door = random.choice(doors)\n",
    "    prize_door = random.choice(doors)\n",
    "    monty_door = monty_door_random(doors, alice_door, prize_door)\n",
    "\t\t\n",
    "\n",
    "    while monty_door == prize_door:\n",
    "         alice_door = random.choice(doors)\n",
    "         prize_door = random.choice(doors)\n",
    "         monty_door = monty_door_random(doors, alice_door, prize_door)\n",
    "    remaining_doors = set(doors) - {alice_door} - {monty_door}\n",
    "    result[i] = random.choice(list(remaining_doors)) == prize_door\n",
    "\n",
    "print (\"Probability of getting prize when Monty chooses the door randomly?\\n %f\" % (float(sum(result))/N))"
   ]
  },
  {
   "cell_type": "code",
   "execution_count": 44,
   "metadata": {},
   "outputs": [
    {
     "name": "stdout",
     "output_type": "stream",
     "text": [
      "Probability of getting prize when Monty chooses the door avoiding Alice?\n",
      " 0.501300\n"
     ]
    }
   ],
   "source": [
    "def monty_door_avoid_alice(doors, alice_door, prize_door):\n",
    "    candidates = list(set(doors) - {alice_door})\n",
    "    monty_door = random.choice(candidates)\n",
    "    return monty_door\n",
    "\n",
    "result = [None]*N\n",
    "for i in range(N):\n",
    "     alice_door = random.choice(doors)\n",
    "     prize_door = random.choice(doors)\n",
    "     monty_door = monty_door_avoid_alice(doors, alice_door, prize_door)\n",
    "     while monty_door == prize_door:\n",
    "         alice_door = random.choice(doors)\n",
    "         prize_door = random.choice(doors)\n",
    "         monty_door = monty_door_avoid_alice(doors, alice_door, prize_door)\n",
    "     \n",
    "     remaining_doors = set(doors) - {alice_door} - {monty_door}\n",
    "     result[i] = random.choice(list(remaining_doors)) == prize_door\n",
    "\n",
    "print (\"Probability of getting prize when Monty chooses the door avoiding Alice?\\n %f\" % (float(sum(result))/N))"
   ]
  },
  {
   "cell_type": "code",
   "execution_count": 45,
   "metadata": {},
   "outputs": [
    {
     "name": "stdout",
     "output_type": "stream",
     "text": [
      "Probability of getting prize when Monty chooses the door avoiding both Alice and Prize?\n",
      " 0.666900\n"
     ]
    }
   ],
   "source": [
    "def monty_door_avoid_both(doors, alice_door, prize_door):\n",
    "    candidates = list(set(doors) - {prize_door, alice_door})\n",
    "    monty_door = random.choice(candidates)\n",
    "    return monty_door\n",
    "\n",
    "result = [None]*N\n",
    "for i in range(N):\n",
    "     alice_door = random.choice(doors)\n",
    "     prize_door = random.choice(doors)\n",
    "     monty_door = monty_door_avoid_both(doors, alice_door, prize_door)\n",
    "     remaining_doors = set(doors) - {alice_door} - {monty_door}\n",
    "     result[i] = random.choice(list(remaining_doors)) == prize_door\n",
    "\n",
    "print (\"Probability of getting prize when Monty chooses the door avoiding both Alice and Prize?\\n %f\" % (float(sum(result))/N))"
   ]
  },
  {
   "cell_type": "code",
   "execution_count": null,
   "metadata": {},
   "outputs": [],
   "source": []
  }
 ],
 "metadata": {
  "kernelspec": {
   "display_name": "Python 3.8.8 ('base')",
   "language": "python",
   "name": "python3"
  },
  "language_info": {
   "codemirror_mode": {
    "name": "ipython",
    "version": 3
   },
   "file_extension": ".py",
   "mimetype": "text/x-python",
   "name": "python",
   "nbconvert_exporter": "python",
   "pygments_lexer": "ipython3",
   "version": "3.8.8"
  },
  "orig_nbformat": 4,
  "vscode": {
   "interpreter": {
    "hash": "f2d3c77f0c618a37d50bae9f886179c8cfbbcea61877df2ad87ffd12356ec3c8"
   }
  }
 },
 "nbformat": 4,
 "nbformat_minor": 2
}
