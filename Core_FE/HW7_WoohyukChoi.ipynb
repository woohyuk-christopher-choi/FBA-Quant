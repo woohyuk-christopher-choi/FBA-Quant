{
 "cells": [
  {
   "attachments": {},
   "cell_type": "markdown",
   "metadata": {},
   "source": [
    "# FBA Quant FE Session HW7\n",
    "\n",
    "## Woohyuk Choi\n"
   ]
  },
  {
   "cell_type": "code",
   "execution_count": 2,
   "metadata": {},
   "outputs": [],
   "source": [
    "import pandas as pd\n",
    "import numpy as np\n",
    "import math\n",
    "from scipy.stats import norm\n",
    "\n",
    "import matplotlib.pyplot as plt\n",
    "\n",
    "import warnings\n",
    "warnings.filterwarnings('ignore')"
   ]
  },
  {
   "attachments": {},
   "cell_type": "markdown",
   "metadata": {},
   "source": [
    "### Problem 1"
   ]
  },
  {
   "cell_type": "code",
   "execution_count": 4,
   "metadata": {},
   "outputs": [
    {
     "data": {
      "text/html": [
       "<div>\n",
       "<style scoped>\n",
       "    .dataframe tbody tr th:only-of-type {\n",
       "        vertical-align: middle;\n",
       "    }\n",
       "\n",
       "    .dataframe tbody tr th {\n",
       "        vertical-align: top;\n",
       "    }\n",
       "\n",
       "    .dataframe thead th {\n",
       "        text-align: right;\n",
       "    }\n",
       "</style>\n",
       "<table border=\"1\" class=\"dataframe\">\n",
       "  <thead>\n",
       "    <tr style=\"text-align: right;\">\n",
       "      <th></th>\n",
       "      <th>annualized_return</th>\n",
       "      <th>annualized_vol</th>\n",
       "    </tr>\n",
       "  </thead>\n",
       "  <tbody>\n",
       "    <tr>\n",
       "      <th>Stock Path # 1</th>\n",
       "      <td>-0.183846</td>\n",
       "      <td>0.285351</td>\n",
       "    </tr>\n",
       "    <tr>\n",
       "      <th>Stock Path # 2</th>\n",
       "      <td>0.439480</td>\n",
       "      <td>0.340784</td>\n",
       "    </tr>\n",
       "    <tr>\n",
       "      <th>Stock Path # 3</th>\n",
       "      <td>1.247081</td>\n",
       "      <td>0.578860</td>\n",
       "    </tr>\n",
       "    <tr>\n",
       "      <th>Stock Path # 4</th>\n",
       "      <td>-0.760258</td>\n",
       "      <td>0.450566</td>\n",
       "    </tr>\n",
       "  </tbody>\n",
       "</table>\n",
       "</div>"
      ],
      "text/plain": [
       "                annualized_return  annualized_vol\n",
       "Stock Path # 1          -0.183846        0.285351\n",
       "Stock Path # 2           0.439480        0.340784\n",
       "Stock Path # 3           1.247081        0.578860\n",
       "Stock Path # 4          -0.760258        0.450566"
      ]
     },
     "execution_count": 4,
     "metadata": {},
     "output_type": "execute_result"
    }
   ],
   "source": [
    "df = pd.read_excel('EquityDerivsPractice_PSet3.xlsx', sheet_name = 1, index_col = 0)\n",
    "log_return = np.log(df.div(df.shift(1))).dropna()\n",
    "\n",
    "days = 252\n",
    "annualized_return = log_return.mean(axis=0) * days\n",
    "annualized_vol = log_return.std(axis=0) * np.sqrt(days)\n",
    "\n",
    "\n",
    "summary_df = pd.DataFrame({\"annualized_return\":annualized_return, \"annualized_vol\":\n",
    "              annualized_vol})\n",
    "summary_df"
   ]
  },
  {
   "attachments": {},
   "cell_type": "markdown",
   "metadata": {},
   "source": [
    "### Problem 2 - (a)\n",
    "\n",
    "The Black-Scholes formula is a mathematical model used to calculate the theoretical price of an option.\n",
    "\n",
    "The Black-Scholes formulas for call and put options are as follows:\n",
    "\n",
    "For a call option:\n",
    "$$ C = SN(d_1) - Xe^{-rt} N(d_2)$$\n",
    "\n",
    "For a put option:\n",
    "$$P = X e^{-rt} N(-d_2) - S N(-d_1)$$\n",
    "\n",
    "d1 and d2 are variables calculated as:\n",
    "$d_1 = \\frac {(\\ln(\\frac S X) + (r + \\frac {\\sigma^2} 2) t )}  {\\sigma \\sqrt t}$ , $d_2 = d_1 - \\sigma \\sqrt t$\n",
    "\n",
    "Let's substitute your data into these formulas:\n",
    "\n",
    "S = 50 (stock price)\n",
    "X = 50 (exercise price)\n",
    "r = 0.03 (annual risk-free interest rate)\n",
    "t = 0.5 (6 months is half a year)\n",
    "σ = 0.5 (standard deviation)\n",
    "\n",
    "Now let's compute $d_1$ and $d_2$:\n",
    "\n",
    "$$d_1 = (ln(\\frac {50} {50}) + (0.03 + \\frac {0.5^2} 2) 0.5 ) / (0.5 \\sqrt{0.5}) = 0.15$$\n",
    "$$d_2 = d_1 - 0.5\\sqrt{0.5} = -0.2$$\n",
    "\n",
    "Let's substitute d1, d2, and all the other values into the Black-Scholes formulas:\n",
    "\n",
    "$$N(d_1) = 0.5596$$\n",
    "$$N(d_2) = 0.4207$$\n",
    "$$N(-d_1) = 1 - N(d_1) = 0.4404$$\n",
    "$$N(-d_2) = 1 - N(d_2) = 0.5793$$\n",
    "\n",
    "Now, we substitute these values into the formulas for the call and put options:\n",
    "\n",
    "$$ C = 50 \\times 0.5596 - 50 \\times e^{-0.03*0.5} \\times 0.4207 = 27.98$$\n",
    "\n",
    "$$ P = 50 \\times e^{-0.03*0.5} \\times 0.5793 - 50 \\times 0.4404 = 4.39$$ \n"
   ]
  },
  {
   "attachments": {},
   "cell_type": "markdown",
   "metadata": {},
   "source": [
    "### Problem 2 - (b)\n",
    "\n",
    "**Underlying Asset Price (S)**: As the current price of the underlying asset increases, the value of the call option increases. This is because the option gives you the right to buy the asset at the strike price. If the current price is higher, you can buy at a lower price and sell at the current price, thus making a profit. The rate of change of the call price with respect to the asset price is represented by Delta.\n",
    "\n",
    "**Exercise Price (X)**: If the exercise price increases while keeping all other parameters constant, the value of a call option will decrease. The reason is that the call option gives you the right to buy the underlying asset at the strike price. If the strike price is higher, the option becomes less valuable because you have the right to buy at a higher price.\n",
    "\n",
    "**Time to Expiration (t)**: Generally, the longer the time to expiration, the more valuable the option becomes. This is because there is more time for the price of the underlying asset to move favorably (i.e., above the strike price for a call option). The rate of change of the call price with respect to time to expiration is represented by Theta.\n",
    "\n",
    "**Standard Deviation/Volatility (σ)**: If the volatility of the underlying asset increases, the price of the call option will increase. Higher volatility implies that the underlying asset has a higher chance to move significantly in price, increasing the chance it will be above the strike price at expiration. The rate of change of the call price with respect to volatility is represented by Vega.\n",
    "\n",
    "**Risk-free Interest Rate (r)**: An increase in the risk-free interest rate increases the price of a call option. This is because the cost of carrying the position (the opportunity cost of money) is reduced by higher interest rates. This is represented by Rho."
   ]
  },
  {
   "attachments": {},
   "cell_type": "markdown",
   "metadata": {},
   "source": [
    "### Not My Idea"
   ]
  },
  {
   "attachments": {},
   "cell_type": "markdown",
   "metadata": {},
   "source": [
    "### Problem 3 - (a)\n",
    "\n",
    "For call option in Black-Scholes Model, delta of the option is\n",
    "\n",
    "$$ \\Delta = N(d_1) $$\n",
    "\n",
    "Where $$d_1 = \\frac {\\ln (\\frac S K) + (r+ \\frac {\\sigma^2} 2) T} {\\sigma \\sqrt{T}}$$\n",
    "\n",
    "$$ \\Gamma = \\frac {d \\Delta} {dS} = N'(d_1) \\frac {\\partial d_1} {\\partial S} = N'(d_1) \\frac 1 {\\partial \\sqrt {T}} \\times \\frac K S \\times \\frac 1 K = N'(d_1) \\times \\frac 1 {S \\sigma \\sqrt T}$$ \n",
    "\n",
    "For put option in Black-Scholes model, delta of the option is \n",
    "$$\\Delta = N(d_1) - 1$$\n",
    "\n",
    "So it has the same $\\Gamma$ as call option with same parameters."
   ]
  },
  {
   "attachments": {},
   "cell_type": "markdown",
   "metadata": {},
   "source": [
    "### Problem 3 - (b)\n",
    "\n",
    "$$\\Theta + rs\\Delta + \\frac 1 2 \\sigma^2 S^2 \\Gamma = rP$$\n",
    "$$\\Theta = rP - rs\\Delta - \\frac 1 2 \\sigma^2 S^2 \\Gamma$$\n",
    "\n",
    "We know that \n",
    "$$P = S N(d_1) - K e^{-rT} N(d_2)$$\n",
    "$$\\Delta = N(d_1)$$\n",
    "$$\\Gamma = N'(d_1) \\times \\frac 1 {S \\sigma \\sqrt T}$$ \n",
    "\n",
    "So, \n",
    "$$\\Theta = r(-Ke^{-rT}N(d_2)) - \\frac 1 2 \\sigma^2 S^2 (N'(d_1) \\times \\frac 1 {S\\sigma \\sqrt T})$$\n",
    "$$ = - \\frac {S N'(d_1) \\sigma} {2 \\sqrt T} - r K e^{-rT} N(d_2)$$"
   ]
  },
  {
   "attachments": {},
   "cell_type": "markdown",
   "metadata": {},
   "source": [
    "### Problem 4"
   ]
  },
  {
   "cell_type": "code",
   "execution_count": 3,
   "metadata": {},
   "outputs": [],
   "source": [
    "def calculate_option_price(S, K, r, sigma, T):\n",
    "  d1 = (np.log(S/K) + (r+sigma**2/2) * T) / (sigma * np.sqrt(T))\n",
    "  d2 = (np.log(S/K) + (r-sigma**2/2) * T) / (sigma * np.sqrt(T))\n",
    "  rv = norm(0,1)\n",
    "  \n",
    "  call = S*rv.cdf(d1) - K*np.exp(-r*T)*rv.cdf(d2)\n",
    "  put = K*np.exp(-r*T)*rv.cdf(-d2) - S*rv.cdf(-d1)\n",
    "  return call, put"
   ]
  },
  {
   "cell_type": "code",
   "execution_count": 9,
   "metadata": {},
   "outputs": [
    {
     "name": "stdout",
     "output_type": "stream",
     "text": [
      "Price of Call Option: 4.5747 (Constant Volatility)\n"
     ]
    }
   ],
   "source": [
    "S = 50 \n",
    "K = 50 \n",
    "r = 0.03 \n",
    "sigma = 0.3 \n",
    "T = 0.5 \n",
    "\n",
    "call, put = calculate_option_price(S, K, r, sigma, T)\n",
    "print(f\"Price of Call Option: {call:.4f} (Constant Volatility)\")"
   ]
  },
  {
   "cell_type": "code",
   "execution_count": 1,
   "metadata": {},
   "outputs": [
    {
     "name": "stdout",
     "output_type": "stream",
     "text": [
      "Call price with constant volatility: 4.57469928882983\n",
      "Mean call price with random volatility: 4.582072100297211\n"
     ]
    }
   ],
   "source": [
    "import numpy as np\n",
    "from scipy.stats import norm\n",
    "\n",
    "# Parameters\n",
    "S = 50  # Spot price\n",
    "K = 50  # Strike price\n",
    "r = 0.03  # Risk-free interest rate\n",
    "T = 0.5 # Time to expiration (in years)\n",
    "N = 10000  # Number of simulations\n",
    "\n",
    "# Constant volatility\n",
    "sigma_const = 0.30\n",
    "\n",
    "# Random volatility (normal distribution)\n",
    "mu = 0.30  # Mean\n",
    "sigma_dist = 0.05  # Standard deviation\n",
    "\n",
    "# Black-Scholes formula for a European call option\n",
    "def black_scholes_call(S, K, T, r, sigma):\n",
    "    d1 = (np.log(S / K) + (r + 0.5 * sigma ** 2) * T) / (sigma * np.sqrt(T))\n",
    "    d2 = d1 - sigma * np.sqrt(T)\n",
    "    call_price = (S * norm.cdf(d1, 0.0, 1.0) - K * np.exp(-r * T) * norm.cdf(d2, 0.0, 1.0))\n",
    "    return call_price\n",
    "\n",
    "# Price option with constant volatility\n",
    "call_price_const = black_scholes_call(S, K, T, r, sigma_const)\n",
    "print(f'Call price with constant volatility: {call_price_const}')\n",
    "\n",
    "# Price option with random volatility\n",
    "random_volatilities = np.random.normal(mu, sigma_dist, N)\n",
    "call_prices_random = [black_scholes_call(S, K, T, r, sigma) for sigma in random_volatilities]\n",
    "call_price_random_mean = np.mean(call_prices_random)\n",
    "print(f'Mean call price with random volatility: {call_price_random_mean}')\n"
   ]
  },
  {
   "cell_type": "code",
   "execution_count": null,
   "metadata": {},
   "outputs": [],
   "source": []
  }
 ],
 "metadata": {
  "kernelspec": {
   "display_name": "base",
   "language": "python",
   "name": "python3"
  },
  "language_info": {
   "codemirror_mode": {
    "name": "ipython",
    "version": 3
   },
   "file_extension": ".py",
   "mimetype": "text/x-python",
   "name": "python",
   "nbconvert_exporter": "python",
   "pygments_lexer": "ipython3",
   "version": "3.8.8"
  },
  "orig_nbformat": 4
 },
 "nbformat": 4,
 "nbformat_minor": 2
}
