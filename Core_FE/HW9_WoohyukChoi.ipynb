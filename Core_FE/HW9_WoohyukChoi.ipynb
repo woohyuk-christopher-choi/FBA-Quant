{
 "cells": [
  {
   "attachments": {},
   "cell_type": "markdown",
   "metadata": {},
   "source": [
    "# FBA Quant FE Session HW9\n",
    "\n",
    "## Woohyuk Choi"
   ]
  },
  {
   "cell_type": "code",
   "execution_count": 2,
   "metadata": {},
   "outputs": [],
   "source": [
    "import pandas as pd\n",
    "import numpy as np\n",
    "import math\n",
    "from scipy.stats import norm\n",
    "\n",
    "import matplotlib.pyplot as plt\n",
    "\n",
    "import warnings\n",
    "warnings.filterwarnings('ignore')"
   ]
  },
  {
   "cell_type": "markdown",
   "metadata": {},
   "source": [
    "## Problem 1"
   ]
  },
  {
   "attachments": {},
   "cell_type": "markdown",
   "metadata": {},
   "source": [
    "Our base cases are:\n",
    "\n",
    "$P(i, 0) = 1$ for $i > 0$ (M wins if N has no money)\n",
    "\n",
    "$P(0, j) = 0$ for $j > 0$ (M loses if M has no money)\n",
    "\n",
    "Then the recursion is :\n",
    "\n",
    "$$P(i, j) = \\frac 2 3 \\times P(i-1, j+1) + \\frac 1 3 * P(i+1, j-1)$$\n"
   ]
  },
  {
   "cell_type": "code",
   "execution_count": 7,
   "metadata": {},
   "outputs": [
    {
     "name": "stdout",
     "output_type": "stream",
     "text": [
      "0.0\n"
     ]
    }
   ],
   "source": [
    "def probability_M_wins(i: int, j: int):\n",
    "    # Initialize probability table\n",
    "    P = [[0 for _ in range(j+2)] for _ in range(i+2)]\n",
    "    \n",
    "    # Base cases\n",
    "    for a in range(i+1):\n",
    "        P[a][0] = 1\n",
    "    for b in range(1, j+2):\n",
    "        P[0][b] = 0\n",
    "    \n",
    "    # Build the table\n",
    "    for a in reversed(range(1, i+1)):\n",
    "        for b in reversed(range(1, j+1)):\n",
    "            P[a][b] = (2/3) * P[a+1][b-1] + (1/3) * P[a-1][b+1]\n",
    "    \n",
    "    return P[i][j]\n",
    "\n",
    "# Test the function\n",
    "print(probability_M_wins(1, 2))\n"
   ]
  },
  {
   "attachments": {},
   "cell_type": "markdown",
   "metadata": {},
   "source": [
    "## Problem 2"
   ]
  },
  {
   "attachments": {},
   "cell_type": "markdown",
   "metadata": {},
   "source": [
    "- With probability (n-1)/n^2, we pick two balls of different colors, and the color count reduces by one.\n",
    "\n",
    "- With probability (n-1)*2/n^2, we pick two balls with one of them having unique color, and the color count stays the same.\n",
    "\n",
    "- With probability 1/n^2, we pick two balls of the same unique color, and the color count stays the same.\n",
    "\n",
    "$$E(n) = 1 + \\frac {n-1} {n^2} \\times E(n-1) + \\frac {(n-1)\\times 2} {n^2} \\times E(n) + \\frac 1 {n^2} \\times E(n)$$\n",
    "\n",
    "So, E(n) = n^2/(2n - 1) + E(n-1)"
   ]
  },
  {
   "cell_type": "code",
   "execution_count": 12,
   "metadata": {},
   "outputs": [
    {
     "name": "stdout",
     "output_type": "stream",
     "text": [
      "15.23878343878344\n"
     ]
    }
   ],
   "source": [
    "n = 7\n",
    "\n",
    "def expected_steps(n):\n",
    "    E = [0]  # Base case E(1) = 0\n",
    "    for i in range(2, n + 1):\n",
    "        E.append(i**2/(2*i - 1) + E[i - 2])\n",
    "    return E[-1]\n",
    "\n",
    "print(expected_steps(n))\n"
   ]
  },
  {
   "cell_type": "code",
   "execution_count": null,
   "metadata": {},
   "outputs": [],
   "source": []
  }
 ],
 "metadata": {
  "kernelspec": {
   "display_name": "base",
   "language": "python",
   "name": "python3"
  },
  "language_info": {
   "codemirror_mode": {
    "name": "ipython",
    "version": 3
   },
   "file_extension": ".py",
   "mimetype": "text/x-python",
   "name": "python",
   "nbconvert_exporter": "python",
   "pygments_lexer": "ipython3",
   "version": "3.8.8"
  },
  "orig_nbformat": 4
 },
 "nbformat": 4,
 "nbformat_minor": 2
}
