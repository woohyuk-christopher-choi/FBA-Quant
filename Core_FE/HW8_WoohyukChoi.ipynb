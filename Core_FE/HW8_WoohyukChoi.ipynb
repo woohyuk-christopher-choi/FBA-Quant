{
 "cells": [
  {
   "attachments": {},
   "cell_type": "markdown",
   "metadata": {},
   "source": [
    "# FBA Quant FE Session HW8\n",
    "\n",
    "## Woohyuk Choi"
   ]
  },
  {
   "cell_type": "code",
   "execution_count": 2,
   "metadata": {},
   "outputs": [],
   "source": [
    "import pandas as pd\n",
    "import numpy as np\n",
    "import math\n",
    "from scipy.stats import norm\n",
    "\n",
    "import matplotlib.pyplot as plt\n",
    "\n",
    "import warnings\n",
    "warnings.filterwarnings('ignore')"
   ]
  },
  {
   "attachments": {},
   "cell_type": "markdown",
   "metadata": {},
   "source": [
    "### Problem 1 - (a)\n"
   ]
  },
  {
   "cell_type": "code",
   "execution_count": 3,
   "metadata": {},
   "outputs": [
    {
     "name": "stdout",
     "output_type": "stream",
     "text": [
      "The call option price is $5.21\n"
     ]
    }
   ],
   "source": [
    "import math\n",
    "from scipy.stats import norm\n",
    "\n",
    "# Variables\n",
    "S0 = 171.01  # current stock price\n",
    "K = 180  # strike price\n",
    "t = 1  # time to maturity in years\n",
    "r = 0.03  # risk-free interest rate\n",
    "sigma = 0.10  # volatility\n",
    "\n",
    "# Black-Scholes-Merton formula\n",
    "d1 = (math.log(S0 / K) + (r + 0.5 * sigma**2) * t) / (sigma * math.sqrt(t))\n",
    "d2 = d1 - sigma * math.sqrt(t)\n",
    "\n",
    "call_option_price = S0 * norm.cdf(d1) - K * math.exp(-r * t) * norm.cdf(d2)\n",
    "\n",
    "print(\"The call option price is $%.2f\" % call_option_price)\n"
   ]
  },
  {
   "attachments": {},
   "cell_type": "markdown",
   "metadata": {},
   "source": [
    "### Problem 1 - (b)"
   ]
  },
  {
   "cell_type": "code",
   "execution_count": 18,
   "metadata": {},
   "outputs": [
    {
     "name": "stdout",
     "output_type": "stream",
     "text": [
      "Delta: 0.43552\n",
      "Gamma: 0.02302\n",
      "Vega: 67.32994\n",
      "Theta: -4.63170\n"
     ]
    }
   ],
   "source": [
    "# Greeks\n",
    "\n",
    "# Delta\n",
    "delta = norm.cdf(d1)\n",
    "\n",
    "# Gamma\n",
    "gamma = norm.pdf(d1) / (S0 * sigma * math.sqrt(t))\n",
    "\n",
    "# Vega\n",
    "vega = S0 * math.sqrt(t) * norm.pdf(d1)\n",
    "\n",
    "# Theta\n",
    "theta = - (S0 * sigma * norm.pdf(d1)) / (2 * math.sqrt(t)) - r * K * math.exp(-r * t) * norm.cdf(d2)\n",
    "\n",
    "print(\"Delta: %.5f\" % delta)\n",
    "print(\"Gamma: %.5f\" % gamma)\n",
    "print(\"Vega: %.5f\" % vega)\n",
    "print(\"Theta: %.5f\" % theta)\n"
   ]
  },
  {
   "attachments": {},
   "cell_type": "markdown",
   "metadata": {},
   "source": [
    "**About Delta:**\n",
    "\n",
    "Delta for a call option ranges between 0 and 1. If the underlying asset price increases, the option price increases, which makes the delta positive. The Delta being positive means that the option's price will move in the same direction as the underlying asset price. In this case, for a call option, when the stock price (AAPL in this case) increases, the value of the call option will also increase. This is why Delta for a call option is positive.\n",
    "\n",
    "On the other hand, Delta for a put option ranges between -1 and 0 because the put option price and the underlying asset price move in opposite directions. If the underlying asset price increases, the option price decreases. Hence, for a put option, delta would be negative."
   ]
  },
  {
   "attachments": {},
   "cell_type": "markdown",
   "metadata": {},
   "source": [
    "### Problem 1 - (c)"
   ]
  },
  {
   "cell_type": "code",
   "execution_count": 5,
   "metadata": {},
   "outputs": [
    {
     "name": "stdout",
     "output_type": "stream",
     "text": [
      "Additional shares to buy or sell: 0.20\n"
     ]
    }
   ],
   "source": [
    "# New stock price and time to maturity\n",
    "S0_new = 180.2\n",
    "t_new = 1 - 1/12  # 11 months remaining until expiration\n",
    "\n",
    "# Recalculate d1 and delta with new stock price and time to maturity\n",
    "d1_new = (math.log(S0_new / K) + (r + 0.5 * sigma**2) * t_new) / (sigma * math.sqrt(t_new))\n",
    "delta_new = norm.cdf(d1_new)\n",
    "\n",
    "# Additional amount of shares to buy or sell\n",
    "additional_shares = delta_new - delta\n",
    "\n",
    "print(\"Additional shares to buy or sell: %.2f\" % additional_shares)\n"
   ]
  },
  {
   "attachments": {},
   "cell_type": "markdown",
   "metadata": {},
   "source": [
    "As for the reason why you are buying or selling stocks when the stock price goes up, it is because of the positive relationship between the price of a call option and the price of the underlying asset. As the stock price increases, the price of the call option increases, and thus, the delta (which is the rate of change of the option price with respect to the underlying asset price) also increases.\n",
    "\n",
    "In other words, if the stock price increases, the potential loss (from the perspective of the call option seller) becomes greater. Therefore, to keep the position delta-neutral (i.e., to keep the portfolio immune to changes in the price of the underlying asset), you need to buy more stocks when the stock price goes up.\n",
    "\n",
    "Conversely, if the stock price decreases, the potential loss decreases, and you need to sell stocks to maintain a delta-neutral position."
   ]
  },
  {
   "attachments": {},
   "cell_type": "markdown",
   "metadata": {},
   "source": [
    "### Problem 1 - (d)"
   ]
  },
  {
   "cell_type": "code",
   "execution_count": 6,
   "metadata": {},
   "outputs": [],
   "source": [
    "# Black-Scholes-Merton formula with new values\n",
    "d2_new = d1_new - sigma * math.sqrt(t_new)\n",
    "call_option_price_new = S0_new * norm.cdf(d1_new) - K * math.exp(-r * t_new) * norm.cdf(d2_new)\n",
    "\n",
    "# Change in the value of the call option\n",
    "change_in_call_option = call_option_price_new - call_option_price\n"
   ]
  },
  {
   "cell_type": "code",
   "execution_count": 7,
   "metadata": {},
   "outputs": [],
   "source": [
    "# Change in the value of the stock position\n",
    "change_in_stock_position = delta * S0_new - delta * S0\n",
    "\n",
    "# The net change in portfolio value\n",
    "net_change = change_in_call_option + change_in_stock_position\n"
   ]
  },
  {
   "cell_type": "code",
   "execution_count": 8,
   "metadata": {},
   "outputs": [
    {
     "name": "stdout",
     "output_type": "stream",
     "text": [
      "The change in the portfolio value in present value terms is: $8.39\n"
     ]
    }
   ],
   "source": [
    "# Present value of the net change in portfolio value\n",
    "net_change_pv = net_change / (1 + r)**(1/12)\n",
    "\n",
    "print(\"The change in the portfolio value in present value terms is: $%.2f\" % net_change_pv)\n"
   ]
  },
  {
   "attachments": {},
   "cell_type": "markdown",
   "metadata": {},
   "source": [
    "### Problem 2 - (a)"
   ]
  },
  {
   "cell_type": "code",
   "execution_count": 9,
   "metadata": {},
   "outputs": [
    {
     "name": "stdout",
     "output_type": "stream",
     "text": [
      "The portfolio value is: 2.81167148136808\n"
     ]
    }
   ],
   "source": [
    "import numpy as np\n",
    "from scipy.stats import norm\n",
    "\n",
    "# Define the variables\n",
    "S = 185  # Current price of AAPL\n",
    "K1 = 180  # Strike price for call option 1\n",
    "K2 = 185  # Strike price for call option 2\n",
    "r = 0.02  # Risk-free rate\n",
    "q = 0.01  # Dividend yield\n",
    "t = 1     # Time to maturity in years\n",
    "sigma = 0.10  # Volatility\n",
    "\n",
    "# Calculate d1 and d2 for the first option\n",
    "d1_K1 = (np.log(S/K1) + (r - q + (sigma**2)/2)*t) / (sigma * np.sqrt(t))\n",
    "d2_K1 = d1_K1 - sigma * np.sqrt(t)\n",
    "\n",
    "# Calculate the price of the first option\n",
    "C1 = S * np.exp(-q*t) * norm.cdf(d1_K1) - K1 * np.exp(-r*t) * norm.cdf(d2_K1)\n",
    "\n",
    "# Calculate d1 and d2 for the second option\n",
    "d1_K2 = (np.log(S/K2) + (r - q + (sigma**2)/2)*t) / (sigma * np.sqrt(t))\n",
    "d2_K2 = d1_K2 - sigma * np.sqrt(t)\n",
    "\n",
    "# Calculate the price of the second option\n",
    "C2 = S * np.exp(-q*t) * norm.cdf(d1_K2) - K2 * np.exp(-r*t) * norm.cdf(d2_K2)\n",
    "\n",
    "# Calculate the portfolio value\n",
    "V = C1 - C2\n",
    "\n",
    "print(f\"The portfolio value is: {V}\")\n"
   ]
  },
  {
   "attachments": {},
   "cell_type": "markdown",
   "metadata": {},
   "source": [
    "### Problem 2 - (b)"
   ]
  },
  {
   "cell_type": "code",
   "execution_count": 10,
   "metadata": {},
   "outputs": [
    {
     "name": "stdout",
     "output_type": "stream",
     "text": [
      "The portfolio value with volatility skew is: 3.0069279967661515\n"
     ]
    }
   ],
   "source": [
    "# Compute the volatilities for the options\n",
    "sigma_K1 = min(1, 18*K1**-1)\n",
    "sigma_K2 = min(1, 18*K2**-1)\n",
    "\n",
    "# Calculate d1 and d2 for the first option with its volatility\n",
    "d1_K1 = (np.log(S/K1) + (r - q + (sigma_K1**2)/2)*t) / (sigma_K1 * np.sqrt(t))\n",
    "d2_K1 = d1_K1 - sigma_K1 * np.sqrt(t)\n",
    "\n",
    "# Calculate the price of the first option\n",
    "C1_prime = S * np.exp(-q*t) * norm.cdf(d1_K1) - K1 * np.exp(-r*t) * norm.cdf(d2_K1)\n",
    "\n",
    "# Calculate d1 and d2 for the second option with its volatility\n",
    "d1_K2 = (np.log(S/K2) + (r - q + (sigma_K2**2)/2)*t) / (sigma_K2 * np.sqrt(t))\n",
    "d2_K2 = d1_K2 - sigma_K2 * np.sqrt(t)\n",
    "\n",
    "# Calculate the price of the second option\n",
    "C2_prime = S * np.exp(-q*t) * norm.cdf(d1_K2) - K2 * np.exp(-r*t) * norm.cdf(d2_K2)\n",
    "\n",
    "# Calculate the portfolio value with volatility skew\n",
    "V_prime = C1_prime - C2_prime\n",
    "\n",
    "print(f\"The portfolio value with volatility skew is: {V_prime}\")\n"
   ]
  },
  {
   "attachments": {},
   "cell_type": "markdown",
   "metadata": {},
   "source": [
    "### Problem 3 - (a)"
   ]
  },
  {
   "cell_type": "code",
   "execution_count": 14,
   "metadata": {},
   "outputs": [
    {
     "name": "stdout",
     "output_type": "stream",
     "text": [
      "The price of the digital call option is:  0.35144624936445024\n"
     ]
    }
   ],
   "source": [
    "\n",
    "# Input parameters\n",
    "S0 = 171.01  # Underlying asset price\n",
    "K = 180  # Strike price\n",
    "T = 1  # Time to maturity (in years)\n",
    "sigma = 0.1  # Volatility\n",
    "r = 0.02  # Risk-free interest rate\n",
    "\n",
    "# Calculate d2\n",
    "d2 = (np.log(S0 / K) + (r - 0.5 * sigma**2) * T) / (sigma * np.sqrt(T))\n",
    "\n",
    "# Calculate price of digital call option\n",
    "C_digital = np.exp(-r * T) * norm.cdf(d2)\n",
    "\n",
    "print('The price of the digital call option is: ', C_digital)\n"
   ]
  },
  {
   "attachments": {},
   "cell_type": "markdown",
   "metadata": {},
   "source": [
    "This is smaller that delta of problem 1."
   ]
  },
  {
   "cell_type": "markdown",
   "metadata": {},
   "source": [
    "### Problem 3 - (b)"
   ]
  },
  {
   "cell_type": "code",
   "execution_count": 15,
   "metadata": {},
   "outputs": [
    {
     "name": "stdout",
     "output_type": "stream",
     "text": [
      "The number of shares to buy is:  0.021413717211465795\n"
     ]
    }
   ],
   "source": [
    "from scipy.stats import norm\n",
    "import numpy as np\n",
    "\n",
    "# Compute d2\n",
    "d2 = (np.log(S0 / K) + (r - 0.5 * sigma**2) * T) / (sigma * np.sqrt(T))\n",
    "\n",
    "# Calculate the delta of the digital call option\n",
    "delta = np.exp(-r * T) * norm.pdf(d2) / (S0 * sigma * np.sqrt(T))\n",
    "\n",
    "# The number of shares to buy or sell would be the delta times the number of options\n",
    "# For this example, let's assume we sold one option\n",
    "num_options = 1\n",
    "num_shares = num_options * delta\n",
    "\n",
    "print('The number of shares to buy is: ', num_shares)\n"
   ]
  },
  {
   "attachments": {},
   "cell_type": "markdown",
   "metadata": {},
   "source": [
    "Smaller than Gamma of Problem 1."
   ]
  },
  {
   "attachments": {},
   "cell_type": "markdown",
   "metadata": {},
   "source": [
    "### Problem 3 - (c)"
   ]
  },
  {
   "cell_type": "code",
   "execution_count": 19,
   "metadata": {},
   "outputs": [
    {
     "name": "stdout",
     "output_type": "stream",
     "text": [
      "The portfolio value is:  0.0943616025412442\n"
     ]
    }
   ],
   "source": [
    "import numpy as np\n",
    "from scipy.stats import norm\n",
    "\n",
    "# Input parameters\n",
    "S0 = 171.01  # Underlying asset price\n",
    "K1 = 180  # Strike price of the first option\n",
    "K2 = 185  # Strike price of the second option\n",
    "T = 1  # Time to maturity (in years)\n",
    "sigma = 0.1  # Volatility\n",
    "r = 0.02  # Risk-free interest rate\n",
    "\n",
    "# Calculate d2 for the first option\n",
    "d2_1 = (np.log(S0 / K1) + (r - 0.5 * sigma**2) * T) / (sigma * np.sqrt(T))\n",
    "# Calculate price of the first digital call option\n",
    "C_digital_1 = np.exp(-r * T) * norm.cdf(d2_1)\n",
    "\n",
    "# Calculate d2 for the second option\n",
    "d2_2 = (np.log(S0 / K2) + (r - 0.5 * sigma**2) * T) / (sigma * np.sqrt(T))\n",
    "# Calculate price of the second digital call option\n",
    "C_digital_2 = np.exp(-r * T) * norm.cdf(d2_2)\n",
    "\n",
    "# Calculate portfolio value\n",
    "W = C_digital_1 - C_digital_2\n",
    "\n",
    "print('The portfolio value is: ', W)\n"
   ]
  },
  {
   "cell_type": "code",
   "execution_count": null,
   "metadata": {},
   "outputs": [],
   "source": []
  }
 ],
 "metadata": {
  "kernelspec": {
   "display_name": "base",
   "language": "python",
   "name": "python3"
  },
  "language_info": {
   "codemirror_mode": {
    "name": "ipython",
    "version": 3
   },
   "file_extension": ".py",
   "mimetype": "text/x-python",
   "name": "python",
   "nbconvert_exporter": "python",
   "pygments_lexer": "ipython3",
   "version": "3.8.8"
  },
  "orig_nbformat": 4
 },
 "nbformat": 4,
 "nbformat_minor": 2
}
