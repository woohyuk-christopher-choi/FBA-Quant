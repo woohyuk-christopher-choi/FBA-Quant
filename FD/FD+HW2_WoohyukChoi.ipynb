{
 "cells": [
  {
   "cell_type": "markdown",
   "metadata": {},
   "source": [
    "# FBA Quant FD Session HW2\n",
    "\n",
    "## Woohyuk Choi"
   ]
  },
  {
   "cell_type": "code",
   "execution_count": 1,
   "metadata": {},
   "outputs": [],
   "source": [
    "# Import\n",
    "\n",
    "import time\n",
    "import numpy as np\n",
    "import scipy\n",
    "from scipy.stats import norm\n",
    "import matplotlib.pyplot as plt\n",
    "import pandas as pd\n",
    "import math as math\n",
    "from tabulate import tabulate"
   ]
  },
  {
   "cell_type": "markdown",
   "metadata": {},
   "source": [
    "## Problem 1"
   ]
  },
  {
   "cell_type": "markdown",
   "metadata": {},
   "source": [
    "***\n",
    "A state lottery advertises a jackpot of $1,000,000. <br><br>\n",
    "In the fine print it is written that the winner receives 40 annual payments of $25,000. <br><br>\n",
    "If the term structure is flat at 6% ($i.e.$, $r(t) =1.06$ for all $t$ > 0), what is the **“net present value”** of the jackpot?\n",
    "***"
   ]
  },
  {
   "cell_type": "markdown",
   "metadata": {},
   "source": [
    "### Solution For 1"
   ]
  },
  {
   "cell_type": "markdown",
   "metadata": {},
   "source": [
    " * Net Present Value (NPV) : As one of the measures of the value (validity) of a project, it can be judged as having initial value, and if it is less than 0, it can be judged as a project with no validity (value) and if it is greater than 0.\n",
    "\n",
    " $$ NPV = \\sum _ {k=1} ^{n} \\frac {C_k} {(1+r)^k}  - X_0 $$\n",
    "\n",
    " * In the situation of this problem, since we only think about Jackpot, we will not consider the initial investment cost, that is, the purchase cost. $ \\therefore X_0 = 0 $ "
   ]
  },
  {
   "cell_type": "code",
   "execution_count": 2,
   "metadata": {},
   "outputs": [],
   "source": [
    "def NPV (cashflow, rate, investment , n) :\n",
    "    sum = 0\n",
    "    for i in range (1, n+1):\n",
    "        sum += ((cashflow) / ((1+rate)**i) - investment)\n",
    "        i += 1\n",
    "    return sum\n"
   ]
  },
  {
   "cell_type": "code",
   "execution_count": 8,
   "metadata": {},
   "outputs": [
    {
     "name": "stdout",
     "output_type": "stream",
     "text": [
      "Net Present Value of the Jackpot is $ 376157.4218 , Good luck!\n"
     ]
    }
   ],
   "source": [
    "print (\"Net Present Value of the Jackpot is $\", round(NPV(25000, 0.06, 0, 40) , 4), \", Good luck!\")"
   ]
  },
  {
   "cell_type": "markdown",
   "metadata": {},
   "source": [
    "## Problem 2\n",
    "\n"
   ]
  },
  {
   "cell_type": "markdown",
   "metadata": {},
   "source": [
    "***\n",
    "Coupon bonds with maturity $ T= 10yrs $, face value $ $10,000 $, and annual\n",
    "coupon rate $ q = .05 $ are currently trading at $ $10,460.00 $ per bond. <br>\n",
    "Coupon bonds with maturity $T= 10yrs $, face value $ $5,000 $, and annual coupon rate $ q = .06 $ are currently\n",
    "trading at $ $5,430.50 $ per bond. <br>\n",
    "Determine the prices of each of the following fixed income securities. (All coupons are **semi-annually compounded**)\n",
    "***"
   ]
  },
  {
   "cell_type": "markdown",
   "metadata": {},
   "source": [
    "### Solution Outline\n",
    "\n",
    "By information above, we can get discount rate since we can derive YTM.\n",
    "\n",
    "$$ YTM = \\frac {C + (\\frac {FV - PV} n )} {(\\frac {FV + PV } {2})} $$\n",
    "\n",
    "So, let's try to get Discount rate by Python Code calculating."
   ]
  },
  {
   "cell_type": "code",
   "execution_count": 13,
   "metadata": {},
   "outputs": [
    {
     "name": "stdout",
     "output_type": "stream",
     "text": [
      "+----+---------+-----------+\n",
      "|    | Bond    |       YTM |\n",
      "|----+---------+-----------|\n",
      "|  0 | Bond 1  | 0.0221896 |\n",
      "|  1 | Bond 2  | 0.0246345 |\n",
      "|  2 | Average | 0.0234121 |\n",
      "+----+---------+-----------+\n"
     ]
    }
   ],
   "source": [
    "def YTM(C, FV, PV, n):\n",
    "    return (C + ((FV - PV)/n)) / ((FV + PV)/2)\n",
    "\n",
    "YTM1 = YTM(250, 10000, 10460, 20)\n",
    "YTM2 = YTM(150, 5000, 5430.5, 20)\n",
    "YTMavg = (YTM1+YTM2)/2\n",
    "dict_test = {\n",
    "    'Bond': ['Bond 1','Bond 2', 'Average'],\n",
    "    'YTM': [YTM1, YTM2, YTMavg],\n",
    "    \n",
    "}\n",
    "df_test = pd.DataFrame(dict_test)\n",
    "print(tabulate(df_test, headers='keys', tablefmt='psql', showindex=True))"
   ]
  },
  {
   "cell_type": "markdown",
   "metadata": {},
   "source": [
    "### Solution For 2-(a)\n",
    "\n",
    "* A zero-coupon bond with face value $ $30,000 $ and maturity $10$ years. <br>\n"
   ]
  },
  {
   "cell_type": "markdown",
   "metadata": {},
   "source": [
    "#### Zero Coupon Bond Value\n",
    "\n",
    "$$ V = \\frac {F} {(1+r)^t} $$"
   ]
  },
  {
   "cell_type": "markdown",
   "metadata": {},
   "source": [
    "### Solution For 2-(b)\n",
    "\n",
    "(b) An annuity that will make payments of $ $500 $ twice per year for the next $10$ years."
   ]
  },
  {
   "cell_type": "code",
   "execution_count": 23,
   "metadata": {},
   "outputs": [
    {
     "name": "stdout",
     "output_type": "stream",
     "text": [
      "Value of this annuity is.. $ 8869.659 .\n"
     ]
    }
   ],
   "source": [
    "def annuityvalue(Payment , r , t):\n",
    "    P = Payment * (1-(1+r)**(-t)) / r\n",
    "    return P\n",
    "\n",
    "print(\"Value of this annuity is.. $\" , round(annuityvalue(500, YTMavg/2, 20),4), \".\")"
   ]
  },
  {
   "cell_type": "markdown",
   "metadata": {},
   "source": [
    "### Solution For 2-(c)\n",
    "\n",
    "(c) A coupon bond with maturity $10$ years, face value $ $7,500 $ and annual coupon rate $ q=.06 $ "
   ]
  },
  {
   "cell_type": "markdown",
   "metadata": {},
   "source": [
    "* **Caution!** : In a coupon bond, we have to consider 'bout present value of face value."
   ]
  },
  {
   "cell_type": "code",
   "execution_count": 24,
   "metadata": {},
   "outputs": [
    {
     "name": "stdout",
     "output_type": "stream",
     "text": [
      "Value of this coupon bond is.. $ 9933.919 .\n"
     ]
    }
   ],
   "source": [
    "def couponvalue(F, C, r, t):\n",
    "    V = 0\n",
    "    for i in range (1, t+1):\n",
    "        V += C/((1+r)**i)\n",
    "        i += 1\n",
    "    V += F/((1+r)**t)\n",
    "    return V\n",
    "\n",
    "print (\"Value of this coupon bond is.. $\", round(couponvalue(7500, 7500*0.03, YTMavg/2, 20 ),4) , \".\")"
   ]
  },
  {
   "cell_type": "markdown",
   "metadata": {},
   "source": [
    "## Problem 3"
   ]
  },
  {
   "cell_type": "markdown",
   "metadata": {},
   "source": [
    "***\n",
    "Consider a coupon bond with maturity $T= 5$ years and annual coupon rate $q=.08$. Dealers are selling the bond at an ask price $P_a$ per $ $100 $ face <br>\n",
    "and purchasing the bond at a bid price $P_b$ per $ $100 $ face. <br> \n",
    "The yield to maturity computed using the ask price is $y_a =.0556 $ and the yield to maturity computed using the bid price is $ y_b=.0668$.<br>\n",
    "Determine the bid-ask spread $P_a - P_b $ (per $ $100 $ face and semi-annual compounding coupon)\n",
    "***"
   ]
  },
  {
   "cell_type": "markdown",
   "metadata": {},
   "source": [
    "### Solution For 3\n",
    "\n",
    "In this situation of problem, we have to do reverse-reasoning 'bout process of deriving YTM. <br><br>\n",
    "Let's get it on!<br>\n",
    "\n",
    "$$ P = (\\sum _{k=1}^n \\frac {\\frac {c} {2}} {(1 + \\frac y 2)^k}  )+ \\frac F {(1+\\frac y 2)^n}$$\n",
    "\n"
   ]
  },
  {
   "cell_type": "code",
   "execution_count": 33,
   "metadata": {},
   "outputs": [
    {
     "name": "stdout",
     "output_type": "stream",
     "text": [
      "Price of a is $ 107.484 , and Price of b is $ 102.6536\n",
      "Hence, the bid-ask spread is $ 5.262 .\n"
     ]
    }
   ],
   "source": [
    "def price(n,c,y,F):\n",
    "    P = 0\n",
    "    for i in range (1, n+1):\n",
    "        P += c/((1+y/2)**i)\n",
    "        i += 1\n",
    "    P += F/((1+y/2)**i)\n",
    "    return P\n",
    "\n",
    "print (\"Price of a is $\" , round(price(9,4,0.0556,100),4), \", and Price of b is $\" , round(price(9,4,0.0668,100),4))\n",
    "print (\"Hence, the bid-ask spread is $\", round(price(10,4,0.0556,100) - price(10,4,0.0668,100) , 4), \".\" )\n"
   ]
  },
  {
   "cell_type": "markdown",
   "metadata": {},
   "source": [
    "## Problem 4"
   ]
  },
  {
   "cell_type": "markdown",
   "metadata": {},
   "source": [
    "***\n",
    "Bond A is a coupon bond with maturity $ T = 1 yr $, annual coupon rate $q=.04$, <br> and current price $P(1)$ per $100 face. Bond $B$ is a coupon bond with maturity $T=\n",
    "1 yr $, annual coupon rate $q=.12$, and current price $P(2)$ per $100 face. <br> <br>\n",
    "Compute the yield to maturity of each bond assuming(coupons are semi-annually compounded) <br> <br>\n",
    "(a) $P(1)= 96.265$ and $P(2)= 103.885$. <br>\n",
    "(b) $P(1)= 99.962$ and $P(2)= 107.653$\n",
    "***"
   ]
  },
  {
   "cell_type": "markdown",
   "metadata": {},
   "source": [
    "### Solution Outline"
   ]
  },
  {
   "cell_type": "markdown",
   "metadata": {},
   "source": [
    "### Solution For 4-(a)"
   ]
  },
  {
   "cell_type": "code",
   "execution_count": null,
   "metadata": {},
   "outputs": [],
   "source": []
  },
  {
   "cell_type": "markdown",
   "metadata": {},
   "source": [
    "### Solution For 4-(b)"
   ]
  },
  {
   "cell_type": "code",
   "execution_count": null,
   "metadata": {},
   "outputs": [],
   "source": []
  },
  {
   "cell_type": "markdown",
   "metadata": {},
   "source": [
    "## Problem 5"
   ]
  },
  {
   "cell_type": "markdown",
   "metadata": {},
   "source": [
    "***\n",
    "A coupon bond has a flat price of $103.243$ per $100$ face value. <br><br>\n",
    "There are $182$ days between the last coupon date and the next coupon date. <br><br>\n",
    "$48$ days have elapsed since the last coupon payment. <br><br>\n",
    "The bond has a coupon rate of $4%$ and semi-annually compounded. <br><br>\n",
    "After the next coupon payment, the bond has $5$ years until maturity ($i.e.$, a person who buys the bond now will receive $11$ coupon payments).<br><br>\n",
    "Find the **yield to maturity of the bond.**\n",
    "***"
   ]
  },
  {
   "cell_type": "markdown",
   "metadata": {},
   "source": []
  },
  {
   "cell_type": "code",
   "execution_count": null,
   "metadata": {},
   "outputs": [],
   "source": []
  },
  {
   "cell_type": "markdown",
   "metadata": {},
   "source": [
    "## Problem 6"
   ]
  },
  {
   "cell_type": "markdown",
   "metadata": {},
   "source": [
    "***\n",
    "A T-Bill has $214$ days until maturity. <br><br>\n",
    "Its discount yield is $y_d =.03862$. <br><br>\n",
    "Determine the bond equivalent yield $y_{be}$.\n",
    "***"
   ]
  },
  {
   "cell_type": "code",
   "execution_count": null,
   "metadata": {},
   "outputs": [],
   "source": []
  }
 ],
 "metadata": {
  "kernelspec": {
   "display_name": "Python 3.8.8 ('base')",
   "language": "python",
   "name": "python3"
  },
  "language_info": {
   "codemirror_mode": {
    "name": "ipython",
    "version": 3
   },
   "file_extension": ".py",
   "mimetype": "text/x-python",
   "name": "python",
   "nbconvert_exporter": "python",
   "pygments_lexer": "ipython3",
   "version": "3.8.8"
  },
  "orig_nbformat": 4,
  "vscode": {
   "interpreter": {
    "hash": "f2d3c77f0c618a37d50bae9f886179c8cfbbcea61877df2ad87ffd12356ec3c8"
   }
  }
 },
 "nbformat": 4,
 "nbformat_minor": 2
}
