{
 "cells": [
  {
   "attachments": {},
   "cell_type": "markdown",
   "metadata": {},
   "source": [
    "# FBA Quant FD Session HW4\n",
    "\n",
    "## Woohyuk Choi"
   ]
  },
  {
   "cell_type": "code",
   "execution_count": 1,
   "metadata": {},
   "outputs": [],
   "source": [
    "# Import\n",
    "\n",
    "import time\n",
    "import numpy as np\n",
    "import scipy\n",
    "from scipy.stats import norm\n",
    "import matplotlib.pyplot as plt\n",
    "import pandas as pd\n",
    "import math as math\n",
    "from tabulate import tabulate"
   ]
  },
  {
   "attachments": {},
   "cell_type": "markdown",
   "metadata": {},
   "source": [
    "## Problem 1"
   ]
  },
  {
   "attachments": {},
   "cell_type": "markdown",
   "metadata": {},
   "source": [
    "***\n",
    "Assume that the spot-rate curve is flat at $6$%. A portfolio contains three\n",
    "zero-coupon bonds each having face value $1,000,000. The maturities of the bonds are\n",
    "2,5,and 10years.\n",
    "***"
   ]
  },
  {
   "attachments": {},
   "cell_type": "markdown",
   "metadata": {},
   "source": [
    "### Solution For 1 - (a)\n",
    "\n",
    "Find the DV01 and duration of the portfolio of bonds."
   ]
  },
  {
   "attachments": {},
   "cell_type": "markdown",
   "metadata": {},
   "source": [
    "Price of a bond = \n",
    "$$P = \\frac c 2 \\sum_{i=1}^{2T} ( \\frac 1 {1+\\frac y 2})^i + \\frac {1000000} {(1+\\frac y 2)^{2T}}$$\n",
    "\n",
    "where $c = 1000000 \\times 0.06 = 60000$ , $T = 2 , 5 , 10$ each."
   ]
  },
  {
   "cell_type": "code",
   "execution_count": 30,
   "metadata": {},
   "outputs": [
    {
     "data": {
      "text/plain": [
       "2999999.999999999"
      ]
     },
     "execution_count": 30,
     "metadata": {},
     "output_type": "execute_result"
    }
   ],
   "source": [
    "def sum(T):\n",
    "    ret = 0\n",
    "    for n in range(1,2*T+1):\n",
    "        ret += 30000/((1+0.03)**n)\n",
    "    \n",
    "    ret += 1000000/((1+0.03)**(2*T))\n",
    "\n",
    "    return ret\n",
    "    \n",
    "\n",
    "\n",
    "\n",
    "P = sum(2) + sum(5) + sum(10)\n",
    "\n",
    "P\n"
   ]
  },
  {
   "cell_type": "code",
   "execution_count": 31,
   "metadata": {},
   "outputs": [
    {
     "data": {
      "text/plain": [
       "2999864.3808686445"
      ]
     },
     "execution_count": 31,
     "metadata": {},
     "output_type": "execute_result"
    }
   ],
   "source": [
    "def sum001(T):\n",
    "    ret = 0\n",
    "    for n in range(1,2*T+1):\n",
    "        ret += 30000/((1+0.030005)**n)\n",
    "    \n",
    "    ret += 1000000/((1+0.030005)**(2*T))\n",
    "\n",
    "    return ret\n",
    "\n",
    "P001 = sum001(2)+sum001(5)+sum001(10)\n",
    "\n",
    "P001"
   ]
  },
  {
   "cell_type": "code",
   "execution_count": 32,
   "metadata": {},
   "outputs": [
    {
     "data": {
      "text/plain": [
       "135.6191313546151"
      ]
     },
     "execution_count": 32,
     "metadata": {},
     "output_type": "execute_result"
    }
   ],
   "source": [
    "DV01 = (P - P001) / 1\n",
    "\n",
    "DV01"
   ]
  },
  {
   "cell_type": "code",
   "execution_count": 33,
   "metadata": {},
   "outputs": [
    {
     "data": {
      "text/html": [
       "<div>\n",
       "<style scoped>\n",
       "    .dataframe tbody tr th:only-of-type {\n",
       "        vertical-align: middle;\n",
       "    }\n",
       "\n",
       "    .dataframe tbody tr th {\n",
       "        vertical-align: top;\n",
       "    }\n",
       "\n",
       "    .dataframe thead th {\n",
       "        text-align: right;\n",
       "    }\n",
       "</style>\n",
       "<table border=\"1\" class=\"dataframe\">\n",
       "  <thead>\n",
       "    <tr style=\"text-align: right;\">\n",
       "      <th></th>\n",
       "      <th>name</th>\n",
       "      <th>value</th>\n",
       "    </tr>\n",
       "  </thead>\n",
       "  <tbody>\n",
       "    <tr>\n",
       "      <th>0</th>\n",
       "      <td>duration 1</td>\n",
       "      <td>2.05164</td>\n",
       "    </tr>\n",
       "    <tr>\n",
       "      <th>1</th>\n",
       "      <td>duration 2</td>\n",
       "      <td>5.06564</td>\n",
       "    </tr>\n",
       "    <tr>\n",
       "      <th>2</th>\n",
       "      <td>duration 3</td>\n",
       "      <td>9.78704</td>\n",
       "    </tr>\n",
       "    <tr>\n",
       "      <th>3</th>\n",
       "      <td>portfolio duration</td>\n",
       "      <td>5.02796</td>\n",
       "    </tr>\n",
       "  </tbody>\n",
       "</table>\n",
       "</div>"
      ],
      "text/plain": [
       "                 name   value\n",
       "0          duration 1 2.05164\n",
       "1          duration 2 5.06564\n",
       "2          duration 3 9.78704\n",
       "3  portfolio duration 5.02796"
      ]
     },
     "execution_count": 33,
     "metadata": {},
     "output_type": "execute_result"
    }
   ],
   "source": [
    "B1 = sum(2)\n",
    "B2 = sum(5)\n",
    "B3 = sum(10)\n",
    "\n",
    "def A(T):\n",
    "    ret = 0\n",
    "    for n in range(1,2*T+1):\n",
    "        ret += 30000*n/((1+0.03)**n)\n",
    "    \n",
    "    ret += 1000000*T/((1+0.03)**(2*T))\n",
    "\n",
    "    return ret\n",
    "\n",
    "A1 = A(2)\n",
    "A2 = A(5)\n",
    "A3 = A(10)\n",
    "\n",
    "duration1 = A1/B1\n",
    "duration2 = A2/B2\n",
    "duration3 = A3/B3\n",
    "\n",
    "presentvalue1 = 1000000 * math.exp(-0.06 * 2)\n",
    "presentvalue2 = 1000000 * math.exp(-0.06 * 5)\n",
    "presentvalue3 = 1000000 * math.exp(-0.06 * 10)\n",
    "\n",
    "w1 = presentvalue1/(presentvalue1+presentvalue2+presentvalue3)\n",
    "w2 = presentvalue2/(presentvalue1+presentvalue2+presentvalue3)\n",
    "w3 = presentvalue3/(presentvalue1+presentvalue2+presentvalue3)\n",
    "\n",
    "pduration = w1*duration1 + w2*duration2 + w3*duration3\n",
    "\n",
    "data = {'name': ['duration 1','duration 2','duration 3', 'portfolio duration'] , 'value' :[duration1, duration2, duration3 , pduration]}\n",
    "\n",
    "df = pd.DataFrame(data, index = np.arange(4))\n",
    "\n",
    "df\n",
    "\n"
   ]
  },
  {
   "attachments": {},
   "cell_type": "markdown",
   "metadata": {},
   "source": [
    "### Solution For 1 -(b)\n",
    "\n",
    "Suppose that you are asked to purchase a single par-coupon bond will match\n",
    "the DV01 of the portfolio of zero-coupon bonds. What should the face value of\n",
    "the par-coupon bond be?\n",
    "\n"
   ]
  },
  {
   "attachments": {},
   "cell_type": "markdown",
   "metadata": {},
   "source": [
    "### Solution For 1 - (c)\n",
    "\n",
    "Suppose that the 2 year spot rate increases by 50 basis points, the 5-year rate\n",
    "increases by 42 basis points and the 10-year spot rate increases by 38 basis\n",
    "points. Compute the exact price change of the bond portfolio.\n",
    "\n"
   ]
  },
  {
   "cell_type": "code",
   "execution_count": 34,
   "metadata": {},
   "outputs": [
    {
     "data": {
      "text/html": [
       "<div>\n",
       "<style scoped>\n",
       "    .dataframe tbody tr th:only-of-type {\n",
       "        vertical-align: middle;\n",
       "    }\n",
       "\n",
       "    .dataframe tbody tr th {\n",
       "        vertical-align: top;\n",
       "    }\n",
       "\n",
       "    .dataframe thead th {\n",
       "        text-align: right;\n",
       "    }\n",
       "</style>\n",
       "<table border=\"1\" class=\"dataframe\">\n",
       "  <thead>\n",
       "    <tr style=\"text-align: right;\">\n",
       "      <th></th>\n",
       "      <th>name</th>\n",
       "      <th>value</th>\n",
       "    </tr>\n",
       "  </thead>\n",
       "  <tbody>\n",
       "    <tr>\n",
       "      <th>0</th>\n",
       "      <td>price1</td>\n",
       "      <td>3000000.00000</td>\n",
       "    </tr>\n",
       "    <tr>\n",
       "      <th>1</th>\n",
       "      <td>price2</td>\n",
       "      <td>2995969.26547</td>\n",
       "    </tr>\n",
       "    <tr>\n",
       "      <th>2</th>\n",
       "      <td>pricechange</td>\n",
       "      <td>4030.73453</td>\n",
       "    </tr>\n",
       "  </tbody>\n",
       "</table>\n",
       "</div>"
      ],
      "text/plain": [
       "          name         value\n",
       "0       price1 3000000.00000\n",
       "1       price2 2995969.26547\n",
       "2  pricechange    4030.73453"
      ]
     },
     "execution_count": 34,
     "metadata": {},
     "output_type": "execute_result"
    }
   ],
   "source": [
    "def sum2yr(T):\n",
    "    ret = 0\n",
    "    for n in range(1,2*T+1):\n",
    "        ret += 30000/((1+0.03)**n)\n",
    "    \n",
    "    ret += 1000250/((1+0.03025)**(2*T))\n",
    "\n",
    "    return ret\n",
    "\n",
    "def sum5yr(T):\n",
    "    ret = 0\n",
    "    for n in range(1,2*T+1):\n",
    "        if n == 4 :\n",
    "            ret += 30000/((1+0.03025)**n)\n",
    "        else : \n",
    "            ret += 30000/((1+0.03)**n)\n",
    "            \n",
    "    \n",
    "    ret += 1000210/((1+0.03021)**(2*T))\n",
    "\n",
    "    return ret\n",
    "\n",
    "def sum10yr(T):\n",
    "    ret = 0\n",
    "    for n in range(1,2*T+1):\n",
    "        if n == 4 :\n",
    "            ret += 30000/((1+0.03025)**n)\n",
    "        elif n == 10 :\n",
    "            ret += 30000/((1+0.03021)**n)\n",
    "        else : \n",
    "            ret += 30000/((1+0.03)**n)\n",
    "            \n",
    "    \n",
    "    ret += 1000190/((1+0.03019)**(2*T))\n",
    "\n",
    "    return ret\n",
    "\n",
    "sum = sum2yr(2) + sum5yr(5) + sum10yr(10)\n",
    "\n",
    "pd.options.display.float_format = '{:.5f}'.format \n",
    "\n",
    "data = {'name': ['price1','price2','pricechange'] , 'value' :[P, sum, P-sum]}\n",
    "\n",
    "df = pd.DataFrame(data, index = np.arange(3))\n",
    "\n",
    "df\n",
    "\n"
   ]
  },
  {
   "attachments": {},
   "cell_type": "markdown",
   "metadata": {},
   "source": [
    "### Solution For 1 - (d)\n",
    "\n",
    "What parallel shift in the yield curve would explain the price change in part (c)?"
   ]
  },
  {
   "attachments": {},
   "cell_type": "markdown",
   "metadata": {},
   "source": [
    "### Problem 2"
   ]
  },
  {
   "attachments": {},
   "cell_type": "markdown",
   "metadata": {},
   "source": [
    "Assume that the spot-rate curve is flat at 6%. Consider a portfolio consisting\n",
    "of two par-coupon bonds. (Recall that if the spot-rate curve is flat, then the par-coupon\n",
    "yield curve is also flat at the same value.)\n",
    "\n",
    "● Bond #1 has face value $20,000 and maturity 5 years.\n",
    "\n",
    "● Bond #2 has face value $10,000 and maturity 30 years.\n"
   ]
  },
  {
   "attachments": {},
   "cell_type": "markdown",
   "metadata": {},
   "source": [
    "### Solution For 2 - (a)\n",
    "\n",
    "Find the duration and DV01 for Bond #1 and Bond #2."
   ]
  },
  {
   "cell_type": "code",
   "execution_count": 2,
   "metadata": {},
   "outputs": [
    {
     "data": {
      "text/html": [
       "<div>\n",
       "<style scoped>\n",
       "    .dataframe tbody tr th:only-of-type {\n",
       "        vertical-align: middle;\n",
       "    }\n",
       "\n",
       "    .dataframe tbody tr th {\n",
       "        vertical-align: top;\n",
       "    }\n",
       "\n",
       "    .dataframe thead th {\n",
       "        text-align: right;\n",
       "    }\n",
       "</style>\n",
       "<table border=\"1\" class=\"dataframe\">\n",
       "  <thead>\n",
       "    <tr style=\"text-align: right;\">\n",
       "      <th></th>\n",
       "      <th>name</th>\n",
       "      <th>value</th>\n",
       "    </tr>\n",
       "  </thead>\n",
       "  <tbody>\n",
       "    <tr>\n",
       "      <th>0</th>\n",
       "      <td>DV01_1</td>\n",
       "      <td>0.722402</td>\n",
       "    </tr>\n",
       "    <tr>\n",
       "      <th>1</th>\n",
       "      <td>DV01_2</td>\n",
       "      <td>0.494295</td>\n",
       "    </tr>\n",
       "    <tr>\n",
       "      <th>2</th>\n",
       "      <td>DV01_Port</td>\n",
       "      <td>1.216697</td>\n",
       "    </tr>\n",
       "  </tbody>\n",
       "</table>\n",
       "</div>"
      ],
      "text/plain": [
       "        name     value\n",
       "0     DV01_1  0.722402\n",
       "1     DV01_2  0.494295\n",
       "2  DV01_Port  1.216697"
      ]
     },
     "execution_count": 2,
     "metadata": {},
     "output_type": "execute_result"
    }
   ],
   "source": [
    "def sum1(T):\n",
    "    ret = 0\n",
    "\n",
    "    ret += 20000/((1+0.03)**(2*T))\n",
    "\n",
    "    return ret\n",
    "\n",
    "def sum2(T):\n",
    "    ret = 0\n",
    "    \n",
    "    ret += 10000/((1+0.03)**(2*T))\n",
    "\n",
    "    return ret\n",
    "\n",
    "def sum1_001(T):\n",
    "    ret = 0\n",
    "\n",
    "    ret += 20000/((1+0.030005)**(2*T))\n",
    "\n",
    "    return ret\n",
    "\n",
    "def sum2_001(T):\n",
    "    ret = 0\n",
    "\n",
    "    ret += 10000/((1+0.030005)**(2*T))\n",
    "\n",
    "    return ret\n",
    "\n",
    "pricebond1 = sum1(5)\n",
    "pricebond2 = sum2(30)\n",
    "pricep =  pricebond1 + pricebond2\n",
    "\n",
    "pricebond1_001 = sum1_001(5)\n",
    "pricebond2_001 = sum2_001(30)\n",
    "pricep_001 = pricebond1_001 + pricebond2_001\n",
    "\n",
    "data = {'name': ['DV01_1','DV01_2','DV01_Port'] , 'value' :[pricebond1-pricebond1_001 , pricebond2-pricebond2_001, pricep-pricep_001]}\n",
    "\n",
    "df = pd.DataFrame(data, index = np.arange(3))\n",
    "\n",
    "df\n",
    "\n",
    "\n",
    "\n",
    "\n"
   ]
  },
  {
   "attachments": {},
   "cell_type": "markdown",
   "metadata": {},
   "source": [
    "### Solution For 2 - (b)\n",
    "\n",
    " It is desired to purchase a single zero-coupon having the same price and the\n",
    "same DV01 as the portfolio of par-coupon bonds. \n",
    "\n",
    "Find the maturity T of such a bond. (You many assume that zeros of all maturities are available and that\n",
    "discount factors for all maturities are given by $𝑑(𝑡)$ = (1.03) ) \n",
    "\n",
    "If you could not $−2𝑡$ do part (a), \n",
    "\n",
    "you may express $T$ in terms of the DV01 of the portfolio of\n",
    "par-coupon bonds."
   ]
  },
  {
   "cell_type": "code",
   "execution_count": null,
   "metadata": {},
   "outputs": [],
   "source": []
  },
  {
   "attachments": {},
   "cell_type": "markdown",
   "metadata": {},
   "source": [
    "### Solution 2 - (c)\n",
    "\n",
    "What parallel shift in the spot rate curve would explain a price decrease of\n",
    "$212.73 in the portfolio?\n",
    "\n",
    "(Use a first-order approximation. Be sure to specify a\n",
    "direction as well as a magnitude of the shift)"
   ]
  },
  {
   "cell_type": "code",
   "execution_count": 36,
   "metadata": {},
   "outputs": [
    {
     "data": {
      "text/html": [
       "<div>\n",
       "<style scoped>\n",
       "    .dataframe tbody tr th:only-of-type {\n",
       "        vertical-align: middle;\n",
       "    }\n",
       "\n",
       "    .dataframe tbody tr th {\n",
       "        vertical-align: top;\n",
       "    }\n",
       "\n",
       "    .dataframe thead th {\n",
       "        text-align: right;\n",
       "    }\n",
       "</style>\n",
       "<table border=\"1\" class=\"dataframe\">\n",
       "  <thead>\n",
       "    <tr style=\"text-align: right;\">\n",
       "      <th></th>\n",
       "      <th>name</th>\n",
       "      <th>value</th>\n",
       "    </tr>\n",
       "  </thead>\n",
       "  <tbody>\n",
       "    <tr>\n",
       "      <th>0</th>\n",
       "      <td>convexity1</td>\n",
       "      <td>82.20748</td>\n",
       "    </tr>\n",
       "    <tr>\n",
       "      <th>1</th>\n",
       "      <td>convexity2</td>\n",
       "      <td>1119.70455</td>\n",
       "    </tr>\n",
       "    <tr>\n",
       "      <th>2</th>\n",
       "      <td>convexity</td>\n",
       "      <td>186.33853</td>\n",
       "    </tr>\n",
       "  </tbody>\n",
       "</table>\n",
       "</div>"
      ],
      "text/plain": [
       "         name      value\n",
       "0  convexity1   82.20748\n",
       "1  convexity2 1119.70455\n",
       "2   convexity  186.33853"
      ]
     },
     "execution_count": 36,
     "metadata": {},
     "output_type": "execute_result"
    }
   ],
   "source": [
    "def conv1(T):\n",
    "    ret = 0\n",
    "    for n in range(1,2*T+1):\n",
    "        ret += (1/((20000)*(1+0.06)**2))* ((20000*0.03)/((1+0.03)**n))*(n**2 + n)\n",
    "\n",
    "    ret += (1/((20000)*(1+0.06)**2))* ((20000)/((1+0.03)**n))*(n**2 + n)\n",
    "\n",
    "    return ret\n",
    "\n",
    "def conv2(T):\n",
    "    ret = 0\n",
    "    for n in range(1,2*T+1):\n",
    "        ret += (1/((10000)*(1+0.06)**2))* ((10000*0.03)/((1+0.03)**n))*(n**2 + n)\n",
    "\n",
    "    ret += (1/((10000)*(1+0.06)**2))* ((10000)/((1+0.03)**n))*(n**2 + n)\n",
    "\n",
    "    return ret\n",
    "\n",
    "convexity1 = conv1(5)\n",
    "convexity2 = conv2(30)\n",
    "\n",
    "prvalue1 = 20000 * math.exp(-0.06 * 5)\n",
    "prvalue2 = 10000 * math.exp(-0.06 * 30)\n",
    "\n",
    "weight1 = prvalue1 / (prvalue1+prvalue2)\n",
    "weight2 = prvalue2 / (prvalue1+prvalue2)\n",
    "\n",
    "convexity = weight1 * convexity1 + weight2 * convexity2\n",
    "\n",
    "data = {'name': ['convexity1','convexity2','convexity'] , 'value' :[convexity1, convexity2, convexity]}\n",
    "\n",
    "df = pd.DataFrame(data, index = np.arange(3))\n",
    "\n",
    "df\n",
    "\n",
    "\n",
    "\n"
   ]
  },
  {
   "attachments": {},
   "cell_type": "markdown",
   "metadata": {},
   "source": [
    "$$P(r) \\approx P(0.06) + \\frac {dP}{dy} (r - 0.06) + \\frac 1 2 \\frac {d^2 P}{dy^2} (r - 0.06)^2$$ "
   ]
  },
  {
   "attachments": {},
   "cell_type": "markdown",
   "metadata": {},
   "source": [
    "By using wolfram alpha, r = 0.0695116, then increase 0.95116%"
   ]
  },
  {
   "attachments": {},
   "cell_type": "markdown",
   "metadata": {},
   "source": [
    "## Problem 3\n",
    "\n",
    "Consider a zero-coupon bond with face value 10,000 and maturity 10\n",
    "years. \n",
    "\n",
    "Assume that $\\hat{r}(10) = 0.048736$."
   ]
  },
  {
   "attachments": {},
   "cell_type": "markdown",
   "metadata": {},
   "source": [
    "### Solution For 3 - (a)\n",
    "\n",
    "Compute the convexity of the bond."
   ]
  },
  {
   "cell_type": "code",
   "execution_count": 27,
   "metadata": {},
   "outputs": [
    {
     "data": {
      "text/plain": [
       "297.0841343105586"
      ]
     },
     "execution_count": 27,
     "metadata": {},
     "output_type": "execute_result"
    }
   ],
   "source": [
    "def conv3(T):\n",
    "    ret = 0\n",
    "    for n in range(1,2*T+1):\n",
    "        ret += (1/((10000)*(1+0.048736/2)**2))* ((10000*0.048736/2)/((1+0.048736/2)**n))*(n**2 + n)\n",
    "\n",
    "    ret += (1/((10000)*(1+0.048736/2)**2))* ((10000)/((1+0.048736/2)**n))*(n**2 + n)\n",
    "\n",
    "    return ret\n",
    "\n",
    "conv3(10)"
   ]
  },
  {
   "cell_type": "code",
   "execution_count": 43,
   "metadata": {},
   "outputs": [
    {
     "data": {
      "text/plain": [
       "(10000.000000000007, 35.00000000000003, -3.637978807091713e-12)"
      ]
     },
     "execution_count": 43,
     "metadata": {},
     "output_type": "execute_result"
    }
   ],
   "source": [
    "def sum4(T):\n",
    "    ret = 0\n",
    "    for n in range(1,2*T+1):\n",
    "        ret += (10000*(0.048736/2))/((1+(0.048736/2))**n)\n",
    "    \n",
    "    ret += 10000/((1+0.048736/2)**(2*T))\n",
    "\n",
    "    return ret\n",
    "\n",
    "def sum4_001(T):\n",
    "    ret = 0\n",
    "    for n in range(1,2*T+1):\n",
    "        ret += (10000* (0.048746/2))/((1+(0.048746/2))**n)\n",
    "    \n",
    "    ret += 10000/((1+(0.048746/2))**(2*T))\n",
    "\n",
    "    return ret\n",
    "\n",
    "dv01_4 = sum4_001(10) - sum4(10)\n",
    "\n",
    "sum4(10), sum4(10)*0.0035 , dv01_4"
   ]
  },
  {
   "attachments": {},
   "cell_type": "markdown",
   "metadata": {},
   "source": [
    "$$ 35 = \\frac {dP} {dy} (r - 0.048736) + \\frac 1 2 \\frac {d^2 P} {dy^2} (r-0.048736)^2 $$"
   ]
  },
  {
   "cell_type": "code",
   "execution_count": null,
   "metadata": {},
   "outputs": [],
   "source": []
  }
 ],
 "metadata": {
  "kernelspec": {
   "display_name": "base",
   "language": "python",
   "name": "python3"
  },
  "language_info": {
   "codemirror_mode": {
    "name": "ipython",
    "version": 3
   },
   "file_extension": ".py",
   "mimetype": "text/x-python",
   "name": "python",
   "nbconvert_exporter": "python",
   "pygments_lexer": "ipython3",
   "version": "3.8.8"
  },
  "orig_nbformat": 4
 },
 "nbformat": 4,
 "nbformat_minor": 2
}
