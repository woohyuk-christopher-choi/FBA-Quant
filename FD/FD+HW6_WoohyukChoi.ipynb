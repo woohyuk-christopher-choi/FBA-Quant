{
 "cells": [
  {
   "attachments": {},
   "cell_type": "markdown",
   "metadata": {},
   "source": [
    "# Problem 1"
   ]
  },
  {
   "attachments": {},
   "cell_type": "markdown",
   "metadata": {},
   "source": [
    "\n",
    "\n",
    "Let's start by calculating the two possible prices on date 1, given the two possible six-month rates:\n",
    "\n",
    "If the six-month rate in six months is 2.70%, then the price on date 1 is:\n",
    "\n",
    "P1 = 1000 / (1 + 0.0270/2) = $973.86\n",
    "\n",
    "If the six-month rate in six months is 1.70%, then the price on date 1 is:\n",
    "\n",
    "P1 = 1000 / (1 + 0.0170/2) = $988.34\n",
    "\n",
    "Next, we can calculate the expected discounted value of the one-year zero by taking the average of the two possible prices on date 2, weighted by their probabilities:\n",
    "\n",
    "Expected discounted value = 0.5 × [1000 / (1 + 0.022 × 1) + 973.86 / (1 + 0.024 × 0.5)] + 0.5 × [1000 / (1 + 0.022 × 1) + 988.34 / (1 + 0.024 × 0.5)] = $979.74\n",
    "\n",
    "The market price of the one-year zero is $980.00, so the difference between the expected discounted value and the market price is:\n",
    "\n",
    "|Expected discounted value - Market price| = |$979.74 - $980.00| = $0.26\n",
    "\n",
    "Therefore, the absolute difference between the expected discounted value and the market price is $0.26.\n",
    "\n",
    "To calculate the risk-neutral probability 𝑝, we can use the formula:\n",
    "\n",
    "𝑝 = (1 + r1/2) / (r2/2 - r1/2)\n",
    "\n",
    "where r1/2 is the prevailing six-month rate on date 1 and r2/2 is the prevailing six-month rate on date 2. We know that r2/2 = 0.024 and r1/2 is either 0.027 or 0.017 with equal probability. Therefore:\n",
    "\n",
    "𝑝 = (1 + 0.027/2) / (0.024 - 0.027/2) = 0.4803 (if r1/2 = 0.027)\n",
    "𝑝 = (1 + 0.017/2) / (0.024 - 0.017/2) = 0.5197 (if r1/2 = 0.017)\n",
    "\n",
    "Therefore, the risk-neutral probability 𝑝 is either 0.4803 or 0.5197, depending on the prevailing six-month rate on date 1."
   ]
  },
  {
   "attachments": {},
   "cell_type": "markdown",
   "metadata": {},
   "source": [
    "# Problem 2\n"
   ]
  },
  {
   "attachments": {},
   "cell_type": "markdown",
   "metadata": {},
   "source": [
    "To calculate the \"true\" option price, we need to use the risk-neutral valuation approach, which involves discounting the expected payoff of the option at the risk-neutral rate.\n",
    "\n",
    "The call option gives the holder the right to purchase a $1,000 face value six-month zero at a price of $988 in six months. The option will only be exercised if the price of the six-month zero on the exercise date is above $988. We can calculate the two possible payoffs of the option, depending on the prevailing six-month rate on the exercise date:\n",
    "\n",
    "If the six-month rate is 2.70%, then the price of the six-month zero will be:\n",
    "\n",
    "$1,000 / (1 + 0.0270/2) = $986.59\n",
    "\n",
    "The payoff of the option will be:\n",
    "\n",
    "$986.59 - $988 = -$1.41 (since the price is below the exercise price)\n",
    "\n",
    "If the six-month rate is 1.70%, then the price of the six-month zero will be:\n",
    "\n",
    "$1,000 / (1 + 0.0170/2) = $994.25\n",
    "\n",
    "The payoff of the option will be:\n",
    "\n",
    "$994.25 - $988 = $6.25 (since the price is above the exercise price)\n",
    "\n",
    "The probabilities of these two outcomes are 0.5 each, as given in the problem.\n",
    "\n",
    "To calculate the \"true\" option price, we need to discount the expected payoff of the option at the risk-neutral rate. The risk-neutral rate is the one that makes the expected discounted payoff equal to the current market price of the option, which is $988.\n",
    "\n",
    "Let's assume that the risk-neutral rate is r/2. Then, the expected discounted payoff of the option is:\n",
    "\n",
    "0.5 × [$1.41 / (1 + r/2)] + 0.5 × [$6.25 / (1 + r/2)] = $988\n",
    "\n",
    "Solving for r, we get:\n",
    "\n",
    "r/2 = 0.0388\n",
    "\n",
    "Therefore, the risk-neutral rate is 7.76% (annualized). The \"true\" option price is the expected payoff of the option discounted at this rate:\n",
    "\n",
    "0.5 × [$1.41 / (1 + 0.0388/2)] + 0.5 × [$6.25 / (1 + 0.0388/2)] = $3.27\n",
    "\n",
    "Therefore, the \"true\" price of the call option is $3.27."
   ]
  },
  {
   "attachments": {},
   "cell_type": "markdown",
   "metadata": {},
   "source": [
    "# Problem 3"
   ]
  },
  {
   "attachments": {},
   "cell_type": "markdown",
   "metadata": {},
   "source": [
    "To value the $1,000,000 stylized CMT swap struck at 2.2%, we need to determine the expected discounted value of the date 1 payoffs under the risk-neutral probabilities, and then discount them back to date 0.\n",
    "\n",
    "Recall that the date 1 payoffs depend on the six-month rate six months from now, which can be either 2.70% or 1.70% with equal probability. Let's first calculate the prices of the six-month zero under each of these two scenarios, using the given spot rates:\n",
    "\n",
    "If the six-month rate is 2.70%, then the price of the six-month zero six months from now will be:\n",
    "\n",
    "$1,000 / (1 + 0.0270/2) = $986.59\n",
    "\n",
    "If the six-month rate is 1.70%, then the price of the six-month zero six months from now will be:\n",
    "\n",
    "$1,000 / (1 + 0.0170/2) = $994.25\n",
    "\n",
    "Next, we need to calculate the date 1 payoffs of the swap, which depend on the difference between the fixed rate of 2.2% and the six-month rate six months from now:\n",
    "\n",
    "If the six-month rate is 2.70%, then the date 1 payoff will be:\n",
    "\n",
    "$1,000,000 × (2.2% - 2.70%) × (180/360) = -$5,500\n",
    "\n",
    "If the six-month rate is 1.70%, then the date 1 payoff will be:\n",
    "\n",
    "$1,000,000 × (2.2% - 1.70%) × (180/360) = $8,900\n",
    "\n",
    "The probabilities of these two outcomes are 0.5 each, as given in the problem.\n",
    "\n",
    "To calculate the expected discounted value of the date 1 payoffs, we need to weight the two payoffs by their respective probabilities and discount them at the risk-neutral rate of the corresponding state:\n",
    "\n",
    "The expected discounted value of the date 1 payoffs in state 1 is:\n",
    "\n",
    "0.5 × [$8,900 / (1 + 0.0224/2)] + 0.5 × [-$5,500 / (1 + 0.0224/2)] = $1,609.19\n",
    "\n",
    "The expected discounted value of the date 1 payoffs in state 0 is:\n",
    "\n",
    "0.6520 × [$1,609.19 / (1 + 0.03/2)] + 0.3480 × [$1,609.19 / (1 + 0.01/2)] = $1,594.08\n",
    "\n",
    "Therefore, the expected discounted value of the date 1 payoffs under the risk-neutral probabilities is $1,594.08.\n",
    "\n",
    "To value the swap on date 0, we need to discount this expected value at the risk-neutral rate of state 0:\n",
    "\n",
    "$1,594.08 / (1 + 0.01991/2) = $1,561.81\n",
    "\n",
    "Therefore, the value of the $1,000,000 stylized CMT swap struck at 2.2% on date 0 is $1,561,810."
   ]
  },
  {
   "attachments": {},
   "cell_type": "markdown",
   "metadata": {},
   "source": [
    "# Problem 4\n"
   ]
  },
  {
   "attachments": {},
   "cell_type": "markdown",
   "metadata": {},
   "source": [
    "\n",
    "\n",
    "Let's start by calculating the expected discounted values of the cash flows at date 1, using the risk-neutral probabilities:\n",
    "\n",
    "State 1: $10,000 * (1 + 0.047) = $10,470 (up-move on date 1)\n",
    "State 2: $10,000 * (1 + 0.045) = $10,450 (down-move on date 1)\n",
    "Next, we calculate the expected discounted value of the swap rate at date 1, using the same risk-neutral probabilities:\n",
    "\n",
    "State 1: $10,000 * (1 + 0.047 + 0.002) = $10497 (up-move on date 1)\n",
    "State 2: $10,000 * (1 + 0.045 + 0.002) = $10470 (down-move on date 1)\n",
    "The strike rate for the swap will be the six-month spot rate on date 1 plus the OAS spread:\n",
    "\n",
    "Strike rate = 0.5 * (0.046 + 0.002) + 0.002 = 0.025\n",
    "Finally, we can calculate the value of the swap as the difference between the expected discounted value of the cash flows and the expected discounted value of the swap rate, both at date 1:\n",
    "\n",
    "State 1: $10,470 - $10497 * 0.025 = $10207.575\n",
    "State 2: $10,450 - $10470 * 0.025 = $10188.25\n",
    "The expected value of the swap is the weighted average of these two values, using the risk-neutral probabilities:\n",
    "\n",
    "Expected value = $10207.575 * 0.47 + $10188.25 * 0.23 = $7140.85775\n",
    "Therefore, the value of the CMT swap with an OAS of 20 basis points is approximately $7140.85775"
   ]
  },
  {
   "cell_type": "markdown",
   "metadata": {},
   "source": []
  }
 ],
 "metadata": {
  "language_info": {
   "name": "python"
  },
  "orig_nbformat": 4
 },
 "nbformat": 4,
 "nbformat_minor": 2
}
