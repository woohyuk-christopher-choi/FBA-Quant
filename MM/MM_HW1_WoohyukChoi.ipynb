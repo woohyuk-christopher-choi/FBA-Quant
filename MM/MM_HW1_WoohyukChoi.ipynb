{
 "cells": [
  {
   "cell_type": "code",
   "execution_count": 22,
   "metadata": {},
   "outputs": [],
   "source": [
    "import pandas as pd\n",
    "from sklearn.linear_model import LinearRegression\n",
    "import matplotlib.pyplot as plt"
   ]
  },
  {
   "cell_type": "markdown",
   "metadata": {},
   "source": [
    "# Problem 1"
   ]
  },
  {
   "cell_type": "code",
   "execution_count": 23,
   "metadata": {},
   "outputs": [
    {
     "data": {
      "text/html": [
       "<div>\n",
       "<style scoped>\n",
       "    .dataframe tbody tr th:only-of-type {\n",
       "        vertical-align: middle;\n",
       "    }\n",
       "\n",
       "    .dataframe tbody tr th {\n",
       "        vertical-align: top;\n",
       "    }\n",
       "\n",
       "    .dataframe thead th {\n",
       "        text-align: right;\n",
       "    }\n",
       "</style>\n",
       "<table border=\"1\" class=\"dataframe\">\n",
       "  <thead>\n",
       "    <tr style=\"text-align: right;\">\n",
       "      <th></th>\n",
       "      <th>Price</th>\n",
       "      <th>Size</th>\n",
       "      <th>Time</th>\n",
       "      <th>Side</th>\n",
       "    </tr>\n",
       "  </thead>\n",
       "  <tbody>\n",
       "    <tr>\n",
       "      <th>0</th>\n",
       "      <td>74.48</td>\n",
       "      <td>300</td>\n",
       "      <td>11:49:34.982000</td>\n",
       "      <td>Ask</td>\n",
       "    </tr>\n",
       "    <tr>\n",
       "      <th>1</th>\n",
       "      <td>74.48</td>\n",
       "      <td>500</td>\n",
       "      <td>11:49:39.994000</td>\n",
       "      <td>Ask</td>\n",
       "    </tr>\n",
       "    <tr>\n",
       "      <th>2</th>\n",
       "      <td>75.74</td>\n",
       "      <td>100</td>\n",
       "      <td>08:25:16.982000</td>\n",
       "      <td>Ask</td>\n",
       "    </tr>\n",
       "    <tr>\n",
       "      <th>3</th>\n",
       "      <td>76.00</td>\n",
       "      <td>150</td>\n",
       "      <td>08:02:01.968000</td>\n",
       "      <td>Ask</td>\n",
       "    </tr>\n",
       "    <tr>\n",
       "      <th>4</th>\n",
       "      <td>76.77</td>\n",
       "      <td>20</td>\n",
       "      <td>07:01:01.027000</td>\n",
       "      <td>Ask</td>\n",
       "    </tr>\n",
       "  </tbody>\n",
       "</table>\n",
       "</div>"
      ],
      "text/plain": [
       "   Price  Size             Time Side\n",
       "0  74.48   300  11:49:34.982000  Ask\n",
       "1  74.48   500  11:49:39.994000  Ask\n",
       "2  75.74   100  08:25:16.982000  Ask\n",
       "3  76.00   150  08:02:01.968000  Ask\n",
       "4  76.77    20  07:01:01.027000  Ask"
      ]
     },
     "execution_count": 23,
     "metadata": {},
     "output_type": "execute_result"
    }
   ],
   "source": [
    "data = pd.read_excel('ch2_ex1.xlsx')\n",
    "data.head()"
   ]
  },
  {
   "cell_type": "code",
   "execution_count": 24,
   "metadata": {},
   "outputs": [],
   "source": [
    "ask_data = data[data['Side'] == 'Ask'].sort_values(by='Price', ascending=True)\n",
    "bid_data = data[data['Side'] == 'Bid'].sort_values(by='Price', ascending=False)\n"
   ]
  },
  {
   "cell_type": "code",
   "execution_count": 25,
   "metadata": {},
   "outputs": [],
   "source": [
    "def weighted_average_spread(volume):\n",
    "    # Cumulative sum of sizes for ask and bid, sorted by price\n",
    "    ask_cumsum = ask_data['Size'].cumsum()\n",
    "    bid_cumsum = bid_data['Size'].cumsum()\n",
    "    \n",
    "    # Find the minimum price in ask and maximum price in bid for the given volume\n",
    "    ask_price = ask_data[ask_cumsum >= volume].iloc[0]['Price'] if not ask_data[ask_cumsum >= volume].empty else None\n",
    "    bid_price = bid_data[bid_cumsum >= volume].iloc[0]['Price'] if not bid_data[bid_cumsum >= volume].empty else None\n",
    "    \n",
    "    if ask_price and bid_price:\n",
    "        absolute_spread = ask_price - bid_price\n",
    "        mid_price = (ask_price + bid_price) / 2\n",
    "        relative_spread = absolute_spread / mid_price\n",
    "    else:\n",
    "        absolute_spread = None\n",
    "        relative_spread = None\n",
    "    \n",
    "    return absolute_spread, relative_spread"
   ]
  },
  {
   "cell_type": "code",
   "execution_count": 26,
   "metadata": {},
   "outputs": [
    {
     "data": {
      "text/plain": [
       "({100: (0.060000000000002274, 0.0008059100067159472),\n",
       "  500: (0.12000000000000455, 0.001612469766191945),\n",
       "  1000: (1.6400000000000006, 0.02181431231710562),\n",
       "  2000: (3.5999999999999943, 0.04765056254136326)},\n",
       " 9,\n",
       " 11)"
      ]
     },
     "execution_count": 26,
     "metadata": {},
     "output_type": "execute_result"
    }
   ],
   "source": [
    "volumes = [100, 500, 1000, 2000]\n",
    "\n",
    "# Compute weighted average spreads\n",
    "weighted_spreads = {volume: weighted_average_spread(volume) for volume in volumes}\n",
    "\n",
    "# Determine depth for 2000 shares or more\n",
    "ask_depth_2000 = ask_data[ask_data['Size'].cumsum() >= 2000]['Price'].count()\n",
    "bid_depth_2000 = bid_data[bid_data['Size'].cumsum() >= 2000]['Price'].count()\n",
    "\n",
    "weighted_spreads, ask_depth_2000, bid_depth_2000"
   ]
  },
  {
   "cell_type": "markdown",
   "metadata": {},
   "source": [
    "The LOB is deeper than Ask because Bid side has more quantity. (9 / 11)"
   ]
  },
  {
   "cell_type": "markdown",
   "metadata": {},
   "source": [
    "# Problem 2"
   ]
  },
  {
   "cell_type": "markdown",
   "metadata": {},
   "source": [
    "## 2-a)"
   ]
  },
  {
   "cell_type": "code",
   "execution_count": 27,
   "metadata": {},
   "outputs": [
    {
     "name": "stdout",
     "output_type": "stream",
     "text": [
      "9:30 Absolute Quoted Spread: 2.8100000000000023\n",
      "9:30 Relative Quoted Spread: 0.027847975818839524\n",
      "10:30 Absolute Quoted Spread: 2.530000000000001\n",
      "10:30 Relative Quoted Spread: 0.02497901959816361\n"
     ]
    }
   ],
   "source": [
    "ask_price_930 = 102.31\n",
    "bid_price_930 = 99.50\n",
    "ask_price_1030 = 102.55\n",
    "bid_price_1030 = 100.02\n",
    "\n",
    "absolute_quoted_spread_930 = ask_price_930 - bid_price_930\n",
    "mid_point_price_930 = (ask_price_930 + bid_price_930) / 2\n",
    "relative_quoted_spread_930 = absolute_quoted_spread_930 / mid_point_price_930\n",
    "\n",
    "absolute_quoted_spread_1030 = ask_price_1030 - bid_price_1030\n",
    "mid_point_price_1030 = (ask_price_1030 + bid_price_1030) / 2\n",
    "relative_quoted_spread_1030 = absolute_quoted_spread_1030 / mid_point_price_1030\n",
    "\n",
    "print(\"9:30 Absolute Quoted Spread:\", absolute_quoted_spread_930)\n",
    "print(\"9:30 Relative Quoted Spread:\", relative_quoted_spread_930)\n",
    "print(\"10:30 Absolute Quoted Spread:\", absolute_quoted_spread_1030)\n",
    "print(\"10:30 Relative Quoted Spread:\", relative_quoted_spread_1030)\n"
   ]
  },
  {
   "cell_type": "markdown",
   "metadata": {},
   "source": [
    "## 2-b)"
   ]
  },
  {
   "cell_type": "code",
   "execution_count": 28,
   "metadata": {},
   "outputs": [
    {
     "name": "stdout",
     "output_type": "stream",
     "text": [
      "Absolute Effective Ask-Side Half-Spread: 1.855000000000004\n",
      "Relative Effective Ask-Side Half-Spread: 0.01838362816510583\n"
     ]
    }
   ],
   "source": [
    "executed_buy_order_price = 102.76\n",
    "\n",
    "absolute_effective_ask_side_half_spread = executed_buy_order_price - mid_point_price_930\n",
    "relative_effective_ask_side_half_spread = absolute_effective_ask_side_half_spread / mid_point_price_930\n",
    "\n",
    "print(\"Absolute Effective Ask-Side Half-Spread:\", absolute_effective_ask_side_half_spread)\n",
    "print(\"Relative Effective Ask-Side Half-Spread:\", relative_effective_ask_side_half_spread)\n"
   ]
  },
  {
   "cell_type": "markdown",
   "metadata": {},
   "source": [
    "## 2-c)\n",
    "\n",
    "..."
   ]
  },
  {
   "cell_type": "markdown",
   "metadata": {},
   "source": [
    "## 2-d)"
   ]
  },
  {
   "cell_type": "code",
   "execution_count": 29,
   "metadata": {},
   "outputs": [
    {
     "name": "stdout",
     "output_type": "stream",
     "text": [
      "Absolute Realized Spread: 2.740000000000009\n"
     ]
    }
   ],
   "source": [
    "absolute_realized_spread = executed_buy_order_price - bid_price_1030\n",
    "\n",
    "print(\"Absolute Realized Spread:\", absolute_realized_spread)\n"
   ]
  },
  {
   "cell_type": "markdown",
   "metadata": {},
   "source": [
    "# Problem 3"
   ]
  },
  {
   "cell_type": "markdown",
   "metadata": {},
   "source": [
    "The original Roll's estimator of the spread is :\n",
    "\n",
    "$$ S = 2 \\sqrt{-Cov(\\Delta P_t , \\Delta P_{t+1})}$$\n",
    "\n",
    "Let's think an adjustment assumes that the impact of trades at the bid or ask is fully represented by $\\lambda$ , and that the remaining trades do not alter the covariance used in the original Roll's model.\n",
    "\n",
    "$$ S_{adj} = 2 \\sqrt{-\\frac{Cov(\\Delta P_t , \\Delta P_{t+1})}{\\lambda}} $$\n",
    "\n",
    "This is a simplification and may not capture all dynamics of market microstructure, especially in markets where midprice trades are a significant portion of all trades or where the bid-ask spread is variable."
   ]
  },
  {
   "cell_type": "markdown",
   "metadata": {},
   "source": [
    "# Problem 4"
   ]
  },
  {
   "cell_type": "markdown",
   "metadata": {},
   "source": [
    "The data for this exercise are contained in an Excel ﬁle, Ch2_AGF_data.xls: a record of one day’s transactions in the shares of a French company, AGF, on the Paris Bourse. The data comprise:\n",
    "• time of the transaction\n",
    "• size of the transaction\n",
    "• (average) transaction price\n",
    "• best bid price immediately before the transaction\n",
    "• best ask price immediately before the transaction\n",
    "• direction of trade initiation (−1 for transactions below the midprice, + 1 above the midprice)\n"
   ]
  },
  {
   "cell_type": "code",
   "execution_count": 30,
   "metadata": {},
   "outputs": [
    {
     "data": {
      "text/html": [
       "<div>\n",
       "<style scoped>\n",
       "    .dataframe tbody tr th:only-of-type {\n",
       "        vertical-align: middle;\n",
       "    }\n",
       "\n",
       "    .dataframe tbody tr th {\n",
       "        vertical-align: top;\n",
       "    }\n",
       "\n",
       "    .dataframe thead th {\n",
       "        text-align: right;\n",
       "    }\n",
       "</style>\n",
       "<table border=\"1\" class=\"dataframe\">\n",
       "  <thead>\n",
       "    <tr style=\"text-align: right;\">\n",
       "      <th></th>\n",
       "      <th>AGF 26/03/2001</th>\n",
       "      <th>Unnamed: 1</th>\n",
       "      <th>Unnamed: 2</th>\n",
       "      <th>Unnamed: 3</th>\n",
       "      <th>Unnamed: 4</th>\n",
       "      <th>Unnamed: 5</th>\n",
       "      <th>Unnamed: 6</th>\n",
       "    </tr>\n",
       "  </thead>\n",
       "  <tbody>\n",
       "    <tr>\n",
       "      <th>0</th>\n",
       "      <td>t</td>\n",
       "      <td>Time</td>\n",
       "      <td>Tradesize</td>\n",
       "      <td>Traprice</td>\n",
       "      <td>Tradedir</td>\n",
       "      <td>Bid</td>\n",
       "      <td>Ask</td>\n",
       "    </tr>\n",
       "    <tr>\n",
       "      <th>1</th>\n",
       "      <td>1</td>\n",
       "      <td>09:06:04</td>\n",
       "      <td>20</td>\n",
       "      <td>66.7</td>\n",
       "      <td>-1</td>\n",
       "      <td>66.9</td>\n",
       "      <td>67</td>\n",
       "    </tr>\n",
       "    <tr>\n",
       "      <th>2</th>\n",
       "      <td>2</td>\n",
       "      <td>09:06:11</td>\n",
       "      <td>25</td>\n",
       "      <td>66.636</td>\n",
       "      <td>-1</td>\n",
       "      <td>66.65</td>\n",
       "      <td>66.7</td>\n",
       "    </tr>\n",
       "    <tr>\n",
       "      <th>3</th>\n",
       "      <td>3</td>\n",
       "      <td>09:06:26</td>\n",
       "      <td>18</td>\n",
       "      <td>66.6</td>\n",
       "      <td>-1</td>\n",
       "      <td>66.6</td>\n",
       "      <td>66.65</td>\n",
       "    </tr>\n",
       "    <tr>\n",
       "      <th>4</th>\n",
       "      <td>4</td>\n",
       "      <td>09:07:18</td>\n",
       "      <td>273</td>\n",
       "      <td>66.4163</td>\n",
       "      <td>-1</td>\n",
       "      <td>66.5</td>\n",
       "      <td>66.55</td>\n",
       "    </tr>\n",
       "  </tbody>\n",
       "</table>\n",
       "</div>"
      ],
      "text/plain": [
       "  AGF 26/03/2001 Unnamed: 1 Unnamed: 2 Unnamed: 3 Unnamed: 4 Unnamed: 5  \\\n",
       "0              t       Time  Tradesize   Traprice   Tradedir        Bid   \n",
       "1              1   09:06:04         20       66.7         -1       66.9   \n",
       "2              2   09:06:11         25     66.636         -1      66.65   \n",
       "3              3   09:06:26         18       66.6         -1       66.6   \n",
       "4              4   09:07:18        273    66.4163         -1       66.5   \n",
       "\n",
       "  Unnamed: 6  \n",
       "0        Ask  \n",
       "1         67  \n",
       "2       66.7  \n",
       "3      66.65  \n",
       "4      66.55  "
      ]
     },
     "execution_count": 30,
     "metadata": {},
     "output_type": "execute_result"
    }
   ],
   "source": [
    "data = pd.read_excel('Data_Sets_Chapter_5_data_AGF.xls')\n",
    "data.head()"
   ]
  },
  {
   "cell_type": "code",
   "execution_count": 31,
   "metadata": {},
   "outputs": [
    {
     "data": {
      "text/html": [
       "<div>\n",
       "<style scoped>\n",
       "    .dataframe tbody tr th:only-of-type {\n",
       "        vertical-align: middle;\n",
       "    }\n",
       "\n",
       "    .dataframe tbody tr th {\n",
       "        vertical-align: top;\n",
       "    }\n",
       "\n",
       "    .dataframe thead th {\n",
       "        text-align: right;\n",
       "    }\n",
       "</style>\n",
       "<table border=\"1\" class=\"dataframe\">\n",
       "  <thead>\n",
       "    <tr style=\"text-align: right;\">\n",
       "      <th></th>\n",
       "      <th>Transaction_Number</th>\n",
       "      <th>Time</th>\n",
       "      <th>Trade_Size</th>\n",
       "      <th>Trade_Price</th>\n",
       "      <th>Trade_Direction</th>\n",
       "      <th>Bid_Price</th>\n",
       "      <th>Ask_Price</th>\n",
       "    </tr>\n",
       "  </thead>\n",
       "  <tbody>\n",
       "    <tr>\n",
       "      <th>0</th>\n",
       "      <td>1</td>\n",
       "      <td>09:06:04</td>\n",
       "      <td>20</td>\n",
       "      <td>66.7000</td>\n",
       "      <td>-1</td>\n",
       "      <td>66.90</td>\n",
       "      <td>67.00</td>\n",
       "    </tr>\n",
       "    <tr>\n",
       "      <th>1</th>\n",
       "      <td>2</td>\n",
       "      <td>09:06:11</td>\n",
       "      <td>25</td>\n",
       "      <td>66.6360</td>\n",
       "      <td>-1</td>\n",
       "      <td>66.65</td>\n",
       "      <td>66.70</td>\n",
       "    </tr>\n",
       "    <tr>\n",
       "      <th>2</th>\n",
       "      <td>3</td>\n",
       "      <td>09:06:26</td>\n",
       "      <td>18</td>\n",
       "      <td>66.6000</td>\n",
       "      <td>-1</td>\n",
       "      <td>66.60</td>\n",
       "      <td>66.65</td>\n",
       "    </tr>\n",
       "    <tr>\n",
       "      <th>3</th>\n",
       "      <td>4</td>\n",
       "      <td>09:07:18</td>\n",
       "      <td>273</td>\n",
       "      <td>66.4163</td>\n",
       "      <td>-1</td>\n",
       "      <td>66.50</td>\n",
       "      <td>66.55</td>\n",
       "    </tr>\n",
       "    <tr>\n",
       "      <th>4</th>\n",
       "      <td>5</td>\n",
       "      <td>09:07:36</td>\n",
       "      <td>27</td>\n",
       "      <td>66.5500</td>\n",
       "      <td>1</td>\n",
       "      <td>66.15</td>\n",
       "      <td>66.55</td>\n",
       "    </tr>\n",
       "  </tbody>\n",
       "</table>\n",
       "</div>"
      ],
      "text/plain": [
       "   Transaction_Number      Time  Trade_Size  Trade_Price  Trade_Direction  \\\n",
       "0                   1  09:06:04          20      66.7000               -1   \n",
       "1                   2  09:06:11          25      66.6360               -1   \n",
       "2                   3  09:06:26          18      66.6000               -1   \n",
       "3                   4  09:07:18         273      66.4163               -1   \n",
       "4                   5  09:07:36          27      66.5500                1   \n",
       "\n",
       "   Bid_Price  Ask_Price  \n",
       "0      66.90      67.00  \n",
       "1      66.65      66.70  \n",
       "2      66.60      66.65  \n",
       "3      66.50      66.55  \n",
       "4      66.15      66.55  "
      ]
     },
     "execution_count": 31,
     "metadata": {},
     "output_type": "execute_result"
    }
   ],
   "source": [
    "columns = ['Transaction_Number', 'Time', 'Trade_Size', 'Trade_Price', 'Trade_Direction', 'Bid_Price', 'Ask_Price']\n",
    "data = pd.read_excel('Data_Sets_Chapter_5_data_AGF.xls', skiprows=1, names=columns)\n",
    "\n",
    "data['Time'] = pd.to_datetime(data['Time'], format='%H:%M:%S').dt.time\n",
    "data[['Trade_Size', 'Trade_Price', 'Trade_Direction', 'Bid_Price', 'Ask_Price']] = data[['Trade_Size', 'Trade_Price', 'Trade_Direction', 'Bid_Price', 'Ask_Price']].apply(pd.to_numeric)\n",
    "\n",
    "data.head()"
   ]
  },
  {
   "cell_type": "markdown",
   "metadata": {},
   "source": [
    "## 4-a)"
   ]
  },
  {
   "cell_type": "markdown",
   "metadata": {},
   "source": [
    "\tFor each transaction, compute the absolute spread S in euro (e); compute the relative spread, s and the log spread: ln(ask)—ln(bid); and compare the average of these three measures. Then compute the average absolute spread for each of the 17 half-hour time periods of the trading day and plot a graph of your results showing the intraday evolution of the spread. What kind of pattern over the day would you expect, a priori?"
   ]
  },
  {
   "cell_type": "code",
   "execution_count": null,
   "metadata": {},
   "outputs": [
    {
     "data": {
      "text/plain": [
       "(0.10616570327552977, 0.0016086984772629698, 0.0016086998354762725)"
      ]
     },
     "execution_count": 32,
     "metadata": {},
     "output_type": "execute_result"
    }
   ],
   "source": [
    "# Calculate the spread\n",
    "data['Absolute_Spread'] = data['Ask_Price'] - data['Bid_Price']\n",
    "data['Mid_Price'] = (data['Ask_Price'] + data['Bid_Price']) / 2\n",
    "data['Relative_Spread'] = data['Absolute_Spread'] / data['Mid_Price']\n",
    "data['Log_Spread'] = np.log(data['Ask_Price']) - np.log(data['Bid_Price'])\n",
    "\n",
    "# Calculate the averages of these measures\n",
    "average_absolute_spread = data['Absolute_Spread'].mean()\n",
    "average_relative_spread = data['Relative_Spread'].mean()\n",
    "average_log_spread = data['Log_Spread'].mean()\n",
    "\n",
    "average_absolute_spread, average_relative_spread, average_log_spread"
   ]
  },
  {
   "cell_type": "code",
   "execution_count": 33,
   "metadata": {},
   "outputs": [
    {
     "data": {
      "image/png": "[encoded data removed]",
      "text/plain": [
       "<Figure size 864x432 with 1 Axes>"
      ]
     },
     "metadata": {
      "needs_background": "light"
     },
     "output_type": "display_data"
    }
   ],
   "source": [
    "# Convert 'Time' to datetime format\n",
    "data['Time'] = pd.to_datetime(data['Time'], format='%H:%M:%S')\n",
    "\n",
    "# Group data by 30-minute intervals and calculate the average absolute spread for each interval\n",
    "data['Interval'] = data['Time'].dt.floor('30T').dt.time\n",
    "average_spread_by_interval = data.groupby('Interval')['Absolute_Spread'].mean()\n",
    "\n",
    "# Visualisation\n",
    "plt.figure(figsize=(12, 6))\n",
    "average_spread_by_interval.plot(kind='bar')\n",
    "plt.title('Intraday Evolution of the Absolute Spread')\n",
    "plt.xlabel('Time Interval')\n",
    "plt.ylabel('Average Absolute Spread (€)')\n",
    "plt.xticks(rotation=45)\n",
    "plt.tight_layout()\n",
    "plt.show()"
   ]
  },
  {
   "cell_type": "markdown",
   "metadata": {},
   "source": [
    "## 4-b)"
   ]
  },
  {
   "cell_type": "markdown",
   "metadata": {},
   "source": [
    "Compute and compare the average effective trading cost or “halfspread” in absolute terms, relative terms, and logs.\n",
    "\n",
    "*** "
   ]
  },
  {
   "cell_type": "markdown",
   "metadata": {},
   "source": [
    "Half-spread is half of the difference (spread) between buy and sell prices, and is used as another indicator of market liquidity and transaction costs."
   ]
  },
  {
   "cell_type": "code",
   "execution_count": 34,
   "metadata": {},
   "outputs": [
    {
     "data": {
      "text/plain": [
       "(0.05308285163776488, 0.0008043492386314849, 0.0008043499177381362)"
      ]
     },
     "execution_count": 34,
     "metadata": {},
     "output_type": "execute_result"
    }
   ],
   "source": [
    "data['Halfspread_Absolute'] = data['Absolute_Spread'] / 2\n",
    "data['Halfspread_Relative'] = data['Relative_Spread'] / 2\n",
    "data['Halfspread_Log'] = data['Log_Spread'] / 2\n",
    "\n",
    "average_halfspread_absolute = data['Halfspread_Absolute'].mean()\n",
    "average_halfspread_relative = data['Halfspread_Relative'].mean()\n",
    "average_halfspread_log = data['Halfspread_Log'].mean()\n",
    "\n",
    "average_halfspread_absolute, average_halfspread_relative, average_halfspread_log\n"
   ]
  },
  {
   "cell_type": "markdown",
   "metadata": {},
   "source": [
    "## 4-c)"
   ]
  },
  {
   "cell_type": "markdown",
   "metadata": {},
   "source": [
    "Compute the VWAP for the day. Then calculate the VWAP for buyer and seller-initiated transactions for the whole day and compare your results with the VWAP benchmark. Repeat, again separately for buyer and seller-initiated transactions, for transactions divided into three time periods: 9:00 a.m–12:00 a.m., 12:00–3:00, and 3:00–5:30 p.m."
   ]
  },
  {
   "cell_type": "code",
   "execution_count": 35,
   "metadata": {},
   "outputs": [
    {
     "data": {
      "text/plain": [
       "(65.97625925897282, 66.0926499559618, 65.88885986691075)"
      ]
     },
     "execution_count": 35,
     "metadata": {},
     "output_type": "execute_result"
    }
   ],
   "source": [
    "# Calculation of transaction value:\n",
    "# Create a Trade_Value column and define it as the product of the transaction size (Trade_Size) and the transaction price (Trade_Price), which represents the total value of each transaction.\n",
    "data['Trade_Value'] = data['Trade_Size'] * data['Trade_Price']\n",
    "\n",
    "# Calculate full VWAP\n",
    "# Total value of all transactions\n",
    "total_trade_value = data['Trade_Value'].sum()\n",
    "# Total trading volume for all transactions\n",
    "total_volume = data['Trade_Size'].sum()\n",
    "# A weighted average price for the entire transaction, which is the total transaction value divided by the total transaction volume.\n",
    "vwap_overall = total_trade_value / total_volume\n",
    "\n",
    "# VWAP Calculation for Buy Transactions\n",
    "buyer_data = data[data['Trade_Direction'] == 1]\n",
    "buyer_trade_value = buyer_data['Trade_Value'].sum()\n",
    "buyer_volume = buyer_data['Trade_Size'].sum()\n",
    "vwap_buyer = buyer_trade_value / buyer_volume if buyer_volume > 0 else 0\n",
    "\n",
    "# VWAP Calculation for Sell Transactions\n",
    "seller_data = data[data['Trade_Direction'] == -1]\n",
    "seller_trade_value = seller_data['Trade_Value'].sum()\n",
    "seller_volume = seller_data['Trade_Size'].sum()\n",
    "vwap_seller = seller_trade_value / seller_volume if seller_volume > 0 else 0\n",
    "\n",
    "vwap_overall, vwap_buyer, vwap_seller"
   ]
  },
  {
   "cell_type": "code",
   "execution_count": 36,
   "metadata": {},
   "outputs": [
    {
     "data": {
      "text/plain": [
       "(65.97625925897282,\n",
       " 66.0926499559618,\n",
       " 65.88885986691075,\n",
       " {('09:00:00', '12:00:00'): {'Buyer': 66.09206370221254,\n",
       "   'Seller': 65.90238640544808},\n",
       "  ('12:00:00', '15:00:00'): {'Buyer': 66.10385337566223,\n",
       "   'Seller': 65.99628722148495},\n",
       "  ('15:00:00', '17:30:00'): {'Buyer': 66.08637827551495,\n",
       "   'Seller': 65.85991259218805}})"
      ]
     },
     "execution_count": 36,
     "metadata": {},
     "output_type": "execute_result"
    }
   ],
   "source": [
    "# Add the Value column to calculate the total value of each transaction (the product of the transaction size Trade_Size and the transaction price Trade_Price).\n",
    "data['Value'] = data['Trade_Size'] * data['Trade_Price']\n",
    "\n",
    "# Total_value calculates the total value of all transactions (the sum of the values) and total_volume calculates the total volume of all transactions (the sum of the trade_size).\n",
    "total_value = data['Value'].sum()\n",
    "total_volume = data['Trade_Size'].sum()\n",
    "\n",
    "vwap_day = total_value / total_volume\n",
    "\n",
    "# Buyer and seller VWAP calculations\n",
    "buyer_vwap = data[data['Trade_Direction'] == 1]['Value'].sum() / data[data['Trade_Direction'] == 1]['Trade_Size'].sum()\n",
    "seller_vwap = data[data['Trade_Direction'] == -1]['Value'].sum() / data[data['Trade_Direction'] == -1]['Trade_Size'].sum()\n",
    "\n",
    "\n",
    "# VWAP calculation by specific time interval\n",
    "\n",
    "time_periods = [\n",
    "    ('09:00:00', '12:00:00'),\n",
    "    ('12:00:00', '15:00:00'),\n",
    "    ('15:00:00', '17:30:00')\n",
    "]\n",
    "\n",
    "def calculate_vwap_for_period(start_time, end_time, trade_direction=None):\n",
    "    filtered_data = data[(data['Time'].dt.time >= pd.to_datetime(start_time).time()) & (data['Time'].dt.time <= pd.to_datetime(end_time).time())]\n",
    "    if trade_direction is not None:\n",
    "        filtered_data = filtered_data[filtered_data['Trade_Direction'] == trade_direction]\n",
    "    total_value = filtered_data['Value'].sum()\n",
    "    total_volume = filtered_data['Trade_Size'].sum()\n",
    "    return total_value / total_volume if total_volume > 0 else 0\n",
    "\n",
    "vwap_time_periods = {period: {'Buyer': calculate_vwap_for_period(period[0], period[1], 1),\n",
    "                              'Seller': calculate_vwap_for_period(period[0], period[1], -1)}\n",
    "                     for period in time_periods}\n",
    "\n",
    "vwap_day, buyer_vwap, seller_vwap, vwap_time_periods"
   ]
  },
  {
   "cell_type": "markdown",
   "metadata": {},
   "source": [
    "## 4-d)"
   ]
  },
  {
   "cell_type": "markdown",
   "metadata": {},
   "source": [
    "Compute Roll’s estimate of the bid-ask spread both in euro (e) and in relative terms (using the logarithm of the prices). Then repeat the computations clock time rather than transaction time: take the last transaction in every 15-minute time interval. Compare your results with those previously obtained: what explains the difference in Roll’s measure?"
   ]
  },
  {
   "cell_type": "code",
   "execution_count": 37,
   "metadata": {},
   "outputs": [
    {
     "data": {
      "text/plain": [
       "(0.0018095354340566339,\n",
       " 2.741035547062314e-05,\n",
       " 0.0018095354340566339,\n",
       " 2.741035547062314e-05)"
      ]
     },
     "execution_count": 37,
     "metadata": {},
     "output_type": "execute_result"
    }
   ],
   "source": [
    "def compute_rolls_spread_corrected(prices):\n",
    "    prices_log = np.log(prices.dropna())\n",
    "    diff_log_prices = np.diff(prices_log)\n",
    "    squared_diffs = np.square(diff_log_prices)\n",
    "    rolls_estimate = np.sqrt(np.pi / 2 * np.mean(squared_diffs))\n",
    "    return rolls_estimate\n",
    "\n",
    "rolls_spread_euro_corrected = compute_rolls_spread_corrected(data['Trade_Price'])\n",
    "rolls_spread_relative_corrected = rolls_spread_euro_corrected / data['Trade_Price'].mean()\n",
    "\n",
    "rolls_spread_euro_resampled_corrected = compute_rolls_spread_corrected(data['Trade_Price'])\n",
    "rolls_spread_relative_resampled_corrected = rolls_spread_euro_resampled_corrected / data['Trade_Price'].mean()\n",
    "\n",
    "rolls_spread_euro_corrected, rolls_spread_relative_corrected, rolls_spread_euro_resampled_corrected, rolls_spread_relative_resampled_corrected"
   ]
  },
  {
   "cell_type": "markdown",
   "metadata": {},
   "source": [
    "Same results..? -> Not sure.."
   ]
  },
  {
   "cell_type": "markdown",
   "metadata": {},
   "source": [
    "## 4-e)"
   ]
  },
  {
   "cell_type": "markdown",
   "metadata": {},
   "source": [
    "Split the trading day into 15-minute intervals: 9:00–9:15 a.m., 9:159:30 a.m., …, 5:15–5:30 p.m. For each interval, compute the midprice change (from the last transaction of the previous interval to the last one of the current interval; for the ﬁrst interval take the midprice at 9:06:04 as the initial midprice) and the cumulative signed order ﬂow over the interval expressed as a fraction of the day’s total (unsigned) order ﬂow. Perform a regression analysis on the 34 data points you obtain in this way, to estimate the price impact parameter λ. Is the estimated parameter signiﬁcantly different from zero? What is the impact on the midprice of a 1% relative order ﬂow increase?"
   ]
  },
  {
   "cell_type": "code",
   "execution_count": 38,
   "metadata": {},
   "outputs": [
    {
     "name": "stderr",
     "output_type": "stream",
     "text": [
      "C:\\Users\\asaf0\\AppData\\Local\\Temp/ipykernel_14632/3331193592.py:8: RuntimeWarning: invalid value encountered in double_scalars\n",
      "  roll_estimator = ((-1) * (price_diffs**2).mean())**0.5\n",
      "C:\\Users\\asaf0\\AppData\\Local\\Temp/ipykernel_14632/3331193592.py:23: RuntimeWarning: invalid value encountered in double_scalars\n",
      "  roll_estimator_resampled = ((-1) * (price_diffs_resampled**2).mean())**0.5\n"
     ]
    },
    {
     "data": {
      "text/plain": [
       "{'roll_spread_euro': nan,\n",
       " 'roll_spread_relative': nan,\n",
       " 'roll_spread_euro_resampled': nan,\n",
       " 'roll_spread_relative_resampled': nan}"
      ]
     },
     "execution_count": 38,
     "metadata": {},
     "output_type": "execute_result"
    }
   ],
   "source": [
    "data['Log_Price'] = np.log(data['Trade_Price'])\n",
    "\n",
    "data['Price_Diff'] = data['Log_Price'].diff()\n",
    "\n",
    "price_diffs = data['Price_Diff'].dropna()\n",
    "\n",
    "# Compute Roll's spread estimator\n",
    "roll_estimator = ((-1) * (price_diffs**2).mean())**0.5\n",
    "roll_spread_euro = roll_estimator * 2\n",
    "\n",
    "# Compute the relative spread\n",
    "average_price = data['Trade_Price'].mean()\n",
    "roll_spread_relative = roll_spread_euro / average_price\n",
    "\n",
    "# Resample the data to 15-minute intervals, taking the last transaction in each interval\n",
    "data['Datetime'] = pd.to_datetime(data['Time'], format='%H:%M:%S')\n",
    "data.set_index('Datetime', inplace=True)\n",
    "resampled_data = data.resample('15T').last().dropna(subset=['Log_Price'])\n",
    "\n",
    "resampled_data['Price_Diff'] = resampled_data['Log_Price'].diff()\n",
    "price_diffs_resampled = resampled_data['Price_Diff'].dropna()\n",
    "\n",
    "roll_estimator_resampled = ((-1) * (price_diffs_resampled**2).mean())**0.5\n",
    "roll_spread_euro_resampled = roll_estimator_resampled * 2\n",
    "\n",
    "roll_spread_relative_resampled = roll_spread_euro_resampled / average_price\n",
    "\n",
    "{\n",
    "    \"roll_spread_euro\": roll_spread_euro,\n",
    "    \"roll_spread_relative\": roll_spread_relative,\n",
    "    \"roll_spread_euro_resampled\": roll_spread_euro_resampled,\n",
    "    \"roll_spread_relative_resampled\": roll_spread_relative_resampled\n",
    "}"
   ]
  },
  {
   "cell_type": "markdown",
   "metadata": {},
   "source": [
    "Since the original calculation resulted in an error, we'll check the mean of squared price differences to ensure it's positive as expected for the Roll model. If negative, the issue could be due to data characteristics not fitting the model assumptions well.\n",
    "\n",
    "-> Recalculate Roll's spread estimator using absolute value to avoid sqrt of negative number"
   ]
  },
  {
   "cell_type": "code",
   "execution_count": 39,
   "metadata": {},
   "outputs": [
    {
     "data": {
      "text/plain": [
       "{'mean_squared_price_diffs': 2.0845595518979598e-06,\n",
       " 'roll_spread_euro_corrected': 0.0028876007701189995,\n",
       " 'mean_squared_price_diffs_resampled': 1.9376840475061874e-05,\n",
       " 'roll_spread_euro_resampled_corrected': 0.00880382654873706}"
      ]
     },
     "execution_count": 39,
     "metadata": {},
     "output_type": "execute_result"
    }
   ],
   "source": [
    "mean_squared_price_diffs = (price_diffs**2).mean()\n",
    "\n",
    "roll_estimator_corrected = np.sqrt(abs(mean_squared_price_diffs)) * 2\n",
    "\n",
    "mean_squared_price_diffs_resampled = (price_diffs_resampled**2).mean()\n",
    "roll_estimator_resampled_corrected = np.sqrt(abs(mean_squared_price_diffs_resampled)) * 2\n",
    "\n",
    "{\n",
    "    \"mean_squared_price_diffs\": mean_squared_price_diffs,\n",
    "    \"roll_spread_euro_corrected\": roll_estimator_corrected,\n",
    "    \"mean_squared_price_diffs_resampled\": mean_squared_price_diffs_resampled,\n",
    "    \"roll_spread_euro_resampled_corrected\": roll_estimator_resampled_corrected\n",
    "}"
   ]
  },
  {
   "cell_type": "code",
   "execution_count": 40,
   "metadata": {},
   "outputs": [
    {
     "data": {
      "text/plain": [
       "{'lambda_estimate': 6.54771224539854,\n",
       " 'intercept': 0.03232879766165984,\n",
       " 'r_squared': 0.34324905932615113,\n",
       " 'data_points': 34}"
      ]
     },
     "execution_count": 40,
     "metadata": {},
     "output_type": "execute_result"
    }
   ],
   "source": [
    "data['Mid_Price'] = (data['Bid_Price'] + data['Ask_Price']) / 2\n",
    "\n",
    "# Calculate midprice changes for 15-minute intervals\n",
    "# First, calculate the midprice at the end of each interval\n",
    "data['Interval'] = data.index.round('15T')\n",
    "mid_prices_interval_end = data.groupby('Interval')['Mid_Price'].last()\n",
    "\n",
    "mid_price_changes = mid_prices_interval_end.diff().dropna()\n",
    "\n",
    "data['Signed_Order_Flow'] = data['Trade_Size'] * data['Trade_Direction']\n",
    "total_order_flow = data['Trade_Size'].abs().sum()\n",
    "\n",
    "# Calculate cumulative signed order flow for each 15-minute interval\n",
    "cumulative_signed_order_flow = data.groupby('Interval')['Signed_Order_Flow'].sum() / total_order_flow\n",
    "\n",
    "mid_price_changes, cumulative_signed_order_flow = mid_price_changes.align(cumulative_signed_order_flow, join='inner')\n",
    "\n",
    "X = cumulative_signed_order_flow.values.reshape(-1, 1)\n",
    "y = mid_price_changes.values\n",
    "\n",
    "reg = LinearRegression().fit(X, y)\n",
    "\n",
    "lambda_estimate = reg.coef_[0]\n",
    "intercept = reg.intercept_\n",
    "\n",
    "r_squared = reg.score(X, y)\n",
    "\n",
    "{\n",
    "    \"lambda_estimate\": lambda_estimate,\n",
    "    \"intercept\": intercept,\n",
    "    \"r_squared\": r_squared,\n",
    "    \"data_points\": len(X)\n",
    "}\n"
   ]
  }
 ],
 "metadata": {
  "kernelspec": {
   "display_name": "base",
   "language": "python",
   "name": "python3"
  },
  "language_info": {
   "codemirror_mode": {
    "name": "ipython",
    "version": 3
   },
   "file_extension": ".py",
   "mimetype": "text/x-python",
   "name": "python",
   "nbconvert_exporter": "python",
   "pygments_lexer": "ipython3",
   "version": "3.9.7"
  }
 },
 "nbformat": 4,
 "nbformat_minor": 2
}
