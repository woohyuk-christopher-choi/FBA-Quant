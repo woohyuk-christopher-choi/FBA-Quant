{
 "cells": [
  {
   "cell_type": "code",
   "execution_count": 45,
   "metadata": {},
   "outputs": [],
   "source": [
    "import pandas as pd\n",
    "import numpy as np\n",
    "from arch import arch_model\n",
    "from statsmodels.stats.diagnostic import acorr_ljungbox\n",
    "from statsmodels.graphics.tsaplots import plot_pacf\n",
    "import matplotlib.pyplot as plt\n",
    "from datetime import time\n",
    "from statsmodels.tsa.stattools import acf\n",
    "from statsmodels.graphics.tsaplots import plot_acf"
   ]
  },
  {
   "cell_type": "code",
   "execution_count": 46,
   "metadata": {},
   "outputs": [
    {
     "name": "stdout",
     "output_type": "stream",
     "text": [
      "Data for ba12012008:\n"
     ]
    },
    {
     "data": {
      "text/html": [
       "<div>\n",
       "<style scoped>\n",
       "    .dataframe tbody tr th:only-of-type {\n",
       "        vertical-align: middle;\n",
       "    }\n",
       "\n",
       "    .dataframe tbody tr th {\n",
       "        vertical-align: top;\n",
       "    }\n",
       "\n",
       "    .dataframe thead th {\n",
       "        text-align: right;\n",
       "    }\n",
       "</style>\n",
       "<table border=\"1\" class=\"dataframe\">\n",
       "  <thead>\n",
       "    <tr style=\"text-align: right;\">\n",
       "      <th></th>\n",
       "      <th>Unnamed: 0</th>\n",
       "      <th>hour</th>\n",
       "      <th>min</th>\n",
       "      <th>second</th>\n",
       "      <th>price</th>\n",
       "      <th>volume</th>\n",
       "    </tr>\n",
       "  </thead>\n",
       "  <tbody>\n",
       "    <tr>\n",
       "      <th>0</th>\n",
       "      <td>0</td>\n",
       "      <td>9</td>\n",
       "      <td>30</td>\n",
       "      <td>2</td>\n",
       "      <td>41.64</td>\n",
       "      <td>3441</td>\n",
       "    </tr>\n",
       "    <tr>\n",
       "      <th>1</th>\n",
       "      <td>1</td>\n",
       "      <td>9</td>\n",
       "      <td>30</td>\n",
       "      <td>2</td>\n",
       "      <td>41.64</td>\n",
       "      <td>3441</td>\n",
       "    </tr>\n",
       "    <tr>\n",
       "      <th>2</th>\n",
       "      <td>2</td>\n",
       "      <td>9</td>\n",
       "      <td>30</td>\n",
       "      <td>12</td>\n",
       "      <td>41.43</td>\n",
       "      <td>100</td>\n",
       "    </tr>\n",
       "    <tr>\n",
       "      <th>3</th>\n",
       "      <td>3</td>\n",
       "      <td>9</td>\n",
       "      <td>30</td>\n",
       "      <td>16</td>\n",
       "      <td>41.82</td>\n",
       "      <td>100</td>\n",
       "    </tr>\n",
       "    <tr>\n",
       "      <th>4</th>\n",
       "      <td>4</td>\n",
       "      <td>9</td>\n",
       "      <td>30</td>\n",
       "      <td>16</td>\n",
       "      <td>41.83</td>\n",
       "      <td>100</td>\n",
       "    </tr>\n",
       "  </tbody>\n",
       "</table>\n",
       "</div>"
      ],
      "text/plain": [
       "   Unnamed: 0  hour  min  second  price  volume\n",
       "0           0     9   30       2  41.64    3441\n",
       "1           1     9   30       2  41.64    3441\n",
       "2           2     9   30      12  41.43     100\n",
       "3           3     9   30      16  41.82     100\n",
       "4           4     9   30      16  41.83     100"
      ]
     },
     "metadata": {},
     "output_type": "display_data"
    },
    {
     "name": "stdout",
     "output_type": "stream",
     "text": [
      "\n",
      "\n",
      "Data for ba12022008:\n"
     ]
    },
    {
     "data": {
      "text/html": [
       "<div>\n",
       "<style scoped>\n",
       "    .dataframe tbody tr th:only-of-type {\n",
       "        vertical-align: middle;\n",
       "    }\n",
       "\n",
       "    .dataframe tbody tr th {\n",
       "        vertical-align: top;\n",
       "    }\n",
       "\n",
       "    .dataframe thead th {\n",
       "        text-align: right;\n",
       "    }\n",
       "</style>\n",
       "<table border=\"1\" class=\"dataframe\">\n",
       "  <thead>\n",
       "    <tr style=\"text-align: right;\">\n",
       "      <th></th>\n",
       "      <th>Unnamed: 0</th>\n",
       "      <th>hour</th>\n",
       "      <th>min</th>\n",
       "      <th>second</th>\n",
       "      <th>price</th>\n",
       "      <th>volume</th>\n",
       "    </tr>\n",
       "  </thead>\n",
       "  <tbody>\n",
       "    <tr>\n",
       "      <th>0</th>\n",
       "      <td>0</td>\n",
       "      <td>9</td>\n",
       "      <td>30</td>\n",
       "      <td>0</td>\n",
       "      <td>40.54</td>\n",
       "      <td>2136</td>\n",
       "    </tr>\n",
       "    <tr>\n",
       "      <th>1</th>\n",
       "      <td>1</td>\n",
       "      <td>9</td>\n",
       "      <td>30</td>\n",
       "      <td>0</td>\n",
       "      <td>40.54</td>\n",
       "      <td>2136</td>\n",
       "    </tr>\n",
       "    <tr>\n",
       "      <th>2</th>\n",
       "      <td>2</td>\n",
       "      <td>9</td>\n",
       "      <td>30</td>\n",
       "      <td>24</td>\n",
       "      <td>40.34</td>\n",
       "      <td>150</td>\n",
       "    </tr>\n",
       "    <tr>\n",
       "      <th>3</th>\n",
       "      <td>3</td>\n",
       "      <td>9</td>\n",
       "      <td>30</td>\n",
       "      <td>35</td>\n",
       "      <td>40.28</td>\n",
       "      <td>100</td>\n",
       "    </tr>\n",
       "    <tr>\n",
       "      <th>4</th>\n",
       "      <td>4</td>\n",
       "      <td>9</td>\n",
       "      <td>30</td>\n",
       "      <td>49</td>\n",
       "      <td>40.60</td>\n",
       "      <td>100</td>\n",
       "    </tr>\n",
       "  </tbody>\n",
       "</table>\n",
       "</div>"
      ],
      "text/plain": [
       "   Unnamed: 0  hour  min  second  price  volume\n",
       "0           0     9   30       0  40.54    2136\n",
       "1           1     9   30       0  40.54    2136\n",
       "2           2     9   30      24  40.34     150\n",
       "3           3     9   30      35  40.28     100\n",
       "4           4     9   30      49  40.60     100"
      ]
     },
     "metadata": {},
     "output_type": "display_data"
    },
    {
     "name": "stdout",
     "output_type": "stream",
     "text": [
      "\n",
      "\n",
      "Data for ba12032008:\n"
     ]
    },
    {
     "data": {
      "text/html": [
       "<div>\n",
       "<style scoped>\n",
       "    .dataframe tbody tr th:only-of-type {\n",
       "        vertical-align: middle;\n",
       "    }\n",
       "\n",
       "    .dataframe tbody tr th {\n",
       "        vertical-align: top;\n",
       "    }\n",
       "\n",
       "    .dataframe thead th {\n",
       "        text-align: right;\n",
       "    }\n",
       "</style>\n",
       "<table border=\"1\" class=\"dataframe\">\n",
       "  <thead>\n",
       "    <tr style=\"text-align: right;\">\n",
       "      <th></th>\n",
       "      <th>Unnamed: 0</th>\n",
       "      <th>hour</th>\n",
       "      <th>min</th>\n",
       "      <th>second</th>\n",
       "      <th>price</th>\n",
       "      <th>volume</th>\n",
       "    </tr>\n",
       "  </thead>\n",
       "  <tbody>\n",
       "    <tr>\n",
       "      <th>0</th>\n",
       "      <td>0</td>\n",
       "      <td>9</td>\n",
       "      <td>30</td>\n",
       "      <td>0</td>\n",
       "      <td>40.23</td>\n",
       "      <td>1055</td>\n",
       "    </tr>\n",
       "    <tr>\n",
       "      <th>1</th>\n",
       "      <td>1</td>\n",
       "      <td>9</td>\n",
       "      <td>30</td>\n",
       "      <td>0</td>\n",
       "      <td>40.23</td>\n",
       "      <td>1055</td>\n",
       "    </tr>\n",
       "    <tr>\n",
       "      <th>2</th>\n",
       "      <td>2</td>\n",
       "      <td>9</td>\n",
       "      <td>30</td>\n",
       "      <td>6</td>\n",
       "      <td>40.52</td>\n",
       "      <td>100</td>\n",
       "    </tr>\n",
       "    <tr>\n",
       "      <th>3</th>\n",
       "      <td>3</td>\n",
       "      <td>9</td>\n",
       "      <td>30</td>\n",
       "      <td>11</td>\n",
       "      <td>40.52</td>\n",
       "      <td>100</td>\n",
       "    </tr>\n",
       "    <tr>\n",
       "      <th>4</th>\n",
       "      <td>4</td>\n",
       "      <td>9</td>\n",
       "      <td>30</td>\n",
       "      <td>11</td>\n",
       "      <td>40.55</td>\n",
       "      <td>100</td>\n",
       "    </tr>\n",
       "  </tbody>\n",
       "</table>\n",
       "</div>"
      ],
      "text/plain": [
       "   Unnamed: 0  hour  min  second  price  volume\n",
       "0           0     9   30       0  40.23    1055\n",
       "1           1     9   30       0  40.23    1055\n",
       "2           2     9   30       6  40.52     100\n",
       "3           3     9   30      11  40.52     100\n",
       "4           4     9   30      11  40.55     100"
      ]
     },
     "metadata": {},
     "output_type": "display_data"
    },
    {
     "name": "stdout",
     "output_type": "stream",
     "text": [
      "\n",
      "\n",
      "Data for ba12042008:\n"
     ]
    },
    {
     "data": {
      "text/html": [
       "<div>\n",
       "<style scoped>\n",
       "    .dataframe tbody tr th:only-of-type {\n",
       "        vertical-align: middle;\n",
       "    }\n",
       "\n",
       "    .dataframe tbody tr th {\n",
       "        vertical-align: top;\n",
       "    }\n",
       "\n",
       "    .dataframe thead th {\n",
       "        text-align: right;\n",
       "    }\n",
       "</style>\n",
       "<table border=\"1\" class=\"dataframe\">\n",
       "  <thead>\n",
       "    <tr style=\"text-align: right;\">\n",
       "      <th></th>\n",
       "      <th>Unnamed: 0</th>\n",
       "      <th>hour</th>\n",
       "      <th>min</th>\n",
       "      <th>second</th>\n",
       "      <th>price</th>\n",
       "      <th>volume</th>\n",
       "    </tr>\n",
       "  </thead>\n",
       "  <tbody>\n",
       "    <tr>\n",
       "      <th>0</th>\n",
       "      <td>0</td>\n",
       "      <td>9</td>\n",
       "      <td>30</td>\n",
       "      <td>0</td>\n",
       "      <td>39.84</td>\n",
       "      <td>1232</td>\n",
       "    </tr>\n",
       "    <tr>\n",
       "      <th>1</th>\n",
       "      <td>1</td>\n",
       "      <td>9</td>\n",
       "      <td>30</td>\n",
       "      <td>0</td>\n",
       "      <td>39.84</td>\n",
       "      <td>1232</td>\n",
       "    </tr>\n",
       "    <tr>\n",
       "      <th>2</th>\n",
       "      <td>2</td>\n",
       "      <td>9</td>\n",
       "      <td>30</td>\n",
       "      <td>17</td>\n",
       "      <td>39.50</td>\n",
       "      <td>100</td>\n",
       "    </tr>\n",
       "    <tr>\n",
       "      <th>3</th>\n",
       "      <td>3</td>\n",
       "      <td>9</td>\n",
       "      <td>30</td>\n",
       "      <td>22</td>\n",
       "      <td>39.88</td>\n",
       "      <td>100</td>\n",
       "    </tr>\n",
       "    <tr>\n",
       "      <th>4</th>\n",
       "      <td>4</td>\n",
       "      <td>9</td>\n",
       "      <td>30</td>\n",
       "      <td>22</td>\n",
       "      <td>39.87</td>\n",
       "      <td>100</td>\n",
       "    </tr>\n",
       "  </tbody>\n",
       "</table>\n",
       "</div>"
      ],
      "text/plain": [
       "   Unnamed: 0  hour  min  second  price  volume\n",
       "0           0     9   30       0  39.84    1232\n",
       "1           1     9   30       0  39.84    1232\n",
       "2           2     9   30      17  39.50     100\n",
       "3           3     9   30      22  39.88     100\n",
       "4           4     9   30      22  39.87     100"
      ]
     },
     "metadata": {},
     "output_type": "display_data"
    },
    {
     "name": "stdout",
     "output_type": "stream",
     "text": [
      "\n",
      "\n",
      "Data for ba12052008:\n"
     ]
    },
    {
     "data": {
      "text/html": [
       "<div>\n",
       "<style scoped>\n",
       "    .dataframe tbody tr th:only-of-type {\n",
       "        vertical-align: middle;\n",
       "    }\n",
       "\n",
       "    .dataframe tbody tr th {\n",
       "        vertical-align: top;\n",
       "    }\n",
       "\n",
       "    .dataframe thead th {\n",
       "        text-align: right;\n",
       "    }\n",
       "</style>\n",
       "<table border=\"1\" class=\"dataframe\">\n",
       "  <thead>\n",
       "    <tr style=\"text-align: right;\">\n",
       "      <th></th>\n",
       "      <th>Unnamed: 0</th>\n",
       "      <th>hour</th>\n",
       "      <th>min</th>\n",
       "      <th>second</th>\n",
       "      <th>price</th>\n",
       "      <th>volume</th>\n",
       "    </tr>\n",
       "  </thead>\n",
       "  <tbody>\n",
       "    <tr>\n",
       "      <th>0</th>\n",
       "      <td>0</td>\n",
       "      <td>9</td>\n",
       "      <td>30</td>\n",
       "      <td>0</td>\n",
       "      <td>38.00</td>\n",
       "      <td>200</td>\n",
       "    </tr>\n",
       "    <tr>\n",
       "      <th>1</th>\n",
       "      <td>1</td>\n",
       "      <td>9</td>\n",
       "      <td>30</td>\n",
       "      <td>0</td>\n",
       "      <td>38.78</td>\n",
       "      <td>2130</td>\n",
       "    </tr>\n",
       "    <tr>\n",
       "      <th>2</th>\n",
       "      <td>2</td>\n",
       "      <td>9</td>\n",
       "      <td>30</td>\n",
       "      <td>0</td>\n",
       "      <td>38.78</td>\n",
       "      <td>2130</td>\n",
       "    </tr>\n",
       "    <tr>\n",
       "      <th>3</th>\n",
       "      <td>3</td>\n",
       "      <td>9</td>\n",
       "      <td>30</td>\n",
       "      <td>5</td>\n",
       "      <td>38.53</td>\n",
       "      <td>100</td>\n",
       "    </tr>\n",
       "    <tr>\n",
       "      <th>4</th>\n",
       "      <td>4</td>\n",
       "      <td>9</td>\n",
       "      <td>30</td>\n",
       "      <td>7</td>\n",
       "      <td>38.53</td>\n",
       "      <td>100</td>\n",
       "    </tr>\n",
       "  </tbody>\n",
       "</table>\n",
       "</div>"
      ],
      "text/plain": [
       "   Unnamed: 0  hour  min  second  price  volume\n",
       "0           0     9   30       0  38.00     200\n",
       "1           1     9   30       0  38.78    2130\n",
       "2           2     9   30       0  38.78    2130\n",
       "3           3     9   30       5  38.53     100\n",
       "4           4     9   30       7  38.53     100"
      ]
     },
     "metadata": {},
     "output_type": "display_data"
    },
    {
     "name": "stdout",
     "output_type": "stream",
     "text": [
      "\n",
      "\n"
     ]
    }
   ],
   "source": [
    "files = [\n",
    "    'taq-td-ba12012008.csv',\n",
    "    'taq-td-ba12022008.csv',\n",
    "    'taq-td-ba12032008.csv',\n",
    "    'taq-td-ba12042008.csv',\n",
    "    'taq-td-ba12052008.csv'\n",
    "]\n",
    "\n",
    "data = {}\n",
    "for file in files:\n",
    "    date = file.split('/')[-1].split('.')[0].split('-')[-1]  \n",
    "    data[date] = pd.read_csv(file)\n",
    "\n",
    "\n",
    "for date, df in data.items():\n",
    "    print(f\"Data for {date}:\")\n",
    "    display(df.head())\n",
    "    print('\\n')"
   ]
  },
  {
   "cell_type": "code",
   "execution_count": 47,
   "metadata": {},
   "outputs": [
    {
     "name": "stdout",
     "output_type": "stream",
     "text": [
      "Columns for ba12012008: ['Unnamed: 0', 'hour', 'min', 'second', 'price', 'volume']\n",
      "Columns for ba12022008: ['Unnamed: 0', 'hour', 'min', 'second', 'price', 'volume']\n",
      "Columns for ba12032008: ['Unnamed: 0', 'hour', 'min', 'second', 'price', 'volume']\n",
      "Columns for ba12042008: ['Unnamed: 0', 'hour', 'min', 'second', 'price', 'volume']\n",
      "Columns for ba12052008: ['Unnamed: 0', 'hour', 'min', 'second', 'price', 'volume']\n"
     ]
    }
   ],
   "source": [
    "for date, df in data.items():\n",
    "    print(f\"Columns for {date}: {df.columns.tolist()}\")"
   ]
  },
  {
   "cell_type": "markdown",
   "metadata": {},
   "source": [
    "# 1-1"
   ]
  },
  {
   "cell_type": "markdown",
   "metadata": {},
   "source": [
    "I will construct a time series of the number of trades in an intraday 5-minute time interval for each day and then analyze the series for any diurnal pattern by computing the sample autocorrelation function (ACF)."
   ]
  },
  {
   "cell_type": "code",
   "execution_count": 48,
   "metadata": {},
   "outputs": [
    {
     "data": {
      "text/plain": [
       "<Figure size 720x432 with 0 Axes>"
      ]
     },
     "metadata": {},
     "output_type": "display_data"
    },
    {
     "data": {
      "image/png": "[encoded data removed]",
      "text/plain": [
       "<Figure size 432x288 with 1 Axes>"
      ]
     },
     "metadata": {
      "needs_background": "light"
     },
     "output_type": "display_data"
    }
   ],
   "source": [
    "def aggregate_5min(df):\n",
    "    df['DateTime'] = pd.to_datetime(df['hour'].astype(str) + ':' + df['min'].astype(str) + ':' + df['second'].astype(str), errors='coerce', format='%H:%M:%S')\n",
    "    df = df.dropna(subset=['DateTime'])\n",
    "    \n",
    "    df.set_index('DateTime', inplace=True)\n",
    "    \n",
    "    df_resampled = df.resample('5T').count()['price']\n",
    "    return df_resampled\n",
    "\n",
    "corrected_aggregated_data_5min = {}\n",
    "for date, df in data.items():\n",
    "    corrected_aggregated_data_5min[date] = aggregate_5min(df)\n",
    "\n",
    "all_trade_5min = pd.concat(corrected_aggregated_data_5min.values())\n",
    "\n",
    "corrected_acf_values = acf(all_trade_5min, nlags=40) \n",
    "\n",
    "corrected_acf_values\n",
    "\n",
    "plt.figure(figsize=(10, 6))\n",
    "plot_acf(all_trade_5min, lags=40, title='5-Minute Trade Counts ACF')\n",
    "plt.xlabel('Lags')\n",
    "plt.ylabel('Autocorrelation')\n",
    "plt.show()\n"
   ]
  },
  {
   "cell_type": "markdown",
   "metadata": {},
   "source": [
    "# 1-2"
   ]
  },
  {
   "cell_type": "code",
   "execution_count": 49,
   "metadata": {},
   "outputs": [],
   "source": [
    "def construct_5min_return_series(df):\n",
    "    \n",
    "    df['DateTime'] = pd.to_datetime(df['hour'].astype(str) + ':' + df['min'].astype(str) + ':' + df['second'].astype(str), errors='coerce', format='%H:%M:%S')\n",
    "    df = df.dropna(subset=['DateTime'])\n",
    "    df.set_index('DateTime', inplace=True)\n",
    "    df_resampled = df['price'].resample('5T').last().dropna()\n",
    "    returns = df_resampled.pct_change().dropna() * 100\n",
    "    return returns\n",
    "\n",
    "all_returns_5min = pd.concat([construct_5min_return_series(df) for df in data.values()])\n"
   ]
  },
  {
   "cell_type": "code",
   "execution_count": 50,
   "metadata": {},
   "outputs": [
    {
     "data": {
      "text/html": [
       "<div>\n",
       "<style scoped>\n",
       "    .dataframe tbody tr th:only-of-type {\n",
       "        vertical-align: middle;\n",
       "    }\n",
       "\n",
       "    .dataframe tbody tr th {\n",
       "        vertical-align: top;\n",
       "    }\n",
       "\n",
       "    .dataframe thead th {\n",
       "        text-align: right;\n",
       "    }\n",
       "</style>\n",
       "<table border=\"1\" class=\"dataframe\">\n",
       "  <thead>\n",
       "    <tr style=\"text-align: right;\">\n",
       "      <th></th>\n",
       "      <th>lb_stat</th>\n",
       "      <th>lb_pvalue</th>\n",
       "    </tr>\n",
       "  </thead>\n",
       "  <tbody>\n",
       "    <tr>\n",
       "      <th>10</th>\n",
       "      <td>20.954798</td>\n",
       "      <td>0.021411</td>\n",
       "    </tr>\n",
       "  </tbody>\n",
       "</table>\n",
       "</div>"
      ],
      "text/plain": [
       "      lb_stat  lb_pvalue\n",
       "10  20.954798   0.021411"
      ]
     },
     "execution_count": 50,
     "metadata": {},
     "output_type": "execute_result"
    }
   ],
   "source": [
    "from statsmodels.tsa.stattools import acf\n",
    "from statsmodels.stats.diagnostic import acorr_ljungbox\n",
    "\n",
    "acf_5min_returns = acf(all_returns_5min, nlags=10)\n",
    "\n",
    "ljung_box_results_5min = acorr_ljungbox(all_returns_5min, lags=[10], return_df=True)\n",
    "\n",
    "ljung_box_results_5min\n"
   ]
  },
  {
   "cell_type": "markdown",
   "metadata": {},
   "source": [
    "P-value is smaller than 0.05 -> Correlated"
   ]
  },
  {
   "cell_type": "markdown",
   "metadata": {},
   "source": [
    "# 1-3"
   ]
  },
  {
   "cell_type": "code",
   "execution_count": 51,
   "metadata": {},
   "outputs": [],
   "source": [
    "def construct_10min_return_series(df):\n",
    "    df['DateTime'] = pd.to_datetime(df['hour'].astype(str) + ':' + df['min'].astype(str) + ':' + df['second'].astype(str), errors='coerce', format='%H:%M:%S')\n",
    "    df = df.dropna(subset=['DateTime'])\n",
    "    df.set_index('DateTime', inplace=True)\n",
    "    df_resampled = df['price'].resample('10T').last().dropna()\n",
    "    returns = df_resampled.pct_change().dropna() * 100\n",
    "    return returns\n"
   ]
  },
  {
   "cell_type": "code",
   "execution_count": 52,
   "metadata": {},
   "outputs": [],
   "source": [
    "all_returns_10min = pd.concat([construct_10min_return_series(df) for df in data.values()])\n"
   ]
  },
  {
   "cell_type": "code",
   "execution_count": 53,
   "metadata": {},
   "outputs": [
    {
     "name": "stdout",
     "output_type": "stream",
     "text": [
      "[ 1.         -0.06142067  0.14022195 -0.02406741  0.02018888 -0.02844255\n",
      "  0.0077417   0.02363285  0.03751051  0.09423408  0.08250153]\n"
     ]
    }
   ],
   "source": [
    "acf_10min_returns = acf(all_returns_10min, nlags=10)\n",
    "print(acf_10min_returns)\n"
   ]
  },
  {
   "cell_type": "code",
   "execution_count": 54,
   "metadata": {},
   "outputs": [
    {
     "name": "stdout",
     "output_type": "stream",
     "text": [
      "     lb_stat  lb_pvalue\n",
      "10  8.599003   0.570534\n"
     ]
    }
   ],
   "source": [
    "ljung_box_results_10min = acorr_ljungbox(all_returns_10min, lags=[10], return_df=True)\n",
    "print(ljung_box_results_10min)\n"
   ]
  },
  {
   "cell_type": "markdown",
   "metadata": {},
   "source": [
    "# 1-4"
   ]
  },
  {
   "cell_type": "code",
   "execution_count": 55,
   "metadata": {},
   "outputs": [
    {
     "name": "stdout",
     "output_type": "stream",
     "text": [
      "Percentage of consecutive transactions without price change: 57.07%\n"
     ]
    }
   ],
   "source": [
    "def calculate_percentage_no_change(dataframes):\n",
    "    no_change_counts = []\n",
    "    total_counts = []\n",
    "    for df in dataframes:\n",
    "        price_changes = df['price'].diff()\n",
    "        no_changes = price_changes == 0\n",
    "        no_change_counts.append(no_changes.sum())\n",
    "        total_counts.append(len(df))\n",
    "    \n",
    "    total_no_change = sum(no_change_counts)\n",
    "    total_transactions = sum(total_counts)\n",
    "    percentage_no_change = (total_no_change / total_transactions) * 100\n",
    "    return percentage_no_change\n",
    "\n",
    "percentage_no_change_all_days = calculate_percentage_no_change(data.values())\n",
    "print(f\"Percentage of consecutive transactions without price change: {percentage_no_change_all_days:.2f}%\")\n"
   ]
  },
  {
   "cell_type": "markdown",
   "metadata": {},
   "source": [
    "# 2-a"
   ]
  },
  {
   "cell_type": "markdown",
   "metadata": {},
   "source": [
    "## (i)"
   ]
  },
  {
   "cell_type": "markdown",
   "metadata": {},
   "source": [
    "Informed trader’s strategy is :\n",
    "\n",
    "$$ x = \\beta (v - \\mu) $$\n",
    "\n",
    "The total order flow is :\n",
    "\n",
    "$$ q = x + u_1 + u_2 $$\n",
    "\n",
    "\n",
    "$$E[v|q] = \\mu + \\frac {Cov(v,q)} {Var(q)} (q-E[q]) = \\mu + \\lambda q $$\n",
    "\n",
    "Here, $\\lambda = \\frac {Cov(v,q)} {Var(q)}$, and since $Cov(v,q) = Cov(v,x) = \\beta \\sigma_v^2$ , (this is because noise trades $u_1$ and $u_2$ are 'uncorrelated with $v$') and $Var(q) = \\beta^2 \\sigma_v^2 + \\sigma_{u1}^2 + \\sigma_{u2}^2$"
   ]
  },
  {
   "cell_type": "markdown",
   "metadata": {},
   "source": [
    "## (ii)\n",
    "\n",
    "For given $x = \\beta(v-\\mu)$ and $q = x+u_1+u_2$ ,\n",
    "\n",
    "$E[Profit] = E[(v-(\\mu + \\lambda q))x]$\n",
    "\n",
    "Then,\n",
    "\n",
    "$E[Profit] = E[(v-(\\mu + \\lambda (x+u_1+u_2)))\\beta(v-\\mu)]$\n",
    "\n",
    "Diffentiate this $E[Profit]$ with respect to $\\beta$ then search the point that makes diff. zero."
   ]
  },
  {
   "cell_type": "markdown",
   "metadata": {},
   "source": [
    "## (iii)\n",
    "\n"
   ]
  },
  {
   "cell_type": "markdown",
   "metadata": {},
   "source": [
    "$$\\lambda = \\frac {\\beta \\sigma_v^2} {\\beta^2 \\sigma_v^2 + \\sigma_{u1}^2 + \\sigma_{u2}^2} $$\n",
    "\n",
    "$$ E[Profit] = E[(v - (\\mu + \\lambda (\\beta(v-\\mu))))\\beta (v-\\mu)] $$\n",
    "\n",
    "$$\\frac d {d\\beta} E[Profit] = 0$$"
   ]
  },
  {
   "cell_type": "markdown",
   "metadata": {},
   "source": [
    "# 2-b\n",
    "\n",
    "## (i)\n",
    "\n",
    "Definition of $\\lambda$ changes slightly since this will only reflect orders from informed traders and noisy traders in Group 2 :\n",
    "\n",
    "$$\\lambda = \\frac {Cov(v, x+u_2)} {var(x+u_2)}$$\n",
    "\n"
   ]
  },
  {
   "cell_type": "markdown",
   "metadata": {},
   "source": [
    "## (ii)\n",
    "\n",
    "$$E[Profit] = E[(v-(\\mu + \\lambda (x+u_2))) \\beta(v-\\mu)]$$\n",
    "\n",
    "$$\\frac d {d\\beta} E[Profit] = 0$$\n",
    "\n"
   ]
  },
  {
   "cell_type": "markdown",
   "metadata": {},
   "source": [
    "## (iii)\n",
    "\n",
    "$$\\lambda = \\frac {\\beta \\sigma_v^2} {\\beta^2 \\sigma_v^2 + \\sigma_{u2}}$$\n",
    "\n",
    "$$ E[Profit] = E[(v - (\\mu + \\lambda (\\beta(v-\\mu))))\\beta (v-\\mu)] $$\n",
    "\n",
    "$$\\frac d {d\\beta} E[Profit] = 0$$"
   ]
  },
  {
   "cell_type": "markdown",
   "metadata": {},
   "source": [
    "## 2-c"
   ]
  },
  {
   "cell_type": "markdown",
   "metadata": {},
   "source": [
    "The main change in scenario (b) is that market makers know Group 1's noisy trading volumes in advance. This increases market transparency and allows market makers to provide more accurate pricing. \n",
    "\n",
    "This increases **market depth** and informative traders face **less price volatility**. \n",
    "\n",
    "Thus.. they have room to more actively reflect their information in the market.\n",
    "\n",
    "Intuitively, the more information market makers have (i.e., when they know Group 1 deals), the less uncertain they face. \n",
    "\n",
    "**Less uncertainty means lower price impacts (λ), which means deeper markets.** Informative traders can use their information more actively in this deeper market to increase profits."
   ]
  }
 ],
 "metadata": {
  "kernelspec": {
   "display_name": "base",
   "language": "python",
   "name": "python3"
  },
  "language_info": {
   "codemirror_mode": {
    "name": "ipython",
    "version": 3
   },
   "file_extension": ".py",
   "mimetype": "text/x-python",
   "name": "python",
   "nbconvert_exporter": "python",
   "pygments_lexer": "ipython3",
   "version": "3.9.7"
  }
 },
 "nbformat": 4,
 "nbformat_minor": 2
}
