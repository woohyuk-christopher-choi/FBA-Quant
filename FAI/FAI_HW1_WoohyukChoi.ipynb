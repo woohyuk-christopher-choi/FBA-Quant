{
  "nbformat": 4,
  "nbformat_minor": 0,
  "metadata": {
    "colab": {
      "provenance": []
    },
    "kernelspec": {
      "name": "python3",
      "display_name": "Python 3"
    },
    "language_info": {
      "name": "python"
    }
  },
  "cells": [
    {
      "cell_type": "markdown",
      "source": [
        "## Problem 2"
      ],
      "metadata": {
        "id": "Kfo--masJApL"
      }
    },
    {
      "cell_type": "code",
      "execution_count": 20,
      "metadata": {
        "id": "8a_98rU2CPGQ"
      },
      "outputs": [],
      "source": [
        "class Agent:\n",
        "    def __init__(self):\n",
        "        self.credit = 1000\n",
        "        self.holdings = []\n",
        "        print(\"The agent is created.\")\n",
        "\n",
        "    def check(self):\n",
        "        print(\"Credit:\", self.credit)\n",
        "        print(\"Holdings:\", self.holdings)\n",
        "\n",
        "    def buy(self, order):\n",
        "        ticker, price, quantity = order\n",
        "        total_price = price * quantity\n",
        "        if total_price > self.credit:\n",
        "            print(f\"The agent can't buy.\")\n",
        "            return\n",
        "        self.credit -= total_price\n",
        "\n",
        "        for holding in self.holdings:\n",
        "            if holding[0] == ticker:\n",
        "                holding[1] = (holding[1] * holding[2] + price * quantity) / (holding[2] + quantity)\n",
        "                holding[2] += quantity\n",
        "                print(f\"The agent buys {quantity} {ticker} for {price}.\")\n",
        "                return\n",
        "\n",
        "        self.holdings.append([ticker, price, quantity])\n",
        "        print(f\"The agent buys {quantity} {ticker} for {price}.\")\n",
        "\n",
        "    def sell(self, order):\n",
        "        ticker, price, quantity = order\n",
        "        for holding in self.holdings:\n",
        "            if holding[0] == ticker:\n",
        "                if holding[2] < quantity:\n",
        "                    print(f\"Cannot sell {quantity} of {ticker}. Insufficient holdings.\")\n",
        "                    return\n",
        "                total_price = price * quantity\n",
        "                self.credit += total_price\n",
        "                holding[2] -= quantity\n",
        "                if holding[2] == 0:\n",
        "                    self.holdings.remove(holding)\n",
        "                print(f\"The agent sells {quantity} {ticker} for {price}.\")\n",
        "                return\n",
        "\n",
        "        print(f\"Cannot sell {quantity} of {ticker}. No such ticker in holdings.\")\n",
        "\n",
        "\n"
      ]
    },
    {
      "cell_type": "code",
      "source": [
        "FBA_agent = Agent()"
      ],
      "metadata": {
        "colab": {
          "base_uri": "https://localhost:8080/"
        },
        "id": "RsMERMU0HowK",
        "outputId": "feb2c046-85f0-427c-ae05-1adfa48ea2b6"
      },
      "execution_count": 21,
      "outputs": [
        {
          "output_type": "stream",
          "name": "stdout",
          "text": [
            "The agent is created.\n"
          ]
        }
      ]
    },
    {
      "cell_type": "code",
      "source": [
        "FBA_agent.buy(['AAPL', 135, 5])"
      ],
      "metadata": {
        "colab": {
          "base_uri": "https://localhost:8080/"
        },
        "id": "7se4h-AWHpGg",
        "outputId": "162d3348-6217-4f61-d42e-e4df0c53954b"
      },
      "execution_count": 22,
      "outputs": [
        {
          "output_type": "stream",
          "name": "stdout",
          "text": [
            "The agent buys 5 AAPL for 135.\n"
          ]
        }
      ]
    },
    {
      "cell_type": "code",
      "source": [
        "FBA_agent.check()"
      ],
      "metadata": {
        "colab": {
          "base_uri": "https://localhost:8080/"
        },
        "id": "TZwmA30qHqCj",
        "outputId": "7105accc-6918-4169-f6f1-171995fcb858"
      },
      "execution_count": 23,
      "outputs": [
        {
          "output_type": "stream",
          "name": "stdout",
          "text": [
            "Credit: 325\n",
            "Holdings: [['AAPL', 135, 5]]\n"
          ]
        }
      ]
    },
    {
      "cell_type": "code",
      "source": [
        "FBA_agent.buy(['GOOGL', 2300, 1])"
      ],
      "metadata": {
        "colab": {
          "base_uri": "https://localhost:8080/"
        },
        "id": "69Go_gnuIsqR",
        "outputId": "53f6e20f-af1c-441e-e825-3fd370bfcbbb"
      },
      "execution_count": 24,
      "outputs": [
        {
          "output_type": "stream",
          "name": "stdout",
          "text": [
            "The agent can't buy.\n"
          ]
        }
      ]
    },
    {
      "cell_type": "code",
      "source": [
        "FBA_agent.sell(['AAPL', 140, 3])"
      ],
      "metadata": {
        "colab": {
          "base_uri": "https://localhost:8080/"
        },
        "id": "7ZhrBYldIvJI",
        "outputId": "9c61c73b-fa8c-404d-a379-fb90267dc1dc"
      },
      "execution_count": 25,
      "outputs": [
        {
          "output_type": "stream",
          "name": "stdout",
          "text": [
            "The agent sells 3 AAPL for 140.\n"
          ]
        }
      ]
    },
    {
      "cell_type": "code",
      "source": [
        "FBA_agent.check()"
      ],
      "metadata": {
        "colab": {
          "base_uri": "https://localhost:8080/"
        },
        "id": "kuSiyMMrI5xT",
        "outputId": "cb3f0ca1-1a69-426b-e00c-d8c122004c63"
      },
      "execution_count": 26,
      "outputs": [
        {
          "output_type": "stream",
          "name": "stdout",
          "text": [
            "Credit: 745\n",
            "Holdings: [['AAPL', 135, 2]]\n"
          ]
        }
      ]
    }
  ]
}