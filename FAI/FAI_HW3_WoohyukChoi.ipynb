{
 "cells": [
  {
   "cell_type": "markdown",
   "metadata": {},
   "source": [
    "# Problem 1"
   ]
  },
  {
   "cell_type": "markdown",
   "metadata": {},
   "source": [
    "## 5.14 (Easy)"
   ]
  },
  {
   "cell_type": "markdown",
   "metadata": {},
   "source": [
    "***\n",
    "A couple has two children. You discover that one of their children is a boy. What\n",
    "is the probability that the second child is also a boy?\n",
    "***"
   ]
  },
  {
   "cell_type": "markdown",
   "metadata": {},
   "source": [
    "There are four possible combinations for the couple's two children in terms of gender (B for boy and G for girl):\n",
    "\n",
    "1. BB (oldest is a boy, youngest is a boy)\n",
    "2. BG (oldest is a boy, youngest is a girl)\n",
    "3. GB (oldest is a girl, youngest is a boy)\n",
    "4. GG (oldest is a girl, youngest is a girl)\n",
    "\n",
    "When we know that one of the children is a boy, the GG combination is eliminated. So, we are left with three possible combinations:\n",
    "BB\n",
    "BG\n",
    "GB\n",
    "Now, out of these three scenarios, there are two scenarios (BG and GB) in which the second child is not a boy and one scenario (BB) in which the second child is a boy.\n",
    "\n",
    "$\\therefore$ The answer is, $\\frac 1 3$"
   ]
  },
  {
   "cell_type": "markdown",
   "metadata": {},
   "source": [
    "## 5.27 (Medium)"
   ]
  },
  {
   "cell_type": "markdown",
   "metadata": {},
   "source": [
    "***\n",
    "Alice and Bob are playing a game together. They play a series of rounds until one of\n",
    "them wins two more rounds than the other. Alice wins a round with probability $p$. What is the\n",
    "probability that Bob wins the overall series?\n",
    "***\n"
   ]
  },
  {
   "cell_type": "markdown",
   "metadata": {},
   "source": [
    "Two scenarios:\n",
    "\n",
    "1. The series ends with Bob having won 2 more rounds than Alice.\n",
    "2. Bob never trails Alice by 2 rounds at any point before the end.\n",
    "\n",
    "There are only 3 situations where Bob can win :\n",
    "\n",
    "1. Bob wins the first 2 rounds (BB).\n",
    "\n",
    "$$P(BB) = (1-p)\\times (1-p) = (1-p)^2$$\n",
    "\n",
    "2. Alice wins the first round, and Bob wins the next 3 (ABBB).\n",
    "\n",
    "$$P(ABBB) = p \\times (1-p) \\times (1-p) \\times (1-p) = p(1-p)^3$$\n",
    "\n",
    "3. Bob wins the first round, Alice wins the next 2, and Bob wins the next 3 (BBAABB).\n",
    "\n",
    "$$P(BBAABB) = p^2(1-p)^4$$\n",
    "\n",
    "$$\\therefore P(Bob Wins) = (1-p)^2 + p(1-p)^3 + p^2(1-p)^4$$\n",
    "\n",
    "\n",
    "\n"
   ]
  },
  {
   "cell_type": "markdown",
   "metadata": {},
   "source": [
    "## 5.32 (Hard)"
   ]
  },
  {
   "cell_type": "markdown",
   "metadata": {},
   "source": [
    "***\n",
    "A fair coin is tossed $n$ times. Given that there were $k$ heads in the $n$ tosses, what is the\n",
    "probability that the first toss was heads?\n",
    "***"
   ]
  },
  {
   "cell_type": "markdown",
   "metadata": {},
   "source": [
    "1. Consider the probability that the first toss was H and there were $k$ H in total. Then, there are $\\binom{n-1}{k-1}$ ways to choose $k-1$ heads from the remaining $n-1$ tosses.\n",
    "\n",
    "2. Now, consider the total number of ways of getting $k$ heads in $n$ tosses, regardless of where the heads appear. There are $\\binom {n}{k}$ ways to choose $k$ heads from $n$ tosses.\n",
    "\n",
    "Then, probability is\n",
    "\n",
    "$$p = \\frac {\\binom {n-1}{k-1}} {\\binom {n}{k}}$$"
   ]
  },
  {
   "cell_type": "markdown",
   "metadata": {},
   "source": [
    "# Problem 2"
   ]
  },
  {
   "cell_type": "markdown",
   "metadata": {},
   "source": [
    "***\n",
    "There is a fair coin that has an equal probability of landing heads or tails (50:50). You are a\n",
    "casino manager, and you want to design a game that uses this coin. \n",
    "\n",
    "The game must be slightly\n",
    "advantageous to the casino, with a winning ratio of each individual game not exceeding 60%.\n",
    "***"
   ]
  },
  {
   "cell_type": "markdown",
   "metadata": {},
   "source": [
    "## Problem 2-(a)\n",
    "\n",
    "***\n",
    " Design a game using the fair coin that satisfies the above condition.\n",
    "***"
   ]
  },
  {
   "cell_type": "markdown",
   "metadata": {},
   "source": [
    "1. The player bets an amount of money.\n",
    "2. The player flips the coin three times.\n",
    "3. The player wins if there are exactly 2 heads and 1 tail in any order.\n",
    "4. The casino wins if there are any other outcomes (3 tails, 3 heads, 1 head and 2 tails).\n",
    "\n",
    "*Probability Analysis:*\n",
    "\n",
    "Probability of getting 2 heads and 1 tail:\n",
    "3 combinations (HTT, THT, TTH) * (0.5 * 0.5 * 0.5) = 3 * 0.125 = 0.375 (or 37.5%)\n",
    "\n",
    "Probability of casino winning = 1 - 0.375 = 0.625 (or 62.5%)\n",
    "\n",
    "The winning ratio for the player does not exceed 60%, and the casino has a 62.5% winning advantage."
   ]
  },
  {
   "cell_type": "markdown",
   "metadata": {},
   "source": [
    "## Problem 2-(b)\n",
    "\n",
    "***\n",
    "Unfortunately, some sneaky players want to cheat on you by using a rigged coin that has a higher\n",
    "probability of landing heads (55%). Can you detect if they are using a cheating coin? If so, how?\n",
    "***"
   ]
  },
  {
   "cell_type": "markdown",
   "metadata": {},
   "source": [
    "If a player is using a rigged coin that has a 55% chance of landing heads:\n",
    "\n",
    "Probability of getting 2 heads and 1 tail with the rigged coin:\n",
    "3 combinations (HTT, THT, TTH) * (0.55 * 0.55 * 0.45) ≈ 0.441375 (or 44.1375%)\n",
    "While this gives the player a slightly higher chance, repeated play should reveal if they consistently outperform the expected 37.5%. \n",
    "\n",
    "To detect the rigged coin, you could observe a large number of games. \n",
    "\n",
    "If the player consistently has a winning rate greater than the expected **37.5%**, this could be an indication of a rigged coin."
   ]
  },
  {
   "cell_type": "markdown",
   "metadata": {},
   "source": [
    "## Problem 2-(c)\n",
    "\n",
    "***\n",
    "Write a Python code that simulates both problem 2-(a) and 2-(b).\n",
    "***\n"
   ]
  },
  {
   "cell_type": "code",
   "execution_count": 1,
   "metadata": {},
   "outputs": [
    {
     "name": "stdout",
     "output_type": "stream",
     "text": [
      "Winning ratio with fair coin: 37.25%\n",
      "Winning ratio with rigged coin: 41.11%\n"
     ]
    }
   ],
   "source": [
    "import random\n",
    "\n",
    "# Function to simulate one game\n",
    "def play_game(rigged=False):\n",
    "    # Determine the probability of getting heads\n",
    "    prob_heads = 0.55 if rigged else 0.5\n",
    "    \n",
    "    flips = [random.random() < prob_heads for _ in range(3)]\n",
    "    return flips.count(True) == 2  # Returns True if player wins, False otherwise\n",
    "\n",
    "# Function to simulate multiple games\n",
    "def simulate_games(num_games=10000, rigged=False):\n",
    "    wins = sum(play_game(rigged) for _ in range(num_games))\n",
    "    return wins / num_games\n",
    "\n",
    "# Simulating both scenarios\n",
    "fair_coin_win_ratio = simulate_games()\n",
    "rigged_coin_win_ratio = simulate_games(rigged=True)\n",
    "\n",
    "print(f\"Winning ratio with fair coin: {fair_coin_win_ratio * 100:.2f}%\")\n",
    "print(f\"Winning ratio with rigged coin: {rigged_coin_win_ratio * 100:.2f}%\")\n",
    "\n"
   ]
  },
  {
   "cell_type": "code",
   "execution_count": null,
   "metadata": {},
   "outputs": [],
   "source": []
  }
 ],
 "metadata": {
  "kernelspec": {
   "display_name": "base",
   "language": "python",
   "name": "python3"
  },
  "language_info": {
   "codemirror_mode": {
    "name": "ipython",
    "version": 3
   },
   "file_extension": ".py",
   "mimetype": "text/x-python",
   "name": "python",
   "nbconvert_exporter": "python",
   "pygments_lexer": "ipython3",
   "version": "3.9.7"
  },
  "orig_nbformat": 4
 },
 "nbformat": 4,
 "nbformat_minor": 2
}
